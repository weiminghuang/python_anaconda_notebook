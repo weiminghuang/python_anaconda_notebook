{
 "cells": [
  {
   "cell_type": "code",
   "execution_count": 8,
   "metadata": {},
   "outputs": [
    {
     "name": "stdout",
     "output_type": "stream",
     "text": [
      "Hai,my name is LIU YING\n",
      "Hai,my name is MICHI STANGLE\n"
     ]
    }
   ],
   "source": [
    "# 属性案例\n",
    "# 创建一个Student类，描述学生\n",
    "# 学生具有Student.name属性\n",
    "# 但name格式并不统一\n",
    "# 可以增加一个函数，然后 自动调用的方法，但是这么做很蠢\n",
    "class Student():\n",
    "    def __init__(self,name,age):\n",
    "        self.name = name\n",
    "        self.age = age \n",
    "        # 如果我不想改变代码\n",
    "        self.setName(name)\n",
    "    # 介绍一下自己\n",
    "    def intro(self):\n",
    "        print(\"Hai,my name is {0}\".format(self.name))\n",
    "    def setName(self,name):\n",
    "        self.name = name.upper()\n",
    "s1 = Student(\"LIU YING\",19)\n",
    "s2 = Student(\"michi stangle\",24)\n",
    "s1.intro()\n",
    "s2.intro()"
   ]
  },
  {
   "cell_type": "code",
   "execution_count": 17,
   "metadata": {},
   "outputs": [],
   "source": [
    "# peoperty案例\n",
    "# 定义一个Person类，具有name,age属性\n",
    "# 对于任意输入的姓名，我们希望都用大写方式保存\n",
    "# 年龄，我们希望内部统一用整数保存\n",
    "# x = property(fget,fset,fdel,doc)\n",
    "class Person():\n",
    "    '''\n",
    "    这是一个人，一个高尚的人，一个脱离低级趣味的人\n",
    "    还他妈的有属性\n",
    "    '''\n",
    "    # 函数的名称可以任意\n",
    "    def fget(self):\n",
    "        return self._name*2\n",
    "    def fset(self,name):\n",
    "        # 所有输入的姓名以大写形式保存\n",
    "        self._name= name.upper()\n",
    "    def fdel(self):\n",
    "        self._name = \"NoName\"\n",
    "    name = property(fget,fset,fdel,\"对name进行操作啦\")\n",
    "# 作业\n",
    "# 1.在用户输入年龄的时候，可以输入整数，小数，浮点数\n",
    "# 2.但内部为了数据清洁，我们同一需要保存整数，直接舍去小数点"
   ]
  },
  {
   "cell_type": "code",
   "execution_count": 13,
   "metadata": {},
   "outputs": [
    {
     "name": "stdout",
     "output_type": "stream",
     "text": [
      "TULINGTULING\n"
     ]
    }
   ],
   "source": [
    "p1 = Person()\n",
    "p1.name = \"Tuling\"\n",
    "print(p1.name)"
   ]
  },
  {
   "cell_type": "code",
   "execution_count": 20,
   "metadata": {},
   "outputs": [
    {
     "name": "stdout",
     "output_type": "stream",
     "text": [
      "{'__module__': '__main__', '__doc__': '\\n    这是一个人，一个高尚的人，一个脱离低级趣味的人\\n    还他妈的有属性\\n    ', 'fget': <function Person.fget at 0x0000025ED04FEA60>, 'fset': <function Person.fset at 0x0000025ED04FEBF8>, 'fdel': <function Person.fdel at 0x0000025ED04FE620>, 'name': <property object at 0x0000025ED052BC78>, '__dict__': <attribute '__dict__' of 'Person' objects>, '__weakref__': <attribute '__weakref__' of 'Person' objects>}\n",
      "\n",
      "    这是一个人，一个高尚的人，一个脱离低级趣味的人\n",
      "    还他妈的有属性\n",
      "    \n",
      "Person\n",
      "(<class 'object'>,)\n"
     ]
    }
   ],
   "source": [
    "#类的内置属性距离\n",
    "print(Person.__dict__)#打印类的成员属性\n",
    "print(Person.__doc__)#答应类的文档信息\n",
    "print(Person.__name__)#打印类的名称\n",
    "print(Person.__bases__)# 获取某个类的父类，以元组的方式显示"
   ]
  },
  {
   "cell_type": "code",
   "execution_count": 24,
   "metadata": {},
   "outputs": [
    {
     "name": "stdout",
     "output_type": "stream",
     "text": [
      "哈哈，我被调用了\n"
     ]
    }
   ],
   "source": [
    "# init 距离\n",
    "class A():\n",
    "    def __init__(self,name = 0):\n",
    "        print(\"哈哈，我被调用了\")\n",
    "a = A()\n"
   ]
  },
  {
   "cell_type": "code",
   "execution_count": 30,
   "metadata": {},
   "outputs": [
    {
     "name": "stdout",
     "output_type": "stream",
     "text": [
      "哈哈，我被调用了\n",
      "hahhh,我被调用了\n"
     ]
    }
   ],
   "source": [
    "# __call__举例 ,只有定义了__call__函数才能把类对象当成函数使用\n",
    "class A():\n",
    "    def __init__(self,name = 0):\n",
    "        print(\"哈哈，我被调用了\")\n",
    "    def __call__(self):\n",
    "        print(\"hahhh,我被调用了\")\n",
    "a = A()\n",
    "a()"
   ]
  },
  {
   "cell_type": "code",
   "execution_count": 31,
   "metadata": {},
   "outputs": [
    {
     "name": "stdout",
     "output_type": "stream",
     "text": [
      "哈哈哈，我被调用了\n",
      "<__main__.A object at 0x0000025ED05301D0>\n"
     ]
    }
   ],
   "source": [
    "# __str__举例 当类的实例被当作字符串使用的时候\n",
    "class A():\n",
    "    def __init__(self,name = 0):\n",
    "        print(\"哈哈哈，我被调用了\")\n",
    "    def __call__(self):\n",
    "        print(\"hahhh,我被调用了\")\n",
    "    def __call__(self):\n",
    "        return \"图灵学院的例子\" \n",
    "a = A()\n",
    "print(a)"
   ]
  },
  {
   "cell_type": "code",
   "execution_count": 36,
   "metadata": {},
   "outputs": [
    {
     "name": "stdout",
     "output_type": "stream",
     "text": [
      "NoName\n",
      "没找到该属性addr\n",
      "None\n"
     ]
    }
   ],
   "source": [
    "# __getattr__\n",
    "class A():\n",
    "    name = \"NoName\"\n",
    "    age = 18\n",
    "    def __getattr__(self,name):\n",
    "        print(\"没找到该属性{0}\".format(name))\n",
    " \n",
    "a = A()\n",
    "print(a.name)\n",
    "print(a.addr)\n",
    "# 作用：\n",
    "# 为什么会打印第四句化"
   ]
  },
  {
   "cell_type": "code",
   "execution_count": 39,
   "metadata": {},
   "outputs": [
    {
     "name": "stdout",
     "output_type": "stream",
     "text": [
      "{}\n",
      "设置属性：age\n"
     ]
    }
   ],
   "source": [
    "#__setattr__案例\n",
    "class Person():\n",
    "    def __init__(self):\n",
    "        pass\n",
    "    def __setattr__(self,name,value):\n",
    "        print(\"设置属性：{0}\".format(name))\n",
    "        # 下面语句会导致问题，死循环\n",
    "        #self.name = value\n",
    "        # 此种情况,为了避免死循环，规定调用父类魔法函数\n",
    "        super().__setattr__(name,value)\n",
    "p = Person()\n",
    "print(p.__dict__)\n",
    "p.age = 18"
   ]
  },
  {
   "cell_type": "code",
   "execution_count": 46,
   "metadata": {},
   "outputs": [
    {
     "name": "stdout",
     "output_type": "stream",
     "text": [
      "哈哈，one会比two大吗？\n",
      "False\n"
     ]
    }
   ],
   "source": [
    "# __gt__\n",
    "class Student():\n",
    "    def __init__(self,name):\n",
    "        self.name = name \n",
    "    def __gt__(self,obj):\n",
    "        print(\"哈哈，{0}会比{1}大吗？\".format(self.name,obj.name))\n",
    "        return self.name > obj.name\n",
    "stu1 = Student(\"one\")\n",
    "stu2 = Student(\"two\")\n",
    "print(stu1 > stu2)"
   ]
  },
  {
   "cell_type": "code",
   "execution_count": 52,
   "metadata": {},
   "outputs": [
    {
     "name": "stdout",
     "output_type": "stream",
     "text": [
      "<__main__.Person object at 0x0000025ED0487F98>\n",
      "Eating......\n",
      "<class '__main__.Person'>\n",
      "Playing......\n",
      "<class '__main__.Person'>\n",
      "Playing......\n",
      "Saying.....\n",
      "Saying.....\n"
     ]
    }
   ],
   "source": [
    "# 三种方法案例\n",
    "class Person:\n",
    "    # 实例方法\n",
    "    def eat(self):\n",
    "        print(self)\n",
    "        print(\"Eating......\")\n",
    "    # 类方法\n",
    "    # 类方法的第一个参数，一般命名为cls,区别于self\n",
    "    @classmethod\n",
    "    def play(cls):\n",
    "        print(cls)\n",
    "        print(\"Playing......\")\n",
    "    # 静态方法\n",
    "    # 不需要用第一个参数表示自身或者类\n",
    "    @staticmethod\n",
    "    def say():\n",
    "        print(\"Saying.....\")\n",
    "\n",
    "yueyue = Person()\n",
    "# 实例方法\n",
    "yueyue.eat()\n",
    "#类方法\n",
    "Person.play()\n",
    "yueyue.play()\n",
    "# 今天方法\n",
    "Person.say()\n",
    "yueyue.say()\n",
    "# 作业：\n",
    "# 自行 查找三种方法内存使用方面的区别"
   ]
  }
 ],
 "metadata": {
  "kernelspec": {
   "display_name": "Python 3",
   "language": "python",
   "name": "python3"
  },
  "language_info": {
   "codemirror_mode": {
    "name": "ipython",
    "version": 3
   },
   "file_extension": ".py",
   "mimetype": "text/x-python",
   "name": "python",
   "nbconvert_exporter": "python",
   "pygments_lexer": "ipython3",
   "version": "3.6.5"
  }
 },
 "nbformat": 4,
 "nbformat_minor": 2
}
