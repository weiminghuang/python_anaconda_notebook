{
 "cells": [
  {
   "cell_type": "markdown",
   "metadata": {},
   "source": [
    "汉诺塔规则：\n",
    "1 每次只能移动一个盒子\n",
    "2 任何一次移动，三个塔的状态\n",
    "必须是小盒子在上，大盒子在下"
   ]
  },
  {
   "cell_type": "markdown",
   "metadata": {},
   "source": [
    "汉诺塔问题\n",
    "规则:\n",
    "    1、每次移动一个盘子\n",
    "    2、任何时候大盘子在下面，小盘子在上面\n",
    "方法:\n",
    "    1、 n=1：直接把A上的一个盘子移动到c上，A->c\n",
    "    2、 n=2:\n",
    "        A、把小盘子从A放到B 上，A->B\n",
    "        B、把大盘子从A放到C上，A->C\n",
    "        C、把小胖子从B放到C上,B->c\n",
    "    3、 n=3：\n",
    "        A、把A上的两个胖子，通过C移动到B上去，调用递归实现\n",
    "        B、把A上剩下的一个最大盒子移动到C上去，A->C\n",
    "        C、把B上两个盘子，借助于A,移到C上去，调用递归\n",
    "    4、 n=n:\n",
    "        A.把A上的n-1个盘子，借助于C,移动到B上去，调用递归\n",
    "        B.把A上的最大盘子，也是唯一一个，移动到C上，A->C\n",
    "        C.把B上的n-1个盘子，借助于A,移动到C上，调用递归\n",
    "        \n",
    "        "
   ]
  },
  {
   "cell_type": "code",
   "execution_count": 9,
   "metadata": {},
   "outputs": [
    {
     "name": "stdout",
     "output_type": "stream",
     "text": [
      "A --> C\n"
     ]
    }
   ],
   "source": [
    "def hano(n,a,b,c):\n",
    "    '''\n",
    "    汉偌塔的递归实现\n",
    "    n:代表几个盘子\n",
    "    a:代表第一个塔,开始的塔\n",
    "    b:代表第二个塔,中间过渡的塔\n",
    "    c:代表第三个塔,目标塔\n",
    "    '''\n",
    "    if n == 1:\n",
    "        print(a,\"-->\",c)\n",
    "        return None\n",
    "    if n == 2:\n",
    "        print(a,\"-->\",b)\n",
    "        print(a,\"-->\",c)\n",
    "        print(a,\"-->\",c)\n",
    "    #把n-1个盘子，从a塔借助于c塔，挪到b塔上去\n",
    "    hano(n-1,a,c,b)\n",
    "    print(a,\"-->\",c)\n",
    "    #把n-1个盘子，从b塔，借助于a塔，挪到c塔上去\n",
    "    hano(n-1,b,a,c)\n",
    "a = \"A\"\n",
    "b = \"B\"\n",
    "c = \"C\"\n",
    "n = 1\n",
    "hano(n,a,b,c)"
   ]
  },
  {
   "cell_type": "markdown",
   "metadata": {},
   "source": [
    "# List(列表)\n",
    "- del：删除"
   ]
  },
  {
   "cell_type": "code",
   "execution_count": 1,
   "metadata": {},
   "outputs": [
    {
     "name": "stdout",
     "output_type": "stream",
     "text": [
      "2346114180936\n",
      "[1, 2, 4, 5, 5]\n"
     ]
    }
   ],
   "source": [
    "#del 删除\n",
    "a = [1,2,3,4,5,5]\n",
    "print(id(a))\n",
    "del a[2]\n",
    "print(a)"
   ]
  },
  {
   "cell_type": "code",
   "execution_count": 6,
   "metadata": {},
   "outputs": [
    {
     "name": "stdout",
     "output_type": "stream",
     "text": [
      "2346114182024\n",
      "2346114182024\n",
      "[1, 2, 4, 5, 6]\n"
     ]
    }
   ],
   "source": [
    "#del 删除\n",
    "# 如果使用del之后，id 和删除之前不一样，则说明删除生成了一个新的list\n",
    "a = [1,2,3,4,5,6]\n",
    "print(id(a))\n",
    "del a[2]\n",
    "print(id(a))\n",
    "print(a)"
   ]
  },
  {
   "cell_type": "code",
   "execution_count": 7,
   "metadata": {},
   "outputs": [
    {
     "ename": "NameError",
     "evalue": "name 'a' is not defined",
     "output_type": "error",
     "traceback": [
      "\u001b[1;31m---------------------------------------------------------------------------\u001b[0m",
      "\u001b[1;31mNameError\u001b[0m                                 Traceback (most recent call last)",
      "\u001b[1;32m<ipython-input-7-c9b9f14b3465>\u001b[0m in \u001b[0;36m<module>\u001b[1;34m()\u001b[0m\n\u001b[0;32m      1\u001b[0m \u001b[1;31m#del 一个变量后不能在继续使用此变量\u001b[0m\u001b[1;33m\u001b[0m\u001b[1;33m\u001b[0m\u001b[0m\n\u001b[0;32m      2\u001b[0m \u001b[1;32mdel\u001b[0m \u001b[0ma\u001b[0m\u001b[1;33m\u001b[0m\u001b[0m\n\u001b[1;32m----> 3\u001b[1;33m \u001b[0mprint\u001b[0m\u001b[1;33m(\u001b[0m\u001b[0ma\u001b[0m\u001b[1;33m)\u001b[0m\u001b[1;33m\u001b[0m\u001b[0m\n\u001b[0m",
      "\u001b[1;31mNameError\u001b[0m: name 'a' is not defined"
     ]
    }
   ],
   "source": [
    "#del 一个变量后不能在继续使用此变量\n",
    "del a\n",
    "print(a)"
   ]
  },
  {
   "cell_type": "code",
   "execution_count": 9,
   "metadata": {},
   "outputs": [
    {
     "name": "stdout",
     "output_type": "stream",
     "text": [
      "[1, 2, 3, 4, 5, 6, 5, 7, 8, 9, 'a', 'b', 'c', 'd']\n"
     ]
    }
   ],
   "source": [
    "a = [1,2,3,4,5,6]\n",
    "b = [5,7,8,9]\n",
    "d =['a','b','c','d']\n",
    "c = a + b + d\n",
    "print(c)"
   ]
  },
  {
   "cell_type": "code",
   "execution_count": 10,
   "metadata": {},
   "outputs": [
    {
     "name": "stdout",
     "output_type": "stream",
     "text": [
      "[1, 2, 3, 4, 5, 1, 2, 3, 4, 5, 1, 2, 3, 4, 5]\n"
     ]
    }
   ],
   "source": [
    "# 使用乘号操作列表\n",
    "#列表直接更一个整数想乘\n",
    "#相当于把n个列表接在一起\n",
    "a = [1,2,3,4,5]\n",
    "b = a*3\n",
    "print(b)"
   ]
  },
  {
   "cell_type": "code",
   "execution_count": 11,
   "metadata": {},
   "outputs": [
    {
     "name": "stdout",
     "output_type": "stream",
     "text": [
      "False\n",
      "True\n"
     ]
    }
   ],
   "source": [
    "# 成员资格运算\n",
    "# 就是判断一个元素是否在list中,使用in\n",
    "a  = [1,2,3,4,5,6]\n",
    "b = 8\n",
    "# c的值是一个布尔值\n",
    "c = b in a\n",
    "print(c)\n",
    "b = 4\n",
    "print(b in a)"
   ]
  },
  {
   "cell_type": "code",
   "execution_count": 12,
   "metadata": {},
   "outputs": [
    {
     "name": "stdout",
     "output_type": "stream",
     "text": [
      "True\n"
     ]
    }
   ],
   "source": [
    "# not in\n",
    "a = [1,2,3,4,5]\n",
    "b = 0\n",
    "print(b not in a)"
   ]
  },
  {
   "cell_type": "markdown",
   "metadata": {},
   "source": [
    "# 链表的遍历\n",
    "- for\n",
    "- while"
   ]
  },
  {
   "cell_type": "code",
   "execution_count": 15,
   "metadata": {},
   "outputs": [
    {
     "name": "stdout",
     "output_type": "stream",
     "text": [
      "1\n",
      "2\n",
      "3\n",
      "4\n",
      "5\n"
     ]
    }
   ],
   "source": [
    "# for in list\n",
    "a = [1,2,3,4,5]\n",
    "# 挨个打印a 里边的元素\n",
    "for i in a:\n",
    "    print(i)"
   ]
  },
  {
   "cell_type": "code",
   "execution_count": 16,
   "metadata": {},
   "outputs": [
    {
     "name": "stdout",
     "output_type": "stream",
     "text": [
      "I love wangxiaojing\n"
     ]
    }
   ],
   "source": [
    "b = [\"I love wangxiaojing\"]\n",
    "for i in b:\n",
    "    print(i)"
   ]
  },
  {
   "cell_type": "code",
   "execution_count": 19,
   "metadata": {},
   "outputs": [
    {
     "name": "stdout",
     "output_type": "stream",
     "text": [
      "I\n",
      " \n",
      "l\n",
      "o\n",
      "v\n",
      "e\n",
      " \n",
      "y\n",
      "o\n",
      "u\n",
      " \n"
     ]
    }
   ],
   "source": [
    "b = \"I love you \"\n",
    "for i in b:\n",
    "    print(i)"
   ]
  },
  {
   "cell_type": "code",
   "execution_count": 20,
   "metadata": {},
   "outputs": [
    {
     "name": "stdout",
     "output_type": "stream",
     "text": [
      "1\n",
      "2\n",
      "3\n",
      "4\n",
      "5\n",
      "6\n",
      "7\n",
      "8\n",
      "9\n",
      "<class 'range'>\n"
     ]
    }
   ],
   "source": [
    "# range\n",
    "# in 后面的变量要求是可迭代的内容\n",
    "for i in range(1,10):\n",
    "    print(i)\n",
    "print(type(range(1,10)))"
   ]
  },
  {
   "cell_type": "code",
   "execution_count": 21,
   "metadata": {},
   "outputs": [
    {
     "name": "stdout",
     "output_type": "stream",
     "text": [
      "1\n",
      "2\n",
      "3\n",
      "4\n",
      "5\n"
     ]
    }
   ],
   "source": [
    "#while 循环访问list\n",
    "#一般不用while遍历list\n",
    "a = [1,2,3,4,5]\n",
    "length = len(a)\n",
    "# indx表示是list的下摆哦\n",
    "indx = 0\n",
    "while indx < length:\n",
    "    print(a[indx])\n",
    "    indx += 1\n"
   ]
  },
  {
   "cell_type": "code",
   "execution_count": 23,
   "metadata": {},
   "outputs": [
    {
     "name": "stdout",
     "output_type": "stream",
     "text": [
      "one -- 1 11\n",
      "two -- 2 22\n",
      "Three -- 3 33\n"
     ]
    }
   ],
   "source": [
    "#双层列表循环\n",
    "#a为嵌套列表，或者叫双层列表\n",
    "a = [[\"one\",1,11],[\"two\",2,22],[\"Three\",3,33]]\n",
    "for k,v,d in a:\n",
    "    print(k,\"--\",v,d)"
   ]
  },
  {
   "cell_type": "code",
   "execution_count": 26,
   "metadata": {},
   "outputs": [
    {
     "name": "stdout",
     "output_type": "stream",
     "text": [
      "one -- 1 --- eins\n",
      "two -- 2 --- zwei\n",
      "Three -- 3 --- drei\n"
     ]
    }
   ],
   "source": [
    "# 双层列表循环变异\n",
    "a = [[\"one\",1,\"eins\"],[\"two\",2,\"zwei\"],[\"Three\",3,\"drei\"]]\n",
    "# 这个例子说明，k,v,w的个数应该跟解包出来的个数一致\n",
    "for k,v,w in a:\n",
    "    print(k,\"--\",v,\"---\",w)"
   ]
  },
  {
   "cell_type": "markdown",
   "metadata": {},
   "source": [
    "# 列表内涵: list content\n",
    "- 通过简单的方法创建列表"
   ]
  },
  {
   "cell_type": "code",
   "execution_count": 27,
   "metadata": {},
   "outputs": [
    {
     "name": "stdout",
     "output_type": "stream",
     "text": [
      "['a', 'b', 'c']\n"
     ]
    }
   ],
   "source": [
    "# for 创建\n",
    "a = [\"a\",\"b\",\"c\"]\n",
    "# 用list a创建一个list b\n",
    "#下面代码的含义是，对于所有a中的元素，逐个放入新列表中\n",
    "b = [i for i in a]\n",
    "print(b)"
   ]
  },
  {
   "cell_type": "code",
   "execution_count": 28,
   "metadata": {},
   "outputs": [
    {
     "name": "stdout",
     "output_type": "stream",
     "text": [
      "[10, 20, 30, 40, 50, 60]\n"
     ]
    }
   ],
   "source": [
    "# 对a 中的所有元素都乘与10，生成一个新的list\n",
    "a = [1,2,3,4,5,6]\n",
    "# 用list a创建一个list b\n",
    "#下面代码的含义是，对于所有a中的元素，逐个放入新列表中\n",
    "b = [i*10 for i in a]\n",
    "print(b)"
   ]
  },
  {
   "cell_type": "code",
   "execution_count": 29,
   "metadata": {},
   "outputs": [
    {
     "name": "stdout",
     "output_type": "stream",
     "text": [
      "[2, 4, 6, 8, 10, 12, 14, 16, 18, 20, 22, 24, 26, 28, 30, 32, 34]\n"
     ]
    }
   ],
   "source": [
    "#还可以过list 中的内容放入新列表中\n",
    "#比如原有列表a,需要把所有a中的偶数生成新的列表b\n",
    "a = [x for x in range(1,35)]#生成从1到34的一个列表\n",
    "# 把a 中所有偶数生成一个新的列表 b\n",
    "b = [m for m in a if m%2 == 0]\n",
    "print(b)"
   ]
  },
  {
   "cell_type": "code",
   "execution_count": 40,
   "metadata": {},
   "outputs": [
    {
     "name": "stdout",
     "output_type": "stream",
     "text": [
      "[1, 2, 3, 4, 5, 6, 7, 8, 9]\n",
      "[100, 200, 300, 400, 500, 600, 700, 800, 900]\n",
      "[101, 201, 301, 401, 501, 601, 701, 801, 901, 102, 202, 302, 402, 502, 602, 702, 802, 902, 103, 203, 303, 403, 503, 603, 703, 803, 903, 104, 204, 304, 404, 504, 604, 704, 804, 904, 105, 205, 305, 405, 505, 605, 705, 805, 905, 106, 206, 306, 406, 506, 606, 706, 806, 906, 107, 207, 307, 407, 507, 607, 707, 807, 907, 108, 208, 308, 408, 508, 608, 708, 808, 908, 109, 209, 309, 409, 509, 609, 709, 809, 909]\n",
      "101,201,301,401,501,601,701,801,901,102,202,302,402,502,602,702,802,902,103,203,303,403,503,603,703,803,903,104,204,304,404,504,604,704,804,904,105,205,305,405,505,605,705,805,905,106,206,306,406,506,606,706,806,906,107,207,307,407,507,607,707,807,907,108,208,308,408,508,608,708,808,908,109,209,309,409,509,609,709,809,909,\n",
      "[101, 201, 102, 202, 103, 203, 104, 204, 105, 205, 106, 206, 107, 207, 108, 208, 109, 209]\n"
     ]
    }
   ],
   "source": [
    "#列表生成式也可以嵌套\n",
    "# 由两个列表a,b\n",
    "a = [i for i in range(1,10)]#生成list a\n",
    "print(a)\n",
    "b = [i for i in range(100,1000) if i%100 == 0]\n",
    "print(b)\n",
    "# 列表生成可以嵌套，此对等于两个for循环嵌套\n",
    "c = [m+n for m in a for n in b]\n",
    "print(c)\n",
    "for m in a:\n",
    "    for n in b:\n",
    "        print(m+n,end=\",\")\n",
    "print()\n",
    "# 嵌套的列表生城市也可以用条件表达式\n",
    "c =[m+n for m in a for n in b if m+n<250]\n",
    "print(c)"
   ]
  },
  {
   "cell_type": "markdown",
   "metadata": {},
   "source": [
    "# 关于列表的常用函数"
   ]
  },
  {
   "cell_type": "code",
   "execution_count": 45,
   "metadata": {},
   "outputs": [
    {
     "name": "stdout",
     "output_type": "stream",
     "text": [
      "99\n",
      "99\n",
      "python\n",
      "film\n"
     ]
    }
   ],
   "source": [
    "#len :求列表长度\n",
    "a = [x for x in range(1,100)]\n",
    "print(len(a))\n",
    "#max:求列表中的最大值\n",
    "print(max(a))\n",
    "b = ['man','film','python']\n",
    "print(max(b))\n",
    "#min:求列表中的最小值\n",
    "print(min(b))"
   ]
  },
  {
   "cell_type": "code",
   "execution_count": 46,
   "metadata": {},
   "outputs": [
    {
     "name": "stdout",
     "output_type": "stream",
     "text": [
      "[1, 2, 3]\n"
     ]
    }
   ],
   "source": [
    "#list 将其他格式的数据转换成list\n",
    "a =[1,2,3]\n",
    "print(a)"
   ]
  },
  {
   "cell_type": "code",
   "execution_count": 48,
   "metadata": {},
   "outputs": [
    {
     "name": "stdout",
     "output_type": "stream",
     "text": [
      "['I', ' ', 'l', 'o', 'v', 'e', ' ', 'w', 'a', 'n', 'g', 'x', 'i', 'a', 'o', 'j', 'i', 'n', 'g']\n",
      "['I', 'l', 'o', 'v', 'e', 'w', 'a', 'n', 'g', 'x', 'i', 'a', 'o', 'j', 'i', 'n', 'g']\n"
     ]
    }
   ],
   "source": [
    "s = \"I love wangxiaojing\"\n",
    "print(list(s))\n",
    "print([i for i in s if i !=' '])"
   ]
  },
  {
   "cell_type": "code",
   "execution_count": 49,
   "metadata": {},
   "outputs": [
    {
     "name": "stdout",
     "output_type": "stream",
     "text": [
      "[12, 13, 14, 15, 16, 17, 18]\n"
     ]
    }
   ],
   "source": [
    "#把range产的内容转换成list\n",
    "print(list(range(12,19)))"
   ]
  }
 ],
 "metadata": {
  "kernelspec": {
   "display_name": "Python 3",
   "language": "python",
   "name": "python3"
  },
  "language_info": {
   "codemirror_mode": {
    "name": "ipython",
    "version": 3
   },
   "file_extension": ".py",
   "mimetype": "text/x-python",
   "name": "python",
   "nbconvert_exporter": "python",
   "pygments_lexer": "ipython3",
   "version": "3.6.5"
  }
 },
 "nbformat": 4,
 "nbformat_minor": 2
}
