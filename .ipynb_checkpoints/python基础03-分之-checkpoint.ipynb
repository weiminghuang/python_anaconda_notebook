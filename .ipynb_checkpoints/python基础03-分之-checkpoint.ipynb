{
 "cells": [
  {
   "cell_type": "markdown",
   "metadata": {},
   "source": [
    "三大结构\n",
    ".顺序\n",
    ".分支\n",
    ".循环\n",
    "# 分支\n",
    "- 分支的基本语法\n",
    "    if 条件表达式:\n",
    "        语句1\n",
    "        语句2\n",
    "        语句3\n",
    "        ...\n",
    "    - 条件表达式就是计算结果必须为布尔值的表达式\n",
    "    - 表达式后的冒不能少\n",
    "    - 注意if 后面的出现的语句，如果属于if语句块(:后面连续的同一缩近的代码)，则必须同一个索紧等级\n",
    "    - 表达式子结果为 True 执行后买你的缩进的语句块"
   ]
  },
  {
   "cell_type": "code",
   "execution_count": 1,
   "metadata": {},
   "outputs": [
    {
     "name": "stdout",
     "output_type": "stream",
     "text": [
      "去叫家长吧，孩子\n",
      "我们不带你玩\n",
      "滚球的\n"
     ]
    }
   ],
   "source": [
    "#if 语句练习\n",
    "# 如果age 小于18 岁，则打印信息 “去找家长”\n",
    "age=17\n",
    "if age < 18:\n",
    "    print(\"去叫家长吧，孩子\")\n",
    "    print(\"我们不带你玩\")\n",
    "    print(\"滚球的\")"
   ]
  },
  {
   "cell_type": "code",
   "execution_count": 3,
   "metadata": {},
   "outputs": [
    {
     "name": "stdout",
     "output_type": "stream",
     "text": [
      "开始上车咯，老司机们\n"
     ]
    }
   ],
   "source": [
    "#if 语句练习\n",
    "# 如果age 大于18 岁，则跳过if语句块，执行if语句的下一句话(与if语句平齐的下一句话)打印信息 “开始上车咯，老司机们”\n",
    "age=19\n",
    "if age < 18:\n",
    "    print(\"去叫家长吧，孩子\")\n",
    "    print(\"我们不带你玩\")\n",
    "    print(\"滚球的\")\n",
    "print(\"开始上车咯，老司机们\")"
   ]
  },
  {
   "cell_type": "code",
   "execution_count": null,
   "metadata": {},
   "outputs": [],
   "source": [
    "print(\"今天学习for循环\")\n",
    "gender = \"女\"\n",
    "if(gender==\"女\")：\n",
    "    print(\"来，叔叔给你糖吃\")\n",
    "print(\"开始讲for循环\")"
   ]
  },
  {
   "cell_type": "markdown",
   "metadata": {},
   "source": [
    "### 双向分支\n",
    "- if...else...语句\n",
    "    if 条件表达式:\n",
    "        语句1\n",
    "        语句2\n",
    "        ...\n",
    "    else:\n",
    "        语句1\n",
    "        语句2\n",
    "        ...\n",
    "- 双向分支有两个分支，当程序执行到if...else...语句的时候，一定会执行if或else的一个，也仅执行一个\n",
    "- 缩进问题 if 和else 一个层级，其余语句一个层级"
   ]
  },
  {
   "cell_type": "code",
   "execution_count": null,
   "metadata": {},
   "outputs": [],
   "source": [
    "#input的作用是\n",
    "#1.在屏幕上输出括号内的字符串\n",
    "#2.接受用户输入的内容并返回到程序\n",
    "#3. input返回的内容一定是字符串类型\n",
    "gender = input(\"请输入性别:\")\n",
    "print(\"你输入的性别是：{0}\".format(gender))\n",
    "if gender == \"nan\":\n",
    "    print(\"来，我们纪念以下今天吧，代码敲10遍\")\n",
    "else:\n",
    "    print(\"发糖咯发糖咯\")\n",
    "print(\"开始上课咯\")"
   ]
  },
  {
   "cell_type": "code",
   "execution_count": null,
   "metadata": {},
   "outputs": [],
   "source": [
    "#考试成绩判断\n",
    "# 90以上： 输出优秀\n",
    "# 80-90：良\n",
    "# 70-80：中\n",
    "# 60-70：平\n",
    "# 60以下: 输出：我没有你这个学生"
   ]
  },
  {
   "cell_type": "code",
   "execution_count": null,
   "metadata": {},
   "outputs": [],
   "source": [
    "#score存放学生成绩\n",
    "score= input(\"请输入学生成绩：\")\n",
    "if score>90:\n",
    "    print(\"A\")\n",
    "if score >= 80\n",
    "    print(\"B\")\n",
    "if score >= 70\n",
    "    print(\"c\")\n",
    "if score >= 60\n",
    "    print(\"D\")\n",
    "if score < 60\n",
    "    print(\"起开,我没你这个学生\")"
   ]
  }
 ],
 "metadata": {
  "kernelspec": {
   "display_name": "Python 3",
   "language": "python",
   "name": "python3"
  },
  "language_info": {
   "codemirror_mode": {
    "name": "ipython",
    "version": 3
   },
   "file_extension": ".py",
   "mimetype": "text/x-python",
   "name": "python",
   "nbconvert_exporter": "python",
   "pygments_lexer": "ipython3",
   "version": "3.6.5"
  }
 },
 "nbformat": 4,
 "nbformat_minor": 2
}
