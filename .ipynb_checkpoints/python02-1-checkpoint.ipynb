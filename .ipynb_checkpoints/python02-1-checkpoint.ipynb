{
 "cells": [
  {
   "cell_type": "code",
   "execution_count": null,
   "metadata": {},
   "outputs": [],
   "source": [
    "#赋值运算符\n",
    "# =，赋值\n",
    "a = 0\n",
    "c = a = 4\n",
    "# +=，是缩写\n",
    "a = 0\n",
    "a += 7 # a = a+7的缩写\n",
    "print(a)\n",
    "# 所有数学运算符都有缩写形式\n",
    "# .=,*=,/=,//=,%=, **= 都是缩写"
   ]
  },
  {
   "cell_type": "markdown",
   "metadata": {},
   "source": [
    "# 逻辑运算符\n",
    "- 对布尔值进行计算的符号\n",
    "- and 逻辑与\n",
    "- or 逻辑或\n",
    "- not 逻辑非\n",
    "- python 中逻辑运算没有异或运算\n",
    "- 运算规则：\n",
    "    - and 看作乘法，or看作加分\n",
    "     - True 看作1，False 看作2\n",
    "     - 则逻辑运算就能转换成整数数学运算\n",
    "     - 最后结果如果是0则False,否则为True\n",
    "- 逻辑运算的短路问题\n",
    "     - 逻辑运算式，按照运算顺序计算，一旦能够确定整个式子未来的值，则不再进行计算，直接返回"
   ]
  },
  {
   "cell_type": "code",
   "execution_count": 2,
   "metadata": {},
   "outputs": [
    {
     "name": "stdout",
     "output_type": "stream",
     "text": [
      "True\n",
      "True\n"
     ]
    }
   ],
   "source": [
    "#逻辑运算符案例\n",
    "a = True\n",
    "b = False\n",
    "c = True\n",
    "d= a and b or c\n",
    "# 以下式子等价于 1*0+1\n",
    "print(d)\n",
    "d= a or b or a and a\n",
    "print(d)"
   ]
  },
  {
   "cell_type": "code",
   "execution_count": 3,
   "metadata": {},
   "outputs": [
    {
     "ename": "SyntaxError",
     "evalue": "invalid syntax (<ipython-input-3-25e3c99990bd>, line 6)",
     "output_type": "error",
     "traceback": [
      "\u001b[1;36m  File \u001b[1;32m\"<ipython-input-3-25e3c99990bd>\"\u001b[1;36m, line \u001b[1;32m6\u001b[0m\n\u001b[1;33m    a=a or (b=9 and 6)\u001b[0m\n\u001b[1;37m             ^\u001b[0m\n\u001b[1;31mSyntaxError\u001b[0m\u001b[1;31m:\u001b[0m invalid syntax\n"
     ]
    }
   ],
   "source": [
    "#短路的示例\n",
    "# 下面的逻辑表达式， a的值一定是True,则运算到or的时候，整个表达式不再向下计算\n",
    "a = True or xxxxxxxx\n",
    "# 下面的表达式，如果xxx 中包含有赋值表达式，则结果很难预期\n",
    "# 代码示例(伪代码)\n",
    "b=9\n",
    "a=a or (b=9 and 6)\n",
    "# 假定上面表达式如果美没有语法错误\n",
    "# 则b 最终的值应该是0而不是9\n",
    "print(b)\n",
    "print(a)"
   ]
  },
  {
   "cell_type": "markdown",
   "metadata": {},
   "source": [
    "# 成员运算符号\n",
    "- 用来检测某一个变量是否是另一个变量的成员\n",
    "- in\n",
    "- not in"
   ]
  },
  {
   "cell_type": "code",
   "execution_count": 4,
   "metadata": {},
   "outputs": [
    {
     "name": "stdout",
     "output_type": "stream",
     "text": [
      "False\n",
      "True\n"
     ]
    }
   ],
   "source": [
    "# 案例\n",
    "l=[1,2,3,4,5]\n",
    "a = 7\n",
    "b = a in l\n",
    "print(b)\n",
    "a = 4\n",
    "print(a in l)"
   ]
  },
  {
   "cell_type": "markdown",
   "metadata": {},
   "source": [
    "## 身份运算\n",
    "- is： 用来检测两个变量是否是同一个变量（同一个变量并不值一定相等）,是不是指向同一个内存单元\n",
    "    - 语法就是 var1 is var2\n",
    "- is not ：两个变量不是同一个变量"
   ]
  },
  {
   "cell_type": "code",
   "execution_count": 5,
   "metadata": {},
   "outputs": [
    {
     "name": "stdout",
     "output_type": "stream",
     "text": [
      "True\n",
      "False\n"
     ]
    }
   ],
   "source": [
    "a=9\n",
    "b=9\n",
    "print(a is b)\n",
    "a = \"I love wangxiaojing\"\n",
    "b= \"I love wangxiaojing\"\n",
    "print(a is b)"
   ]
  },
  {
   "cell_type": "markdown",
   "metadata": {},
   "source": [
    "## 运算符的优先级问题\n",
    "- 永远记住，括号具有最高优先级\n",
    "- 优先级表格\n",
    "** 指数(最高优先级)\n",
    "~ + - 按位翻转，一元加号或减号（最后连个的方法名为 +@ 或-@）\n",
    "* / % // 乘，除，取模和取整除\n",
    "+ - 加法减法\n",
    ">> << 右移，左移运算符\n",
    "&  位 'AND'\n",
    "^ | 位运算符\n",
    "<= < > >= 比较运算符\n",
    "<> == != 等于运算符\n",
    "= %= /= //= -= == *= **= 赋值运算符\n",
    "is is not 身份运算符\n",
    "in not in 成员运算符\n",
    "not or and 逻辑运算符"
   ]
  },
  {
   "cell_type": "markdown",
   "metadata": {},
   "source": [
    "# 程序结构\n",
    "- 顺序\n",
    "- 分支\n",
    "- 循环\n"
   ]
  }
 ],
 "metadata": {
  "kernelspec": {
   "display_name": "Python 3",
   "language": "python",
   "name": "python3"
  },
  "language_info": {
   "codemirror_mode": {
    "name": "ipython",
    "version": 3
   },
   "file_extension": ".py",
   "mimetype": "text/x-python",
   "name": "python",
   "nbconvert_exporter": "python",
   "pygments_lexer": "ipython3",
   "version": "3.6.5"
  }
 },
 "nbformat": 4,
 "nbformat_minor": 2
}
