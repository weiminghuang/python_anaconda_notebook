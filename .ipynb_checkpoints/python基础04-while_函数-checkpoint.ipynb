{
 "cells": [
  {
   "cell_type": "code",
   "execution_count": 6,
   "metadata": {},
   "outputs": [
    {
     "name": "stdout",
     "output_type": "stream",
     "text": [
      "++++-\n"
     ]
    }
   ],
   "source": [
    "for i in []:\n",
    "    print(\"---\")\n",
    "else:\n",
    "    print(\"++++-\")"
   ]
  },
  {
   "cell_type": "markdown",
   "metadata": {},
   "source": [
    "# while循环\n",
    "- 一个循环语句\n",
    "- 表示当某条件成立的时候，就循环\n",
    "- 不知道距离循环次数，但能确定循环的成立条件的时候用while 循环\n",
    "- while 语法：\n",
    "        \n",
    "        while 条件表达式:\n",
    "            语句块\n",
    "        #另外一种表达方法\n",
    "        while 条件表达式:\n",
    "            语句块1\n",
    "        else:\n",
    "            语句块2\n",
    "            "
   ]
  },
  {
   "cell_type": "code",
   "execution_count": 8,
   "metadata": {},
   "outputs": [
    {
     "name": "stdout",
     "output_type": "stream",
     "text": [
      "第1年拿了106700.0块钱\n",
      "第2年拿了113848.9块钱\n",
      "第3年拿了121476.77629999998块钱\n",
      "第4年拿了129615.72031209998块钱\n",
      "第5年拿了138299.97357301068块钱\n",
      "第6年拿了147566.07180240238块钱\n",
      "第7年拿了157452.99861316333块钱\n",
      "第8年拿了168002.34952024528块钱\n",
      "第9年拿了179258.5069381017块钱\n",
      "第10年拿了191268.8269029545块钱\n",
      "第11年拿了204083.83830545243块钱\n"
     ]
    }
   ],
   "source": [
    "# 如果说年利率是6.7%，本利是每年翻滚,则多少年后本钱会翻倍\n",
    "benqian = 100000\n",
    "year = 0\n",
    "while benqian < 200000:\n",
    "    benqian = benqian * (1 + 0.067)\n",
    "    year += 1 \n",
    "    print(\"第{0}年拿了{1}块钱\".format(year,benqian))"
   ]
  },
  {
   "cell_type": "code",
   "execution_count": 9,
   "metadata": {},
   "outputs": [
    {
     "name": "stdout",
     "output_type": "stream",
     "text": [
      "第1年拿了106700.0块钱\n",
      "第2年拿了113848.9块钱\n",
      "第3年拿了121476.77629999998块钱\n",
      "第4年拿了129615.72031209998块钱\n",
      "第5年拿了138299.97357301068块钱\n",
      "第6年拿了147566.07180240238块钱\n",
      "第7年拿了157452.99861316333块钱\n",
      "第8年拿了168002.34952024528块钱\n",
      "第9年拿了179258.5069381017块钱\n",
      "第10年拿了191268.8269029545块钱\n",
      "第11年拿了204083.83830545243块钱\n"
     ]
    }
   ],
   "source": [
    "# 如果说年利率是6.7%，本利是每年翻滚,则多少年后本钱会翻倍\n",
    "# 如果拿到钱翻倍，则print庆祝以下\n",
    "benqian = 100000\n",
    "year = 0\n",
    "while benqian < 200000:\n",
    "    benqian = benqian * (1 + 0.067)\n",
    "    year += 1 \n",
    "    print(\"第{0}年拿了{1}块钱\".format(year,benqian))\n",
    "else:\n",
    "    print(\"大爷的，终于翻倍了，10多年呀\")\n",
    "    print(\"当年10万可以盖个房子,现在儿子结婚，20万可以给他盖个厨房了\")"
   ]
  },
  {
   "cell_type": "markdown",
   "metadata": {},
   "source": [
    " # 函数：\n",
    " - 代码的一种组织形式\n",
    " - 一个函数一般完成一项特定的功能\n",
    " - 函数的使用  \n",
    "     - 函数需要先定义\n",
    "     - 使用函数，俗称调用\n",
    " "
   ]
  },
  {
   "cell_type": "code",
   "execution_count": 15,
   "metadata": {},
   "outputs": [],
   "source": [
    "#定义一个函数\n",
    "#知识定义的话不会执行\n",
    "#1, def 关键字，后跟-个空格\n",
    "#2，函数铭，自己定义，起名需要遵循命名规则，约定俗成，大驼峰只给类\n",
    "#3 后面括号和冒号不能省，括号内可以由参数\n",
    "#4，函数内所有代码缩进\n",
    "def func():\n",
    "    print(\"我是一个函数\")\n",
    "    print(\"我要完成一定的功能\")\n",
    "    print(\"我结束了\")"
   ]
  },
  {
   "cell_type": "code",
   "execution_count": 14,
   "metadata": {},
   "outputs": [
    {
     "name": "stdout",
     "output_type": "stream",
     "text": [
      "我是一个函数\n",
      "我要完成一定的功能\n",
      "我结束了\n"
     ]
    }
   ],
   "source": [
    "# 函数调用\n",
    "#直接函数名后面跟括号\n",
    "func()"
   ]
  },
  {
   "cell_type": "markdown",
   "metadata": {},
   "source": [
    "## 函数的参数和返回值\n",
    "- 参数：负责给函数传递一些必要的数据或者信息\n",
    "    - 形参（形式参数）：在函数定义的时候用到的参数没有具体值,只是一个占位的符号，成为形参\n",
    "    - 实参 （实际参数）:在调用函数的时候输入的值\n",
    "- 返回值：函数的执行结果\n",
    "     - 使用return 关键字\n",
    "     - 如果没有return,默认返回一个None\n",
    "     - 函数一旦执行return语句，则无条件返回，即结束函数的执行"
   ]
  },
  {
   "cell_type": "code",
   "execution_count": 19,
   "metadata": {},
   "outputs": [
    {
     "name": "stdout",
     "output_type": "stream",
     "text": [
      "黄炜铭,你怎么了\n",
      "Sir,你不理我我就走了\n"
     ]
    }
   ],
   "source": [
    "#参数的定义和使用\n",
    "#参数person只是一个符号，代表的是调用的时候的某一个数据\n",
    "#调用的时候，会用p的值代替函数中的所有person\n",
    "def hello(person):\n",
    "    print(\"{0},你怎么了\".format(person))\n",
    "    print(\"Sir,你不理我我就走了\")\n",
    "hello('黄炜铭')"
   ]
  },
  {
   "cell_type": "code",
   "execution_count": 20,
   "metadata": {},
   "outputs": [
    {
     "name": "stdout",
     "output_type": "stream",
     "text": [
      "宝宝,你怎么了\n",
      "Sir,你不理我我就走了\n",
      "我已经宝宝打招呼了，宝宝不里我\n"
     ]
    }
   ],
   "source": [
    "#return 语句的基本使用\n",
    "#函数打完灶户后返回一句话\n",
    "def hello(person):\n",
    "    print(\"{0},你怎么了\".format(person))\n",
    "    print(\"Sir,你不理我我就走了\")\n",
    "    return \"我已经{0}打招呼了，{0}不里我\".format(person)\n",
    "print(hello('宝宝'))"
   ]
  },
  {
   "cell_type": "code",
   "execution_count": 21,
   "metadata": {},
   "outputs": [
    {
     "name": "stdout",
     "output_type": "stream",
     "text": [
      "明月,你怎么了\n"
     ]
    },
    {
     "data": {
      "text/plain": [
       "'哈哈，我提前结束了'"
      ]
     },
     "execution_count": 21,
     "metadata": {},
     "output_type": "execute_result"
    }
   ],
   "source": [
    "#return 案例2\n",
    "def hello(person):\n",
    "    print(\"{0},你怎么了\".format(person))\n",
    "    return \"哈哈，我提前结束了\"\n",
    "    print(\"Sir,你不理我我就走了\")\n",
    "    return \"我已经{0}打招呼了，{0}不里我\".format(person)\n",
    "hello('明月')"
   ]
  }
 ],
 "metadata": {
  "kernelspec": {
   "display_name": "Python 3",
   "language": "python",
   "name": "python3"
  },
  "language_info": {
   "codemirror_mode": {
    "name": "ipython",
    "version": 3
   },
   "file_extension": ".py",
   "mimetype": "text/x-python",
   "name": "python",
   "nbconvert_exporter": "python",
   "pygments_lexer": "ipython3",
   "version": "3.6.5"
  }
 },
 "nbformat": 4,
 "nbformat_minor": 2
}
