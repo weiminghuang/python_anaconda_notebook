{
 "cells": [
  {
   "cell_type": "markdown",
   "metadata": {},
   "source": [
    "# 循环语句\n",
    "- 重复执行某些固定动作或者处理 基本固定的事物\n",
    "- 分类\n",
    "    - for循环\n",
    "    - while 循环\n",
    "## for 循环\n",
    "    - for循环\n",
    "    \n",
    "            for 变量 in 序列:\n",
    "                语句1\n",
    "                语句2\n",
    "                ...\n",
    "               "
   ]
  },
  {
   "cell_type": "code",
   "execution_count": 1,
   "metadata": {},
   "outputs": [
    {
     "name": "stdout",
     "output_type": "stream",
     "text": [
      "张三\n",
      "李四\n",
      "wangwu\n",
      "jingjing\n"
     ]
    }
   ],
   "source": [
    "#列表就是一列数字或者其他值，一般用中括号表示\n",
    "#例如 ['张三','李四','wangwu','jingjing']\n",
    "#打印学生列表姓名\n",
    "for name in ['张三','李四','wangwu','jingjing']:\n",
    "    print(name)"
   ]
  },
  {
   "cell_type": "code",
   "execution_count": 2,
   "metadata": {},
   "outputs": [
    {
     "name": "stdout",
     "output_type": "stream",
     "text": [
      "张三\n",
      "同学我梦不约，不约,同学请自便\n",
      "李四\n",
      "同学我梦不约，不约,同学请自便\n",
      "wangwu\n",
      "同学我梦不约，不约,同学请自便\n",
      "jingjing\n",
      "我的最爱jingjing出现了\n"
     ]
    }
   ],
   "source": [
    "# 打印学生列表姓名\n",
    "# 如果是jingjing,那肯定是我的最爱\n",
    "# 如果是别的学生，那要冷酷的拒绝他\n",
    "for name in ['张三','李四','wangwu','jingjing']:\n",
    "    print(name)\n",
    "    if name == 'jingjing':\n",
    "        print(\"我的最爱{0}出现了\".format(name))\n",
    "    else:\n",
    "        print(\"同学我梦不约，不约,同学请自便\")"
   ]
  },
  {
   "cell_type": "markdown",
   "metadata": {},
   "source": [
    "## range 介绍\n",
    "- 生成一个数字序列\n",
    "- 具体范围可以设定"
   ]
  },
  {
   "cell_type": "code",
   "execution_count": 4,
   "metadata": {},
   "outputs": [
    {
     "name": "stdout",
     "output_type": "stream",
     "text": [
      "1\n",
      "2\n",
      "3\n",
      "4\n",
      "5\n",
      "6\n",
      "7\n",
      "8\n",
      "9\n",
      "10\n"
     ]
    }
   ],
   "source": [
    "# range 练习\n",
    "#打印从1-10 的数字\n",
    "#注意，一般在python 中，如果有表示数字范围的两个数，一般是包含左边数字不包括右边的数字\n",
    "#randint是特例，他左右都包含\n",
    "# range函数在python2 和python3有严重的区别\n",
    "for i in range(1,11):\n",
    "    print(i)"
   ]
  },
  {
   "cell_type": "markdown",
   "metadata": {},
   "source": [
    "# for-else 语句\n",
    "- 当for循环结束的时候，会执行else语句\n",
    "- else语句是可选语句"
   ]
  },
  {
   "cell_type": "code",
   "execution_count": 5,
   "metadata": {},
   "outputs": [
    {
     "name": "stdout",
     "output_type": "stream",
     "text": [
      "张三\n",
      "同学我梦不约，不约,同学请自便\n",
      "李四\n",
      "同学我梦不约，不约,同学请自便\n",
      "wangwu\n",
      "同学我梦不约，不约,同学请自便\n",
      "jingjing\n",
      "我的最爱jingjing出现了\n",
      "别的都不是我学生，不会在爱了\n"
     ]
    }
   ],
   "source": [
    "#for-else 语句\n",
    "#答应列表的同学\n",
    "#如果没有在列表中，或者雷暴结束了，我们需要打印语句，表示不再爱了\n",
    "for name in ['张三','李四','wangwu','jingjing']:\n",
    "    print(name)\n",
    "    if name == 'jingjing':\n",
    "        print(\"我的最爱{0}出现了\".format(name))\n",
    "    else:\n",
    "        print(\"同学我梦不约，不约,同学请自便\")\n",
    "else:\n",
    "    print(\"别的都不是我学生，不会在爱了\")"
   ]
  },
  {
   "cell_type": "code",
   "execution_count": null,
   "metadata": {},
   "outputs": [],
   "source": [
    "## 循环之break continue pass\n",
    "- break; 无条件结束整个循环,简称循环猝死\n",
    "- continue: 无条件结束本次循环，重新进入下一轮循环\n",
    "- pass:表示略过，一般用于站位"
   ]
  },
  {
   "cell_type": "code",
   "execution_count": 9,
   "metadata": {},
   "outputs": [
    {
     "name": "stdout",
     "output_type": "stream",
     "text": [
      "1\n",
      "2\n",
      "3\n",
      "4\n",
      "5\n",
      "6\n",
      "我找到了\n"
     ]
    }
   ],
   "source": [
    "# 在1-10中，寻找数字7，一旦找到，打印出来，其余则什么都不做\n",
    "# for 循环中变量表示，一般用i,k,s,n,或index,idx,item之类\n",
    "#在python中，如果循环变量名称不重要，可以用下划线（_）代替\n",
    "for _ in range(1,11):\n",
    "    if _==7:\n",
    "        print(\"我找到了\")\n",
    "        break\n",
    "    else:\n",
    "        print(_)"
   ]
  },
  {
   "cell_type": "code",
   "execution_count": 11,
   "metadata": {},
   "outputs": [
    {
     "name": "stdout",
     "output_type": "stream",
     "text": [
      "2是偶数\n",
      "4是偶数\n",
      "6是偶数\n",
      "8是偶数\n",
      "10是偶数\n"
     ]
    }
   ],
   "source": [
    "# 在1-10中，寻找偶数，一旦找到，打印出来，\n",
    "# for 循环中变量表示，一般用i,k,s,n,或index,idx,item之类\n",
    "#在python中，如果循环变量名称不重要，可以用下划线（_）代替\n",
    "for _ in range(1,11):\n",
    "    if _%2==0:\n",
    "        print(\"{0}是偶数\".format(_))\n",
    "    else:\n",
    "        continue"
   ]
  },
  {
   "cell_type": "code",
   "execution_count": 13,
   "metadata": {},
   "outputs": [
    {
     "name": "stdout",
     "output_type": "stream",
     "text": [
      "2是偶数\n",
      "4是偶数\n",
      "6是偶数\n",
      "8是偶数\n",
      "10是偶数\n"
     ]
    }
   ],
   "source": [
    "# 在1-10中，寻找偶数，一旦找到，打印出来，\n",
    "# for 循环中变量表示，一般用i,k,s,n,或index,idx,item之类\n",
    "#在python中，如果循环变量名称不重要，可以用下划线（_）代替\n",
    "#本案例完整显示continue的用法和作用\n",
    "for _ in range(1,11):\n",
    "    if _%2==1:\n",
    "           continue\n",
    "    print(\"{0}是偶数\".format(_))"
   ]
  },
  {
   "cell_type": "code",
   "execution_count": 15,
   "metadata": {},
   "outputs": [
    {
     "name": "stdout",
     "output_type": "stream",
     "text": [
      "我在这里\n",
      "我在这里\n",
      "我在这里\n",
      "我在这里\n",
      "我在这里\n",
      "我在这里\n",
      "我在这里\n",
      "我在这里\n",
      "我在这里\n",
      "我在这里\n",
      "我在这里\n",
      "我在这里\n",
      "我在这里\n",
      "我在这里\n",
      "我在这里\n",
      "我在这里\n",
      "我在这里\n",
      "我在这里\n",
      "我在这里\n",
      "我在这里\n",
      "我在这里\n"
     ]
    }
   ],
   "source": [
    "#pass 例子，一般用于占位\n",
    "#pass没有跳过功能\n",
    "for i in range(1,22):\n",
    "    pass\n",
    "    print(\"我在这里\")"
   ]
  }
 ],
 "metadata": {
  "kernelspec": {
   "display_name": "Python 3",
   "language": "python",
   "name": "python3"
  },
  "language_info": {
   "codemirror_mode": {
    "name": "ipython",
    "version": 3
   },
   "file_extension": ".py",
   "mimetype": "text/x-python",
   "name": "python",
   "nbconvert_exporter": "python",
   "pygments_lexer": "ipython3",
   "version": "3.6.5"
  }
 },
 "nbformat": 4,
 "nbformat_minor": 2
}
