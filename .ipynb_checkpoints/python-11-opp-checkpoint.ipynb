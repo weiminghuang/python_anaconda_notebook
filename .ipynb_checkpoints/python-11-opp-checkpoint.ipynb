{
 "cells": [
  {
   "cell_type": "code",
   "execution_count": null,
   "metadata": {},
   "outputs": [],
   "source": [
    "# Python 的面向对象\n",
    "- 面向对象编程\n",
    "    - 基础\n",
    "    - 公有私有\n",
    "    - 继承\n",
    "    - 组合，Mixin\n",
    "- 魔法函数\n",
    "    - 魔法函数概述\n",
    "    - 构造类魔法函数\n",
    "    - 运算类魔法函数\n",
    "# 1.面向对象概述（ObjectOriented.OO）\n",
    "- OOP思想\n",
    "    - 接触到任意一个任务，首先想到的是任务这个世界的构成，是由模型构成的\n",
    "- 几个名词\n",
    "    - OO:面向对象\n",
    "    - OOA:面向对象的分析\n",
    "    - OOD:面向对象的设计\n",
    "    - OOI:面向对象的实现\n",
    "    - OOP:面向对象的编程\n",
    "    - OOA->OOD->OOI:面向对象的实现过程\n",
    "- 类和对象的概念\n",
    "    - 类: 抽象名词，代表一个集合，共性的事物\n",
    "    - 对象:具象的事物，单个个体\n",
    "    - 类跟对象的关系\n",
    "        - 一个具象，代表一类事物的某一个个体\n",
    "        - 一个抽象，代表的是已大类事物\n",
    "- 类中的内容，应该具有两个内容\n",
    "    - 表明事物的特征，叫做属性（变量）\n",
    "    - 表明事物的功能或动作，称为成员方法(函数)\n",
    "# 2.类的基本实现\n",
    "- 列的命名\n",
    "    - 遵循变量命名的规范\n",
    "    - 大驼峰（由一个或者多个单词构成，每个单词首字母大写，单词跟单词直接相连）\n",
    "    - 尽量避开跟系统命名相似的命名\n",
    "- 如何申明一个类\n",
    "    - 必须用class关键字\n",
    "    - 类由属性和方法构成，其他不允许出现\n",
    "    - 成员属性定义可以直接使用变量赋值，如果没有值，许使用None\n",
    "    - 案例 01.py\n",
    "- 实例化类\n",
    "    - 变量 = 类名() # 实例化了一个对象\n",
    "- 访问对象成员\n",
    "    - 使用点操作符\n",
    "        - obj.成员属性名\n",
    "        - obj.成员方法\n",
    "- 可以使用默认内置变量检测类和对象的 所有成员\n",
    "    - 对象所有成员检查\n",
    "        - dict前后各有两个下划线\n",
    "            obj.__dict__\n",
    "    - 类所有的成员\n",
    "        - dict前后各有两个下划线\n",
    "            class_name.__dict__"
   ]
  },
  {
   "cell_type": "code",
   "execution_count": 5,
   "metadata": {},
   "outputs": [
    {
     "data": {
      "text/plain": [
       "mappingproxy({'__module__': '__main__',\n",
       "              'name': 'dana',\n",
       "              'age': 10,\n",
       "              '__dict__': <attribute '__dict__' of 'Student' objects>,\n",
       "              '__weakref__': <attribute '__weakref__' of 'Student' objects>,\n",
       "              '__doc__': None})"
      ]
     },
     "execution_count": 5,
     "metadata": {},
     "output_type": "execute_result"
    }
   ],
   "source": [
    "class Student():\n",
    "    name = \"dana\"\n",
    "    age = 10\n",
    "a = Student()\n",
    "Student.__dict__"
   ]
  },
  {
   "cell_type": "code",
   "execution_count": 8,
   "metadata": {},
   "outputs": [
    {
     "name": "stdout",
     "output_type": "stream",
     "text": [
      "dana\n",
      "18\n",
      "********************\n",
      "1692050068792\n",
      "1745251936\n",
      "********************\n",
      "dana\n",
      "18\n",
      "1692050068792\n",
      "1745251936\n",
      "1692050240288\n"
     ]
    }
   ],
   "source": [
    "class A():\n",
    "    name = \"dana\"\n",
    "    age = 18\n",
    "    # 注意say的写法，参数有一个self\n",
    "    def say(self):\n",
    "        self.name = \"aaaa\"\n",
    "        self.age = 200\n",
    "#此案例说米国\n",
    "#类实例的属性和其对象的实例的属性不在对对象的实例属性赋值的前提下\n",
    "#指向同一个变量\n",
    "# 此时，A 称为类的实例\n",
    "print(A.name)\n",
    "print(A.age)\n",
    "print(\"*\" * 20)\n",
    "#id 可以鉴别与一个变量是否和另一个变量是同一变量\n",
    "print(id(A.name))\n",
    "print(id(A.age))\n",
    "print(\"*\" * 20)\n",
    "a = A()\n",
    "print(a.name)\n",
    "print(a.age)\n",
    "print(id(a.name))\n",
    "print(id(a.age))\n",
    "\n",
    "        "
   ]
  },
  {
   "cell_type": "code",
   "execution_count": 13,
   "metadata": {},
   "outputs": [
    {
     "name": "stdout",
     "output_type": "stream",
     "text": [
      "dana\n",
      "18\n",
      "********************\n",
      "1692050068792\n",
      "1745251936\n",
      "********************\n",
      "{'__module__': '__main__', 'name': 'dana', 'age': 18, 'say': <function A.say at 0x00000189F609BA60>, '__dict__': <attribute '__dict__' of 'A' objects>, '__weakref__': <attribute '__weakref__' of 'A' objects>, '__doc__': None}\n",
      "{}\n",
      "{'name': 'yaoma', 'age': 16}\n",
      "yaoma\n",
      "16\n",
      "1692050071144\n",
      "1745251872\n",
      "******************************\n",
      "1692050071448\n",
      "1692050212624\n",
      "--------------------\n",
      "dana\n",
      "18\n",
      "1692050068792\n",
      "1745251936\n",
      "++++++++++++++++++++++++++++++\n",
      "1692050198000\n",
      "1745252928\n"
     ]
    }
   ],
   "source": [
    "print(A.name)\n",
    "print(A.age)\n",
    "print(\"*\" * 20)\n",
    "#id 可以鉴别与一个变量是否和另一个变量是同一变量\n",
    "print(id(A.name))\n",
    "print(id(A.age))\n",
    "print(\"*\" * 20)\n",
    "a = A()\n",
    "#查看A内的所有的属性\n",
    "print(A.__dict__)\n",
    "print(a.__dict__)\n",
    "a.name = \"yaoma\"\n",
    "a.age = 16\n",
    "print(a.__dict__)\n",
    "print(a.name)\n",
    "print(a.age)\n",
    "print(id(a.name))\n",
    "print(id(a.age))\n",
    "b = A()\n",
    "print(\"*\"*30)\n",
    "print(id(a))\n",
    "print(id(b))\n",
    "print(\"-\"*20)\n",
    "print(b.name)\n",
    "print(b.age)\n",
    "print(id(b.name))\n",
    "print(id(b.age))\n",
    "b.name = \"huangweiming\"\n",
    "b.age = 49\n",
    "print(\"+\"*30)\n",
    "print(id(b.name))\n",
    "print(id(b.age))\n",
    "\n"
   ]
  },
  {
   "cell_type": "code",
   "execution_count": null,
   "metadata": {},
   "outputs": [],
   "source": [
    "# 3.anaconda 基本使用\n",
    "- anaconda 主要是一个虚拟环境管理器\n",
    "- 还是一个安装包管理器\n",
    "- conda List: 显示anaconda安装的包\n",
    "- conda env list: 显示anaconda的虚拟环境列表\n",
    "- conda create -n xxx python=3.6:创建python版本为3.6的虚拟环境"
   ]
  },
  {
   "cell_type": "code",
   "execution_count": null,
   "metadata": {},
   "outputs": [],
   "source": [
    "# 4.类和对象的成员分析\n",
    "- 类和对象都可以存储成员，成员可以归类所有，也可以归对象所有\n",
    "- 类存储成员时使用的是于类关联的一个对象\n",
    "- 独享存储成员是存储在当前对象中\n",
    "- 对象访问一个成员时，如果对象中没有该成员，尝试访问类中的同名成员,\n",
    "    如果对象中有此成员，一定使用对象中的成员\n",
    "- 创建对象的时候，类中的成员不会放入对象当中，而是得到一个空对象，没有成员\n",
    "- 通过对象对类中成员重复赋值或者通过对象添加成员时，对应成员会保存在对象中，\n",
    "而不会修改类成员"
   ]
  },
  {
   "cell_type": "code",
   "execution_count": 16,
   "metadata": {},
   "outputs": [
    {
     "name": "stdout",
     "output_type": "stream",
     "text": [
      "My name is aaaa\n",
      "My age is 200\n",
      "My name is aaaa\n",
      "My age is 200\n"
     ]
    }
   ],
   "source": [
    "class Student():\n",
    "    name = \"dana\"\n",
    "    age = 18\n",
    "    #注意say的写法，参数有一个self\n",
    "    #self 不是关键字\n",
    "    def say(self):\n",
    "        self.name = \"aaaa\"\n",
    "        self.age = 200\n",
    "        print(\"My name is {0}\".format(self.name))\n",
    "        print(\"My age is {0}\".format(self.age))\n",
    "    def say1(s):\n",
    "        s.name = \"aaaa\"\n",
    "        s.age = 200\n",
    "        print(\"My name is {0}\".format(s.name))\n",
    "        print(\"My age is {0}\".format(s.age))\n",
    "yueyue = Student()\n",
    "yueyue.say()\n",
    "yueyue.say1()"
   ]
  },
  {
   "cell_type": "code",
   "execution_count": 20,
   "metadata": {},
   "outputs": [
    {
     "name": "stdout",
     "output_type": "stream",
     "text": [
      "My name is yaobao\n",
      "My name is 17\n",
      "********************\n",
      "dana\n",
      "19\n",
      "Hello,nice to see you again\n"
     ]
    }
   ],
   "source": [
    "class Teacher():\n",
    "    name = \"dana\"\n",
    "    age = 19\n",
    "    def say(self):\n",
    "        self.name = \"yaobao\"\n",
    "        self.age = 17\n",
    "        print(\"My name is {0}\".format(self.name))\n",
    "        print(\"My name is {0}\".format(self.age))\n",
    "    def sayAgain():\n",
    "        print(__class__.name)\n",
    "        print(__class__.age)\n",
    "        print(\"Hello,nice to see you again\")\n",
    "\n",
    "t = Teacher()\n",
    "t.say()\n",
    "#调用绑定类函数使用类名\n",
    "print(\"*\" * 20)\n",
    "Teacher.sayAgain()"
   ]
  },
  {
   "cell_type": "markdown",
   "metadata": {},
   "source": [
    "# 5.关于self\n",
    "- self在对象的方法中表示当前对象本身，如果通过对象调用一个方法，那么该对象会自动传入\n",
    "当前方法的第一个参数中\n",
    "- self并不是关键字，只是用于接受对象的普通参数，理论上可以用任何一个普通变量代替\n",
    "- 方法中有self形参的方法成为非绑定类的方法，可以通过对象访问,没有self的是绑定类的方法，\n",
    "只能通过类访问\n",
    "- 使用类访问绑定类的方法时，如果类方法中需要访问当前类的成员，可以使用__class__成员来访问\n"
   ]
  },
  {
   "cell_type": "code",
   "execution_count": 26,
   "metadata": {},
   "outputs": [
    {
     "name": "stdout",
     "output_type": "stream",
     "text": [
      "aaaaa\n",
      "200\n",
      "aaaaa\n",
      "200\n",
      " liuying\n",
      "18\n",
      "bbbb\n",
      "90\n"
     ]
    }
   ],
   "source": [
    "#关于self的案例\n",
    "class A():\n",
    "    name = \" liuying\"\n",
    "    age = 18\n",
    "    def __init__(self):\n",
    "        self.name = \"aaaaa\"\n",
    "        self.age = 200\n",
    "    def say(self):\n",
    "        print(self.name)\n",
    "        print(self.age)\n",
    "class B():\n",
    "    name = \"bbbb\"\n",
    "    age = 90\n",
    "    \n",
    "a = A()\n",
    "#此时，系统会默认把a作为第一个参数传入函数\n",
    "a.say()\n",
    "#此时，self 被a替换\n",
    "A.say(a)\n",
    "#同样可以把A作为参数传入\n",
    "A.say(A)\n",
    "#此时，传入的是类实例B,因为B具有name和age属性，所以不会报错\n",
    "A.say(B)\n",
    "# 以上代码，利用了鸭子模型"
   ]
  },
  {
   "cell_type": "markdown",
   "metadata": {},
   "source": [
    "# 6.面向对象的三大特性\n",
    "- 封装\n",
    "- 继承\n",
    "- 多态\n",
    "## 6.1 封装\n",
    "- 封装就是对对象的成员进行访问限制\n",
    "- 封装的三大级别\n",
    "    - 公开 public\n",
    "    - 受保护的 protected\n",
    "    - 私有的 private\n",
    "    - public , private, protected 不是关键字\n",
    "- 判断对象的位置\n",
    "    - 对象内部\n",
    "    - 对象外部\n",
    "    - 子类中\n",
    "- [python中下划线的使用] (http://blog.csdn.net/handsomekang/article/details/4030) \n",
    "- 私有\n",
    "    - 私有成员是最高级别的封装，只能在当前类或对象中访问\n",
    "    - 在成员前面添加两个下滑线即可\n",
    "        class Person():\n",
    "            #name 是共有的成员\n",
    "            name = \"liuying\"\n",
    "            # __age就是私有成员\n",
    "            __age =18\n",
    "    - Python的私有不是真私有，是一种成为name mangling的改名策略\n",
    "    可以使用对象._classname__attributename访问\n",
    "- 受保护的封装 protected\n",
    "    - 受保护的封装是将对象成员进行一定级别的封装，然后，在类中或者子类\n",
    "    中都可以进行访问，但是在外部不可以访问\n",
    "    - 封装方法：在成员名称前添加一个下划线即可\n",
    "- 公开的,公共的 public\n",
    "    - 公共的封装实际对成员没有任何操作，任何地方都可以访问\n"
   ]
  },
  {
   "cell_type": "code",
   "execution_count": 29,
   "metadata": {},
   "outputs": [
    {
     "name": "stdout",
     "output_type": "stream",
     "text": [
      "liuying\n",
      "{}\n"
     ]
    },
    {
     "ename": "AttributeError",
     "evalue": "'Person' object has no attribute '__age'",
     "output_type": "error",
     "traceback": [
      "\u001b[1;31m---------------------------------------------------------------------------\u001b[0m",
      "\u001b[1;31mAttributeError\u001b[0m                            Traceback (most recent call last)",
      "\u001b[1;32m<ipython-input-29-4e3f8c4311e7>\u001b[0m in \u001b[0;36m<module>\u001b[1;34m()\u001b[0m\n\u001b[0;32m     11\u001b[0m \u001b[1;31m# __age是私有成员\u001b[0m\u001b[1;33m\u001b[0m\u001b[1;33m\u001b[0m\u001b[0m\n\u001b[0;32m     12\u001b[0m \u001b[1;31m# 注意报错信息\u001b[0m\u001b[1;33m\u001b[0m\u001b[1;33m\u001b[0m\u001b[0m\n\u001b[1;32m---> 13\u001b[1;33m \u001b[0mprint\u001b[0m\u001b[1;33m(\u001b[0m\u001b[0mp\u001b[0m\u001b[1;33m.\u001b[0m\u001b[0m__age\u001b[0m\u001b[1;33m)\u001b[0m\u001b[1;33m\u001b[0m\u001b[0m\n\u001b[0m",
      "\u001b[1;31mAttributeError\u001b[0m: 'Person' object has no attribute '__age'"
     ]
    }
   ],
   "source": [
    "# 私有变量案例\n",
    "class Person():\n",
    "    # name是公有的成员\n",
    "    name = \"liuying\"\n",
    "    # __age就是私有成员\n",
    "    __age = 18\n",
    "p = Person()\n",
    "# name 是公有变量\n",
    "print(p.name)\n",
    "# __age是私有成员\n",
    "# 注意报错信息\n",
    "print(p.__age)"
   ]
  },
  {
   "cell_type": "code",
   "execution_count": 32,
   "metadata": {},
   "outputs": [
    {
     "name": "stdout",
     "output_type": "stream",
     "text": [
      "{'__module__': '__main__', 'name': 'liuying', '_Person__age': 18, '__dict__': <attribute '__dict__' of 'Person' objects>, '__weakref__': <attribute '__weakref__' of 'Person' objects>, '__doc__': None}\n",
      "********************\n",
      "19\n"
     ]
    }
   ],
   "source": [
    "# name mangling技术\n",
    "print(Person.__dict__)\n",
    "p._Person__age = 19\n",
    "# 访问类中的私有变量\n",
    "print(\"*\" * 20)\n",
    "print(p._Person__age)"
   ]
  },
  {
   "cell_type": "markdown",
   "metadata": {},
   "source": [
    "# 继承\n",
    "- 继承就是一个类可以获得另外一个类中的成员属性和方法使用\n",
    "- 作用 ：减少代码，增加代码的复用功能，同时可以设置类于类的关系\n",
    "- 继承与被继承的概念：\n",
    "    - 被继承的类叫父类，也叫基类，也叫超类\n",
    "    - 用于继承的类，叫做子类，也叫派生类\n",
    "    - 继承与被继承一定存在一个is-a关系\n",
    "- 继承的特征\n",
    "    - 所有的类都继承object类，即所有的类都是object类的子类\n",
    "    - 子类一旦继承父类，则可以使用父类中除私有成员外的所有内容\n",
    "    - 子类继承父类后并没有将父类成员完全赋值到子类中，而是通过引用关系访问调用\n",
    "    - 子类中可以定义独有的成员属性和方法\n",
    "    - 子类中定义的成员和父类成员如果相同，则优先使用子类成员\n",
    "    - 子类如果想扩充父类的方法，可以在定义新方法的同时访问父类成员来进行代码重用\n",
    "，可以使用[ 父类名.父类成员 ]的格式来调用父类成员，也可以使用[super().父类成员]的格式\n",
    "来调用  \n",
    "- 继承变量函数的查找顺序问题\n",
    "    - 优先查找自己的我呢提\n",
    "    - 没有则查找父类\n",
    "    - 构造函数如果本类中没有定义，则自动查找调用父类构造函数\n",
    "    - 如果本类有定义，则不在继续向上查找\n",
    "- 构造函数\n",
    "    - 是一类特殊的函数，在类进行实例化之前进行调用\n",
    "    - 如果定义了构造函数，则实例化的时候使用构造函数，不查找父类构造函数\n",
    "    - 如果没定义，则自动查找父类构造函数\n",
    "    - 如果子类没有定义，父类的构造函数带参数，则构造对象时应该按父类参数构造\n",
    "- super\n",
    "    - super 不是一个关键字，而是一个类\n",
    "    - super的作用是获取MRO(MethodResolustionOrder)列表中的第一个类\n",
    "    - super与父类直接没任何实质性关系，但通过super可以调用父类\n",
    "    - super使用两个方法，参见在构造函数中调用父类的构造函数"
   ]
  },
  {
   "cell_type": "code",
   "execution_count": 40,
   "metadata": {},
   "outputs": [
    {
     "name": "stdout",
     "output_type": "stream",
     "text": [
      "NoName\n",
      "Sleeping ... ....\n",
      "None\n",
      "********************\n",
      "Sleeping ... ....\n",
      "Sleeping ... ....\n",
      "teacher... ...\n"
     ]
    }
   ],
   "source": [
    "# 继承的语法\n",
    "# 在python中，任何类都是有一个共同的父类叫object\n",
    "class Person():\n",
    "    name = \"NoName\"\n",
    "    age = 0\n",
    "    def sleep(self):\n",
    "        print(\"Sleeping ... ....\")\n",
    "    \n",
    "#父类写在括号里\n",
    "class Teacher(Person):\n",
    "    def make_test(self):\n",
    "        print(\"teacher... ...\")\n",
    "        pass\n",
    "t = Teacher()\n",
    "print(t.name)\n",
    "print(t.sleep())\n",
    "t.make_test()"
   ]
  },
  {
   "cell_type": "code",
   "execution_count": 42,
   "metadata": {},
   "outputs": [
    {
     "name": "stdout",
     "output_type": "stream",
     "text": [
      "DaNa\n"
     ]
    },
    {
     "ename": "AttributeError",
     "evalue": "'Teacher' object has no attribute '_petname'",
     "output_type": "error",
     "traceback": [
      "\u001b[1;31m---------------------------------------------------------------------------\u001b[0m",
      "\u001b[1;31mAttributeError\u001b[0m                            Traceback (most recent call last)",
      "\u001b[1;32m<ipython-input-42-1c053bbdee97>\u001b[0m in \u001b[0;36m<module>\u001b[1;34m()\u001b[0m\n\u001b[0;32m     18\u001b[0m \u001b[0mprint\u001b[0m\u001b[1;33m(\u001b[0m\u001b[0mt\u001b[0m\u001b[1;33m.\u001b[0m\u001b[0mname\u001b[0m\u001b[1;33m)\u001b[0m\u001b[1;33m\u001b[0m\u001b[0m\n\u001b[0;32m     19\u001b[0m \u001b[1;31m# 首保护不能外部访问，为啥这里可以\u001b[0m\u001b[1;33m\u001b[0m\u001b[1;33m\u001b[0m\u001b[0m\n\u001b[1;32m---> 20\u001b[1;33m \u001b[0mprint\u001b[0m\u001b[1;33m(\u001b[0m\u001b[0mt\u001b[0m\u001b[1;33m.\u001b[0m\u001b[0m_petname\u001b[0m\u001b[1;33m)\u001b[0m\u001b[1;33m\u001b[0m\u001b[0m\n\u001b[0m\u001b[0;32m     21\u001b[0m \u001b[1;31m# 私有访问问题\u001b[0m\u001b[1;33m\u001b[0m\u001b[1;33m\u001b[0m\u001b[0m\n\u001b[0;32m     22\u001b[0m \u001b[1;31m# 公开访问私有变量，报错\u001b[0m\u001b[1;33m\u001b[0m\u001b[1;33m\u001b[0m\u001b[0m\n",
      "\u001b[1;31mAttributeError\u001b[0m: 'Teacher' object has no attribute '_petname'"
     ]
    }
   ],
   "source": [
    "# 子类和父类定义同一个名称变量，则优先使用子类本身\n",
    "class Person():\n",
    "    name = \"NoName\"\n",
    "    age = 18\n",
    "    __score = 0 # 考试成绩是密码，只要自己知道\n",
    "    _petname = \"sec\" #小名，是保护的，子类可以用，但不能公用  \n",
    "    def sleep(self):\n",
    "        print(\"Sleeping ... ...\")\n",
    "# 父类写在括号内\n",
    "class Teacher():\n",
    "    teacher_id = \"9527\"\n",
    "    name = \"DaNa\"\n",
    "    def make_test(self):\n",
    "        pass\n",
    "t = Teacher()\n",
    "print(t.name)\n",
    "# 首保护不能外部访问，为啥这里可以\n",
    "print(t._petname)\n",
    "# 私有访问问题\n",
    "# 公开访问私有变量，报错\n",
    "#print()"
   ]
  },
  {
   "cell_type": "code",
   "execution_count": 45,
   "metadata": {},
   "outputs": [
    {
     "name": "stdout",
     "output_type": "stream",
     "text": [
      "make some money ......\n",
      "attention\n",
      "None\n"
     ]
    }
   ],
   "source": [
    "# 子类扩充父类功能的案例\n",
    "# 人由工作的函数，老师也有工作的函数，但老师的工作是需要讲课\n",
    "class Person():\n",
    "    name = \"NoName\"\n",
    "    age = 18\n",
    "    __score = 0 # 考试成绩是密码，只要自己知道\n",
    "    _petname = \"sec\" #小名，是保护的，子类可以用，但不能公用  \n",
    "    def sleep(self):\n",
    "        print(\"Sleeping ... ...\")\n",
    "    def work(self):\n",
    "        print(\"make some money ......\")\n",
    "# 父类写在括号内\n",
    "class Teacher(Person):\n",
    "    teacher_id = \"9527\"\n",
    "    name = \"DaNa\"\n",
    "    def make_test(self):\n",
    "        print(\"attention\")\n",
    "    def work(self):\n",
    "        #扩充父类的功能只需要调用父类相应的函数\n",
    "       # Person.work(self)# 子类可以冒充父类\n",
    "        # 扩充父类的另一种方法\n",
    "        # super代表得到父类\n",
    "        super().work()\n",
    "        self.make_test()\n",
    "t = Teacher()\n",
    "print(t.work())"
   ]
  },
  {
   "cell_type": "code",
   "execution_count": 46,
   "metadata": {},
   "outputs": [
    {
     "name": "stdout",
     "output_type": "stream",
     "text": [
      "I am init in dog\n"
     ]
    }
   ],
   "source": [
    "# 构造函数的概念\n",
    "class Dog():\n",
    "    # __init___就是构造函数\n",
    "    # 每次实例化的时候，第一个被自动的调用\n",
    "    # 因为主要工作是进行初始化，所以得名\n",
    "    def __init__(self):\n",
    "        print(\"I am init in dog\")\n",
    "kaka = Dog()"
   ]
  },
  {
   "cell_type": "code",
   "execution_count": 49,
   "metadata": {},
   "outputs": [
    {
     "name": "stdout",
     "output_type": "stream",
     "text": [
      "I am init in dog\n"
     ]
    }
   ],
   "source": [
    "#继承中的构造函数 -1\n",
    "class Animel():\n",
    "    pass\n",
    "class PaxingAni(Animel):\n",
    "    pass\n",
    "class Dog(PaxingAni):\n",
    "    # __init__就是构造函数\n",
    "    # 每次实例化的时候，第一个被自动调用\n",
    "    # 因为主要工作是进行初始化，素以得名\n",
    "    def __init__(self):\n",
    "        print(\"I am init in dog\")\n",
    "# 实例化的时候，括号内的参数需要跟构造函数参数匹配,自动调用Dog的构造函数\n",
    "kaka = Dog()"
   ]
  },
  {
   "cell_type": "code",
   "execution_count": 53,
   "metadata": {},
   "outputs": [
    {
     "name": "stdout",
     "output_type": "stream",
     "text": [
      "I am init in dog\n",
      "Paxin Dongwu\n"
     ]
    }
   ],
   "source": [
    "#继承中的构造函数 -2\n",
    "class Animel():\n",
    "    pass\n",
    "class PaxingAni(Animel):\n",
    "    def __init__(self):\n",
    "        print(\"Paxin Dongwu\")\n",
    "    pass\n",
    "class Dog(PaxingAni):\n",
    "    # __init__就是构造函数\n",
    "    # 每次实例化的时候，第一个被自动调用\n",
    "    # 因为主要工作是进行初始化，素以得名\n",
    "    def __init__(self):\n",
    "        print(\"I am init in dog\")\n",
    "# 实例化的时候，自动调用Dog的构造函数\n",
    "#因为找到了构造函数，则不再查找父类的构造函数\n",
    "kaka = Dog()\n",
    "# 猫没有写构造函数\n",
    "class Cat(PaxingAni):\n",
    "    pass\n",
    "#此时应该自动调用构造函数，因为Cat没有够着函数，所以查找父类构造函数\n",
    "# 在PaxingAni中查找到了构造函数，则停止向上查找\n",
    "c =  Cat()"
   ]
  },
  {
   "cell_type": "code",
   "execution_count": 54,
   "metadata": {},
   "outputs": [
    {
     "name": "stdout",
     "output_type": "stream",
     "text": [
      "I am init in dog\n"
     ]
    },
    {
     "ename": "TypeError",
     "evalue": "__init__() missing 1 required positional argument: 'name'",
     "output_type": "error",
     "traceback": [
      "\u001b[1;31m---------------------------------------------------------------------------\u001b[0m",
      "\u001b[1;31mTypeError\u001b[0m                                 Traceback (most recent call last)",
      "\u001b[1;32m<ipython-input-54-1c0e79f46b81>\u001b[0m in \u001b[0;36m<module>\u001b[1;34m()\u001b[0m\n\u001b[0;32m     18\u001b[0m \u001b[1;31m# 此时，由于Cat没有构造函数，则向上查找\u001b[0m\u001b[1;33m\u001b[0m\u001b[1;33m\u001b[0m\u001b[0m\n\u001b[0;32m     19\u001b[0m \u001b[1;31m# 因为PaxingAni的构造函数需要两个参数，实例化的时候给了一个，报错\u001b[0m\u001b[1;33m\u001b[0m\u001b[1;33m\u001b[0m\u001b[0m\n\u001b[1;32m---> 20\u001b[1;33m \u001b[0mc\u001b[0m \u001b[1;33m=\u001b[0m \u001b[0mCat\u001b[0m\u001b[1;33m(\u001b[0m\u001b[1;33m)\u001b[0m\u001b[1;33m\u001b[0m\u001b[0m\n\u001b[0m",
      "\u001b[1;31mTypeError\u001b[0m: __init__() missing 1 required positional argument: 'name'"
     ]
    }
   ],
   "source": [
    "#继承中的构造函数 -3\n",
    "class Animel():\n",
    "    pass\n",
    "class PaxingAni(Animel):\n",
    "    def __init__(self,name):\n",
    "        print(\"Paxing Dongwu{0}\".format(name))\n",
    "    pass\n",
    "class Dog(PaxingAni):\n",
    "    # __init__就是构造函数\n",
    "    # 每次实例化的时候，第一个被自动调用\n",
    "    # 因为主要工作是进行初始化，素以得名\n",
    "    def __init__(self):\n",
    "        print(\"I am init in dog\")\n",
    "# 实例化Dog时，查找到Dog的构造函数，参数匹配，不报错\n",
    "d = Dog()\n",
    "class Cat(PaxingAni):\n",
    "    pass\n",
    "# 此时，由于Cat没有构造函数，则向上查找\n",
    "# 因为PaxingAni的构造函数需要两个参数，实例化的时候给了一个，报错\n",
    "c = Cat()"
   ]
  },
  {
   "cell_type": "code",
   "execution_count": 58,
   "metadata": {},
   "outputs": [
    {
     "name": "stdout",
     "output_type": "stream",
     "text": [
      "Animal\n",
      "Animal\n"
     ]
    }
   ],
   "source": [
    "#继承中的构造函数 -4\n",
    "class Animel():\n",
    "    def __init__(self):\n",
    "        print(\"Animal\")\n",
    "    pass\n",
    "class PaxingAni(Animel):\n",
    "    pass\n",
    "class Dog(PaxingAni):\n",
    "    pass\n",
    "    # __init__就是构造函数\n",
    "# 实例化Dog时，查找到Dog的构造函数，参数匹配，不报错\n",
    "d = Dog()\n",
    "class Cat(PaxingAni):\n",
    "    pass\n",
    "# 此时，由于Cat没有构造函数，则向上查找\n",
    "# 因为PaxingAni的构造函数需要两个参数，实例化的时候给了一个，报错\n",
    "c = Cat()"
   ]
  },
  {
   "cell_type": "code",
   "execution_count": 60,
   "metadata": {},
   "outputs": [
    {
     "name": "stdout",
     "output_type": "stream",
     "text": [
      "<class 'type'>\n",
      "Help on class super in module builtins:\n",
      "\n",
      "class super(object)\n",
      " |  super() -> same as super(__class__, <first argument>)\n",
      " |  super(type) -> unbound super object\n",
      " |  super(type, obj) -> bound super object; requires isinstance(obj, type)\n",
      " |  super(type, type2) -> bound super object; requires issubclass(type2, type)\n",
      " |  Typical use to call a cooperative superclass method:\n",
      " |  class C(B):\n",
      " |      def meth(self, arg):\n",
      " |          super().meth(arg)\n",
      " |  This works for class methods too:\n",
      " |  class C(B):\n",
      " |      @classmethod\n",
      " |      def cmeth(cls, arg):\n",
      " |          super().cmeth(arg)\n",
      " |  \n",
      " |  Methods defined here:\n",
      " |  \n",
      " |  __get__(self, instance, owner, /)\n",
      " |      Return an attribute of instance, which is of type owner.\n",
      " |  \n",
      " |  __getattribute__(self, name, /)\n",
      " |      Return getattr(self, name).\n",
      " |  \n",
      " |  __init__(self, /, *args, **kwargs)\n",
      " |      Initialize self.  See help(type(self)) for accurate signature.\n",
      " |  \n",
      " |  __new__(*args, **kwargs) from builtins.type\n",
      " |      Create and return a new object.  See help(type) for accurate signature.\n",
      " |  \n",
      " |  __repr__(self, /)\n",
      " |      Return repr(self).\n",
      " |  \n",
      " |  ----------------------------------------------------------------------\n",
      " |  Data descriptors defined here:\n",
      " |  \n",
      " |  __self__\n",
      " |      the instance invoking super(); may be None\n",
      " |  \n",
      " |  __self_class__\n",
      " |      the type of the instance invoking super(); may be None\n",
      " |  \n",
      " |  __thisclass__\n",
      " |      the class invoking super()\n",
      "\n"
     ]
    }
   ],
   "source": [
    "print(type(super))\n",
    "help(super)"
   ]
  }
 ],
 "metadata": {
  "kernelspec": {
   "display_name": "Python 3",
   "language": "python",
   "name": "python3"
  },
  "language_info": {
   "codemirror_mode": {
    "name": "ipython",
    "version": 3
   },
   "file_extension": ".py",
   "mimetype": "text/x-python",
   "name": "python",
   "nbconvert_exporter": "python",
   "pygments_lexer": "ipython3",
   "version": "3.6.5"
  }
 },
 "nbformat": 4,
 "nbformat_minor": 2
}
