{
 "cells": [
  {
   "cell_type": "markdown",
   "metadata": {},
   "source": [
    "python注释的写法：\n",
    "    行注释: 以#号开头，可以单独行，也可以在某行代码后面\n",
    "    块注释:好几行代码或者内容，以三个连续单引号或双引号开始和结束，中间任何内容机器都忽略"
   ]
  },
  {
   "cell_type": "markdown",
   "metadata": {},
   "source": [
    "#变量\n",
    "    程序=数据结构+算法\n",
    "    变量就是可以重复使用的一个量，或者叫一个代号\n",
    "    变量命名规则\n",
    "        变量命名可以包括数字，大小写字母，下划线或者更过，但是我们不推荐除了前三种内容之外的符号\n",
    "        数字不可以开头\n",
    "            如 4man,5for是不可以的\n",
    "            man 4,for5是可以的\n",
    "        一般python中，以下划线开头的内容具有特殊意义，不建议使用\n",
    "            比如 _age,_name,理论上可以，但不推荐，包括不限于一个下划线开头和连个连续下划线开头\n",
    "        推荐:\n",
    "            使用具有固定含义的英文单词或者缩写，srv=server skt=socket,一般以posix命名规则为主\n",
    "            驼峰命名法\n",
    "                名称以单词连接，且每个单词的首字母大写\n",
    "                    大驼峰，每个单词第一个名字均大写\n",
    "                        在python中类命名使用此法\n",
    "                        MyFirstLove IntOne\n",
    "                    小驼峰，类似大驼峰，但第一个字母小写\n",
    "                        在Python中一般给普通变量或者函数命名\n",
    "                        myFirstLove,intOne\n",
    "                    posix写法\n",
    "                        多个档次用下划线连接\n",
    "                        单词全部小写\n",
    "                        my_first_love,int_one\n",
    "        保留字和关键字\n",
    "            class,def,break,for\n",
    "            "
   ]
  },
  {
   "cell_type": "code",
   "execution_count": 3,
   "metadata": {},
   "outputs": [
    {
     "name": "stdout",
     "output_type": "stream",
     "text": [
      "['False', 'None', 'True', 'and', 'as', 'assert', 'break', 'class', 'continue', 'def', 'del', 'elif', 'else', 'except', 'finally', 'for', 'from', 'global', 'if', 'import', 'in', 'is', 'lambda', 'nonlocal', 'not', 'or', 'pass', 'raise', 'return', 'try', 'while', 'with', 'yield']\n"
     ]
    }
   ],
   "source": [
    "# 汉口关键字的方法\n",
    "import keyword #引入关键字模块\n",
    "print(keyword.kwlist)"
   ]
  },
  {
   "cell_type": "code",
   "execution_count": 6,
   "metadata": {},
   "outputs": [
    {
     "name": "stdout",
     "output_type": "stream",
     "text": [
      "10\n",
      "10\n",
      "10\n",
      "12\n",
      "21\n",
      "41\n"
     ]
    }
   ],
   "source": [
    "##变量申明\n",
    "#var_name = var_value\n",
    "#var1 = var2 = var3 = var_vlaue\n",
    "# 给age1,age2,age3放入同样一个内容或值\n",
    "age1 = age2 = age3 =10\n",
    "print(age1)\n",
    "print(age2)\n",
    "print(age3)\n",
    "\n",
    "age4,age5, age6= 12, 21, 41\n",
    "print(age4)\n",
    "print(age5)\n",
    "print(age6)"
   ]
  },
  {
   "cell_type": "markdown",
   "metadata": {},
   "source": [
    "## 变量类型\n",
    "\n",
    "严格意义上讲，python只有一个类型\n",
    "标准数据一共六种\n",
    "    数字类型Number\n",
    "    字符串类型str\n",
    "    列表list\n",
    "    元组tuple\n",
    "    字典Dictionary\n",
    "    集合set\n",
    "    "
   ]
  },
  {
   "cell_type": "markdown",
   "metadata": {},
   "source": [
    "## Number数字类型\n",
    "1、整数\n",
    "    -没有小数部分，表示个数的数字\n",
    "    -自然数，0，负自然数\n",
    "    -整数分进制\n",
    "        二进制\n",
    "            计算机常用\n",
    "            是计算机唯一能直接理解的数字\n",
    "            表示为0b开头的0，1代码\n",
    "            例如ob01101，0b10001\n",
    "        八进制\n",
    "             不常用\n",
    "             以0o开头的包含0-7的数字\n",
    "        十六进制\n",
    "            逢16进1\n",
    "            其实是每四位二进制表示一位十六进制数\n",
    "            包含0-9 ，a-f\n",
    "            数字上以0x开头表示\n",
    "        十进制\n",
    "            18，89，178"
   ]
  },
  {
   "cell_type": "code",
   "execution_count": 15,
   "metadata": {},
   "outputs": [
    {
     "name": "stdout",
     "output_type": "stream",
     "text": [
      "18\n",
      "19\n",
      "66\n",
      "255\n"
     ]
    }
   ],
   "source": [
    "age = 18\n",
    "print(18)\n",
    "age = 0b10011\n",
    "print(age)\n",
    "age= 0o102\n",
    "print(age)\n",
    "age=0xff #这个ff表示二进制1111 1111\n",
    "print(age)"
   ]
  },
  {
   "cell_type": "markdown",
   "metadata": {},
   "source": [
    "### 浮点数\n",
    "- 小数\n",
    "- 计算机里边表示浮点数可以有条件省略\n",
    "- 3.1415\n",
    "- 3.\n",
    "- 0.5\n",
    "- .5\n",
    "- 科学计数法\n",
    "    -定义跟数学定义\n",
    "    -写法用e/E后面跟整数表示10的指数\n",
    "    - 176.23 =1.76234e2\n",
    "    - 0.876 = 8.76e-1 "
   ]
  },
  {
   "cell_type": "code",
   "execution_count": 18,
   "metadata": {},
   "outputs": [
    {
     "name": "stdout",
     "output_type": "stream",
     "text": [
      "156.34\n",
      "0.2\n",
      "0.6\n"
     ]
    }
   ],
   "source": [
    "height=156.34\n",
    "print(height)\n",
    "shili = 0.2\n",
    "print(shili)\n",
    "shili=.6\n",
    "print(shili)"
   ]
  },
  {
   "cell_type": "markdown",
   "metadata": {},
   "source": [
    "### 复数\n",
    "- 定义同数学定义一致\n",
    "- 一个由实部和虚部构成的数字\n",
    "虚部用j/3表示\n",
    "- 5+3j\n",
    "- 3j\n",
    "- (3j)"
   ]
  },
  {
   "cell_type": "markdown",
   "metadata": {},
   "source": [
    "## 布尔值\n",
    "- 表示真假的值\n",
    "- 只有两个值， True/False  （大写开头）\n",
    "- 布尔值可以跟数字直接操作\n",
    "- python 中把布尔值归到数字里， 1表示True,0表示False"
   ]
  },
  {
   "cell_type": "code",
   "execution_count": 19,
   "metadata": {},
   "outputs": [
    {
     "name": "stdout",
     "output_type": "stream",
     "text": [
      "19\n"
     ]
    }
   ],
   "source": [
    "#布尔值操作\n",
    "age = 18+True\n",
    "print(age)"
   ]
  },
  {
   "cell_type": "markdown",
   "metadata": {},
   "source": [
    "## 字符串\n",
    "- 用来表示一串文字信息\n",
    "- 如何表示\n",
    "     - 单引号(只能表示一行)\n",
    "     - 双引号（只能表示一行）\n",
    "     - 三引号 （三个单引号或者三个双引号，可以表示多行）\n",
    "- 单双引号可以交错使用\n",
    "## 转义字符\n",
    "- 用一个特殊的方法表示出一系列不方便写出的内容，比如回车键，换行键，退格键\n",
    "- 借助放斜杠字符， 一旦字符串中出现了反斜杠，则反斜杠后面一个或几个字符表示已经不是原来的意思了，进行了转义\n",
    "- 在字符串中，一旦出现放斜杠就要小心，可能由转义字符出现\n",
    "- 不同系统对换行操作有不同的表示\n",
    "    - windows: \\n\n",
    "    - linux: \\t\\r\n"
   ]
  },
  {
   "cell_type": "code",
   "execution_count": 27,
   "metadata": {},
   "outputs": [
    {
     "name": "stdout",
     "output_type": "stream",
     "text": [
      "I love wangxiaojing\n",
      "我爱王晓静\n",
      "<a style=\"color:red\">哈哈</a>\n",
      "hello world\n",
      "pppp\n",
      "dddd\n",
      "hello \n",
      "      world\n"
     ]
    }
   ],
   "source": [
    "love=\"I love wangxiaojing\"\n",
    "print(love)\n",
    "love='我爱王晓静'\n",
    "print(love)\n",
    "#单双引号交错使用的例子\n",
    "#<a style=\"color:red\">哈哈</a>\n",
    "#用引号表示上面字符串\n",
    "html = '<a style=\"color:red\">哈哈</a>'\n",
    "print(html)\n",
    "#三单引号支持换行\n",
    "print('''hello world\n",
    "pppp\n",
    "dddd''')\n",
    "print(\"\"\"hello \n",
    "      world\"\"\")"
   ]
  },
  {
   "cell_type": "code",
   "execution_count": 34,
   "metadata": {},
   "outputs": [
    {
     "name": "stdout",
     "output_type": "stream",
     "text": [
      "Let's go home\n",
      "Let's go home\n",
      "Let \\ me go\n",
      "I love \r\n",
      " wangxiaojing\n"
     ]
    }
   ],
   "source": [
    "#如果想表示出let's go home\n",
    "# 1.可以使用嵌套引号，即外层使用双引号\n",
    "# 2. 转义字符\n",
    "s = \"Let's go home\"\n",
    "print(s)\n",
    "ss= 'Let\\'s go home'\n",
    "print(ss)\n",
    "sss= 'Let \\\\ me go'\n",
    "print(sss)\n",
    "# 回车换行符 \\r\\n\n",
    "sl = \"I love \\r\\n wangxiaojing\"\n",
    "print(sl)"
   ]
  },
  {
   "cell_type": "markdown",
   "metadata": {},
   "source": [
    "## 字符串的格式化\n",
    "- 把字符串按照一定格式打印或者填充\n",
    "- 格式化由两种方法\n",
    "    - 利用百分号 (%)\n",
    "    - 利用format函数"
   ]
  },
  {
   "cell_type": "code",
   "execution_count": null,
   "metadata": {},
   "outputs": [],
   "source": [
    "s=\"xxx,您好，我们图灵学院开课了，免费的python呀，不学白不学\""
   ]
  },
  {
   "cell_type": "markdown",
   "metadata": {},
   "source": [
    "### 利用百分号格式化\n",
    " 在字符串中，利用%表示一个特殊的含义，表示对字符进行格式化\n",
    " %d:此处应该放入一个整数\n",
    " %s:表示此处应该放入一个字符串\n"
   ]
  },
  {
   "cell_type": "code",
   "execution_count": 2,
   "metadata": {},
   "outputs": [
    {
     "name": "stdout",
     "output_type": "stream",
     "text": [
      "I love %s\n"
     ]
    }
   ],
   "source": [
    "s= \"I love %s\"\n",
    "#下面打印，直接把%s作为字符串的一个内容打印出来\n",
    "print(s)"
   ]
  },
  {
   "cell_type": "code",
   "execution_count": 3,
   "metadata": {},
   "outputs": [
    {
     "name": "stdout",
     "output_type": "stream",
     "text": [
      "I love wangsxiaojing\n"
     ]
    }
   ],
   "source": [
    "print(\"I love %s\"%\"wangsxiaojing\")"
   ]
  },
  {
   "cell_type": "code",
   "execution_count": 4,
   "metadata": {},
   "outputs": [
    {
     "name": "stdout",
     "output_type": "stream",
     "text": [
      "I love wangxiaojing\n"
     ]
    }
   ],
   "source": [
    "print(s%\"wangxiaojing\")"
   ]
  },
  {
   "cell_type": "code",
   "execution_count": 6,
   "metadata": {},
   "outputs": [
    {
     "name": "stdout",
     "output_type": "stream",
     "text": [
      "I am %d years old\n",
      "I am 18 years old\n"
     ]
    }
   ],
   "source": [
    "s=\"I am %d years old\"\n",
    "print(s)\n",
    "print(s%18)"
   ]
  },
  {
   "cell_type": "code",
   "execution_count": 12,
   "metadata": {},
   "outputs": [
    {
     "name": "stdout",
     "output_type": "stream",
     "text": [
      "I am %s,I am %d years old %d\n",
      "I am huangweiming,I am 18 years old 19\n"
     ]
    }
   ],
   "source": [
    "s=\"I am %s,I am %d years old %d\"\n",
    "print(s)\n",
    "#如果字符串中有占位符，则占有几个必须用几个实际内容代替，或一个也不用\n",
    "print(s%(\"huangweiming\",18,19))"
   ]
  },
  {
   "cell_type": "markdown",
   "metadata": {},
   "source": [
    "### format 函数格式化字符串\n",
    "-直接用format函数进行格式化\n",
    "在使用上，以{}和:代替%号,后面用format带参数完成"
   ]
  },
  {
   "cell_type": "code",
   "execution_count": 18,
   "metadata": {},
   "outputs": [
    {
     "name": "stdout",
     "output_type": "stream",
     "text": [
      "I love 李晓静\n",
      "Yes,I am 10 years old,  I love Tulinxueyuan and i am 10years old\n"
     ]
    }
   ],
   "source": [
    "s=\"I love {}\".format(\"李晓静\")\n",
    "print(s)\n",
    "#根据{}中的标号顺序替换\n",
    "s=\"Yes,I am {1} years old,  I love {0} and i am {1}years old\".format(\"Tulinxueyuan\",10)\n",
    "print(s)"
   ]
  },
  {
   "cell_type": "markdown",
   "metadata": {},
   "source": [
    "## None\n",
    "- 表示什么都没有\n",
    "- 如果函数没有返回值，可以返回 None\n",
    "- 用来占位置\n",
    "- 用来解除变量绑定"
   ]
  },
  {
   "cell_type": "markdown",
   "metadata": {},
   "source": [
    "## 表达式子\n",
    "- 由一个或者几个数字或者变量和运算符组成的一行代码\n",
    "- 通常都会返回一个结果\n",
    "# 运算符\n",
    "- 由一个以上的值经过变化得到新值的过程就叫运算\n",
    "- 用于运算的符号叫运算符\n",
    "- 运算符分类\n",
    "    - 算术运算符\n",
    "    - 比较运算符 或关系运算符\n",
    "    - 赋值运算符\n",
    "    - 逻辑运算符\n",
    "    - 位运算符\n",
    "    - 成员运算符\n",
    "    - 身份运算符\n",
    "    "
   ]
  },
  {
   "cell_type": "markdown",
   "metadata": {},
   "source": [
    "## 算术运算符\n",
    "- 进行算术运算的符号\n",
    "- python没有自增自减运算符"
   ]
  },
  {
   "cell_type": "code",
   "execution_count": 26,
   "metadata": {},
   "outputs": [
    {
     "name": "stdout",
     "output_type": "stream",
     "text": [
      "10\n",
      "36\n",
      "2.25\n",
      "1\n",
      "2\n",
      "6561\n",
      "27\n"
     ]
    }
   ],
   "source": [
    "# + - * / 跟正常算术运算一样\n",
    "a=9+3-2\n",
    "print(a)\n",
    "# 乘号用星号（*） 代替\n",
    "a=9*4\n",
    "print(a)\n",
    "#除号用斜杆(/)代替\n",
    "#在Python2.x和python3.x中，除号(/)结果可能不一致，此处以3系列为准\n",
    "a=9/4\n",
    "print(a)\n",
    "# %取余运算\n",
    "# 两个数字相除应该有商数有余数\n",
    "# % 只会得到余数\n",
    "a=9%4\n",
    "print(a)\n",
    "# //表示取商运算，也叫地板除\n",
    "a=8//4\n",
    "print(a)\n",
    "# ** 表示幂运算\n",
    "a = 9**4\n",
    "print(a)\n",
    "a = 3**3\n",
    "print(a)"
   ]
  },
  {
   "cell_type": "markdown",
   "metadata": {},
   "source": [
    "## 比较运算符\n",
    "- 对两个变量或者值进行比较的运算符\n",
    "- 比较的结果是布尔值，即True/False"
   ]
  },
  {
   "cell_type": "code",
   "execution_count": 28,
   "metadata": {},
   "outputs": [
    {
     "name": "stdout",
     "output_type": "stream",
     "text": [
      "False\n",
      "True\n"
     ]
    }
   ],
   "source": [
    "# ==,等于号\n",
    "a = 3**4\n",
    "# 下面语句执行顺序是\n",
    "# 1，计算 a==80\n",
    "# 2,把结果放入b中\n",
    "b = a == 80\n",
    "print(b)\n",
    "# != ，表示不等于\n",
    "print(9!=8)\n",
    "# > 大于\n",
    "# < 小于\n",
    "# >= 大于等于\n",
    "# <= 小于等于"
   ]
  }
 ],
 "metadata": {
  "kernelspec": {
   "display_name": "Python 3",
   "language": "python",
   "name": "python3"
  },
  "language_info": {
   "codemirror_mode": {
    "name": "ipython",
    "version": 3
   },
   "file_extension": ".py",
   "mimetype": "text/x-python",
   "name": "python",
   "nbconvert_exporter": "python",
   "pygments_lexer": "ipython3",
   "version": "3.6.5"
  }
 },
 "nbformat": 4,
 "nbformat_minor": 2
}
