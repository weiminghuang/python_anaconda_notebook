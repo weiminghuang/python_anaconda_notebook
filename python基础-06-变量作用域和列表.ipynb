{
 "cells": [
  {
   "cell_type": "markdown",
   "metadata": {},
   "source": [
    "#变量作用域\n",
    "- 变量有作用范围限制\n",
    "- 分类：按照作用域分类\n",
    "    - 全局(globa()):在函数外部定义\n",
    "    - 局部(local): 在函数内部定义\n",
    "- 变量的作用范围:\n",
    "    - 全局变量：在整个全局范围都有效\n",
    "    - 全局变量在局部可以使用(即函数内部可以访问函数外部定义的变量)\n",
    "    - 局部变量在局部范围可以使用\n",
    "    - 局部变量在全局范围内无法使用\n",
    "- LEGB原则:\n",
    "    - L(LOCAL)局部作用域\n",
    "    - E(Enclosing function locale) 外部嵌套函数作用域\n",
    "    - G(Global module) 函数定义所在模块作用域\n",
    "    - B(Buildin)：python内置的魔抗的作用域"
   ]
  },
  {
   "cell_type": "code",
   "execution_count": 4,
   "metadata": {},
   "outputs": [
    {
     "name": "stdout",
     "output_type": "stream",
     "text": [
      "100\n"
     ]
    }
   ],
   "source": [
    "a1 = 100\n",
    "def fun():\n",
    "    print(a1)\n",
    "    print(\"I am in fun\")\n",
    "    # a2的作用范围是fun\n",
    "    a2 = 99\n",
    "    print(a2)\n",
    "print(a1)\n",
    "#print(a2)"
   ]
  },
  {
   "cell_type": "markdown",
   "metadata": {},
   "source": [
    "## 提升局部变量为全局变量\n",
    "- 使用global\n",
    "- 案例如下"
   ]
  },
  {
   "cell_type": "code",
   "execution_count": 7,
   "metadata": {},
   "outputs": [
    {
     "name": "stdout",
     "output_type": "stream",
     "text": [
      "100\n",
      "I am in fun\n",
      "99\n",
      "100\n"
     ]
    },
    {
     "ename": "NameError",
     "evalue": "name 'b2' is not defined",
     "output_type": "error",
     "traceback": [
      "\u001b[1;31m---------------------------------------------------------------------------\u001b[0m",
      "\u001b[1;31mNameError\u001b[0m                                 Traceback (most recent call last)",
      "\u001b[1;32m<ipython-input-7-da6993b076a8>\u001b[0m in \u001b[0;36m<module>\u001b[1;34m()\u001b[0m\n\u001b[0;32m     10\u001b[0m \u001b[0mfun\u001b[0m\u001b[1;33m(\u001b[0m\u001b[1;33m)\u001b[0m\u001b[1;33m\u001b[0m\u001b[0m\n\u001b[0;32m     11\u001b[0m \u001b[0mprint\u001b[0m\u001b[1;33m(\u001b[0m\u001b[0mb1\u001b[0m\u001b[1;33m)\u001b[0m\u001b[1;33m\u001b[0m\u001b[0m\n\u001b[1;32m---> 12\u001b[1;33m \u001b[0mprint\u001b[0m\u001b[1;33m(\u001b[0m\u001b[0mb2\u001b[0m\u001b[1;33m)\u001b[0m\u001b[1;33m\u001b[0m\u001b[0m\n\u001b[0m\u001b[0;32m     13\u001b[0m \u001b[0mfun\u001b[0m\u001b[1;33m(\u001b[0m\u001b[1;33m)\u001b[0m\u001b[1;33m\u001b[0m\u001b[0m\n",
      "\u001b[1;31mNameError\u001b[0m: name 'b2' is not defined"
     ]
    }
   ],
   "source": [
    "def fun():\n",
    "    #b1的作用范围是fun\n",
    "    global b1\n",
    "    b1 = 100\n",
    "    print(b1)\n",
    "    print(\"I am in fun\")\n",
    "    #a2的作用范围是fun\n",
    "    b2 = 99\n",
    "    print(b2)\n",
    "fun()\n",
    "print(b1)\n",
    "print(b2)#此处调用超出了b2的范围\n",
    "fun()"
   ]
  },
  {
   "cell_type": "markdown",
   "metadata": {},
   "source": [
    "# globals,locals 函数\n",
    "- 可以通过globals 和locals 显示除局部变量和全局变量\n",
    "- 参考一下案例"
   ]
  },
  {
   "cell_type": "code",
   "execution_count": 8,
   "metadata": {},
   "outputs": [
    {
     "name": "stdout",
     "output_type": "stream",
     "text": [
      "Locals={'e': 111, 'd': 200, 'c': 100}\n",
      "Golbals={'__name__': '__main__', '__doc__': 'Automatically created module for IPython interactive environment', '__package__': None, '__loader__': None, '__spec__': None, '__builtin__': <module 'builtins' (built-in)>, '__builtins__': <module 'builtins' (built-in)>, '_ih': ['', 'a1 = 100\\ndef fun():\\n    print(a1)\\n    print(\"I am in fun\")\\n    a2 = 99\\n    print（a2）\\nprint(a1)', 'a1 = 100\\ndef fun():\\n    print(a1)\\n    print(\"I am in fun\")\\n    a2 = 99\\n    print(a2)\\nprint(a1)', 'a1 = 100\\ndef fun():\\n    print(a1)\\n    print(\"I am in fun\")\\n    a2 = 99\\n    print(a2)\\nprint(a1)\\nprint(a2)', 'a1 = 100\\ndef fun():\\n    print(a1)\\n    print(\"I am in fun\")\\n    a2 = 99\\n    print(a2)\\nprint(a1)\\n#print(a2)', 'def fun():\\n    b1 = 100\\n    print(b1)\\n    print(\"I am in fun\")\\n    #a2的作用范围是fun\\n    b2 = 99\\n    print(b2)\\nprint(b1)\\nprint(b2)\\nfun()', 'def fun():\\n    #b1的作用范围是fun\\n    global b1\\n    b1 = 100\\n    print(b1)\\n    print(\"I am in fun\")\\n    #a2的作用范围是fun\\n    b2 = 99\\n    print(b2)\\nprint(b1)\\nprint(b2)\\nfun()', 'def fun():\\n    #b1的作用范围是fun\\n    global b1\\n    b1 = 100\\n    print(b1)\\n    print(\"I am in fun\")\\n    #a2的作用范围是fun\\n    b2 = 99\\n    print(b2)\\nfun()\\nprint(b1)\\nprint(b2)\\nfun()', '#globals and locals\\na = 1\\nb = 2\\ndef fun(c,d):\\n    e = 111\\n    print(\"Locals={0}\".format(locals()))\\n    print(\"Golbals={0}\".format(globals()))\\nfun(100,200)'], '_oh': {}, '_dh': ['C:\\\\Users\\\\Administrator\\\\tulingxueyuan'], 'In': ['', 'a1 = 100\\ndef fun():\\n    print(a1)\\n    print(\"I am in fun\")\\n    a2 = 99\\n    print（a2）\\nprint(a1)', 'a1 = 100\\ndef fun():\\n    print(a1)\\n    print(\"I am in fun\")\\n    a2 = 99\\n    print(a2)\\nprint(a1)', 'a1 = 100\\ndef fun():\\n    print(a1)\\n    print(\"I am in fun\")\\n    a2 = 99\\n    print(a2)\\nprint(a1)\\nprint(a2)', 'a1 = 100\\ndef fun():\\n    print(a1)\\n    print(\"I am in fun\")\\n    a2 = 99\\n    print(a2)\\nprint(a1)\\n#print(a2)', 'def fun():\\n    b1 = 100\\n    print(b1)\\n    print(\"I am in fun\")\\n    #a2的作用范围是fun\\n    b2 = 99\\n    print(b2)\\nprint(b1)\\nprint(b2)\\nfun()', 'def fun():\\n    #b1的作用范围是fun\\n    global b1\\n    b1 = 100\\n    print(b1)\\n    print(\"I am in fun\")\\n    #a2的作用范围是fun\\n    b2 = 99\\n    print(b2)\\nprint(b1)\\nprint(b2)\\nfun()', 'def fun():\\n    #b1的作用范围是fun\\n    global b1\\n    b1 = 100\\n    print(b1)\\n    print(\"I am in fun\")\\n    #a2的作用范围是fun\\n    b2 = 99\\n    print(b2)\\nfun()\\nprint(b1)\\nprint(b2)\\nfun()', '#globals and locals\\na = 1\\nb = 2\\ndef fun(c,d):\\n    e = 111\\n    print(\"Locals={0}\".format(locals()))\\n    print(\"Golbals={0}\".format(globals()))\\nfun(100,200)'], 'Out': {}, 'get_ipython': <bound method InteractiveShell.get_ipython of <ipykernel.zmqshell.ZMQInteractiveShell object at 0x0000021F11C14C18>>, 'exit': <IPython.core.autocall.ZMQExitAutocall object at 0x0000021F11C740F0>, 'quit': <IPython.core.autocall.ZMQExitAutocall object at 0x0000021F11C740F0>, '_': '', '__': '', '___': '', '_i': 'def fun():\\n    #b1的作用范围是fun\\n    global b1\\n    b1 = 100\\n    print(b1)\\n    print(\"I am in fun\")\\n    #a2的作用范围是fun\\n    b2 = 99\\n    print(b2)\\nfun()\\nprint(b1)\\nprint(b2)\\nfun()', '_ii': 'def fun():\\n    #b1的作用范围是fun\\n    global b1\\n    b1 = 100\\n    print(b1)\\n    print(\"I am in fun\")\\n    #a2的作用范围是fun\\n    b2 = 99\\n    print(b2)\\nprint(b1)\\nprint(b2)\\nfun()', '_iii': 'def fun():\\n    b1 = 100\\n    print(b1)\\n    print(\"I am in fun\")\\n    #a2的作用范围是fun\\n    b2 = 99\\n    print(b2)\\nprint(b1)\\nprint(b2)\\nfun()', '_i1': 'a1 = 100\\ndef fun():\\n    print(a1)\\n    print(\"I am in fun\")\\n    a2 = 99\\n    print（a2）\\nprint(a1)', '_i2': 'a1 = 100\\ndef fun():\\n    print(a1)\\n    print(\"I am in fun\")\\n    a2 = 99\\n    print(a2)\\nprint(a1)', 'a1': 100, 'fun': <function fun at 0x0000021F11DE2730>, '_i3': 'a1 = 100\\ndef fun():\\n    print(a1)\\n    print(\"I am in fun\")\\n    a2 = 99\\n    print(a2)\\nprint(a1)\\nprint(a2)', '_i4': 'a1 = 100\\ndef fun():\\n    print(a1)\\n    print(\"I am in fun\")\\n    a2 = 99\\n    print(a2)\\nprint(a1)\\n#print(a2)', '_i5': 'def fun():\\n    b1 = 100\\n    print(b1)\\n    print(\"I am in fun\")\\n    #a2的作用范围是fun\\n    b2 = 99\\n    print(b2)\\nprint(b1)\\nprint(b2)\\nfun()', '_i6': 'def fun():\\n    #b1的作用范围是fun\\n    global b1\\n    b1 = 100\\n    print(b1)\\n    print(\"I am in fun\")\\n    #a2的作用范围是fun\\n    b2 = 99\\n    print(b2)\\nprint(b1)\\nprint(b2)\\nfun()', '_i7': 'def fun():\\n    #b1的作用范围是fun\\n    global b1\\n    b1 = 100\\n    print(b1)\\n    print(\"I am in fun\")\\n    #a2的作用范围是fun\\n    b2 = 99\\n    print(b2)\\nfun()\\nprint(b1)\\nprint(b2)\\nfun()', 'b1': 100, '_i8': '#globals and locals\\na = 1\\nb = 2\\ndef fun(c,d):\\n    e = 111\\n    print(\"Locals={0}\".format(locals()))\\n    print(\"Golbals={0}\".format(globals()))\\nfun(100,200)', 'a': 1, 'b': 2}\n"
     ]
    }
   ],
   "source": [
    "#globals and locals\n",
    "#globals 和locals 叫做内建函数\n",
    "a = 1\n",
    "b = 2\n",
    "def fun(c,d):\n",
    "    e = 111\n",
    "    print(\"Locals={0}\".format(locals()))\n",
    "    print(\"Golbals={0}\".format(globals()))\n",
    "fun(100,200)"
   ]
  },
  {
   "cell_type": "markdown",
   "metadata": {},
   "source": [
    "# eval() 函数\n",
    "- 把一个字符串当成一个表达式来执行，返回表达式执行的结果\n",
    "语法:\n",
    "\n",
    "        eval(string_code,globals=None,locals=None)\n",
    " # exec() 函数\n",
    " - 与eval()功能类似，但是不返回表达式的执行结果\n",
    " - 语法：\n",
    " \n",
    "         exec(string_code,globals=None,locals=None)  "
   ]
  },
  {
   "cell_type": "code",
   "execution_count": 12,
   "metadata": {},
   "outputs": [
    {
     "name": "stdout",
     "output_type": "stream",
     "text": [
      "300\n",
      "300\n",
      "x+y: 300\n"
     ]
    }
   ],
   "source": [
    "x = 100\n",
    "y = 200\n",
    "# 执行x+y\n",
    "# z = x + y\n",
    "z1 = x + y\n",
    "z2 = eval(\"x+y\")\n",
    "print(z1)\n",
    "print(z2)\n",
    "#注意字符串中引号的写法\n",
    "#比对exec执行结果和代码执行结果\n",
    "z3= exec(\"print('x+y:',x+y)\")"
   ]
  },
  {
   "cell_type": "markdown",
   "metadata": {},
   "source": [
    "# 递归函数\n",
    "- 函数直接或间接调用自身\n",
    "- 优点：简洁，理解容易\n",
    "- 缺点：对递归深度有限制，消耗资源大\n",
    "- python 对递归深度有限制，操作限制报错\n",
    "- 在写递归程序的时候，一定注意结束条件"
   ]
  },
  {
   "cell_type": "code",
   "execution_count": 17,
   "metadata": {},
   "outputs": [
    {
     "name": "stdout",
     "output_type": "stream",
     "text": [
      "1\n",
      "2\n",
      "3\n",
      "4\n",
      "5\n",
      "6\n",
      "7\n",
      "8\n",
      "9\n",
      "10\n",
      "11\n",
      "12\n",
      "13\n",
      "14\n",
      "15\n",
      "16\n",
      "17\n",
      "18\n",
      "19\n",
      "20\n"
     ]
    }
   ],
   "source": [
    "#递归调用深度限制代码\n",
    "x = 0\n",
    "def fun():\n",
    "    global x  \n",
    "    x += 1\n",
    "    print(x)\n",
    "    if x < 20:\n",
    "        fun()\n",
    "# 调用函数\n",
    "fun()"
   ]
  },
  {
   "cell_type": "code",
   "execution_count": 20,
   "metadata": {},
   "outputs": [
    {
     "name": "stdout",
     "output_type": "stream",
     "text": [
      "2\n",
      "55\n"
     ]
    }
   ],
   "source": [
    "#费波那契额数列\n",
    "#一列数字，第一个值是1，第二个值也是1，从第三个开始，每一个数字的值等于牵连个数字出现的值的和\n",
    "# 数学公式：f(1)=1,f(2)=1,f(n)=f(n-1)+f(n-2)\n",
    "# 例如： 1,1,2,3,5,8,13......\n",
    "# 下面求斐波那契额数列函数有一定的问题,比如n一开始就是负数，如何修正\n",
    "# n表示第n个数字的斐波那契数列的值\n",
    "def fib(n):\n",
    "    if n==1:\n",
    "        return 1\n",
    "    if n==2:\n",
    "        return 1\n",
    "    #思考：为什么后买你return能够正确执行，而不用else语句\n",
    "    return fib(n-1)+fib(n-2)\n",
    "print(fib(3))\n",
    "print(fib(10))"
   ]
  },
  {
   "cell_type": "markdown",
   "metadata": {},
   "source": [
    "# 内置数据结构（变量类型）\n",
    "- list \n",
    "- set \n",
    "- dict\n",
    "- tuple\n",
    "## list(列表)\n",
    "    - 一组有顺序的数据的组合\n",
    "    - 创建列表\n",
    "        - 空列表"
   ]
  },
  {
   "cell_type": "code",
   "execution_count": 27,
   "metadata": {},
   "outputs": [
    {
     "name": "stdout",
     "output_type": "stream",
     "text": [
      "<class 'list'>\n",
      "<class 'list'>\n",
      "<class 'list'>\n",
      "[2, 3, 4, 5, 6, 7]\n",
      "[]\n"
     ]
    }
   ],
   "source": [
    "# 1.创建空列表\n",
    "ls = []\n",
    "# type 是内置的函数,负责答应出变量的类型\n",
    "print(type(ls))\n",
    "# 2.创建带值的列表\n",
    "l2=[100]\n",
    "print(type(l2))\n",
    "\n",
    "# 3.创建列表，带多个值\n",
    "l3= [2,3,4,5,6,7]\n",
    "print(type(l3))\n",
    "print(l3)\n",
    "# 4.使用list()\n",
    "l4 = list()\n",
    "print(l4)"
   ]
  },
  {
   "cell_type": "markdown",
   "metadata": {},
   "source": [
    "## 列表的常用操作\n",
    "- 访问\n",
    "    - 使用下标操作(索引)\n",
    "    - 列表的位置是从0开始\n",
    "- 分片操作\n",
    "    - 对列表进行任意一段的截取\n",
    "    -l[:]\n",
    "        "
   ]
  },
  {
   "cell_type": "code",
   "execution_count": 29,
   "metadata": {},
   "outputs": [
    {
     "name": "stdout",
     "output_type": "stream",
     "text": [
      "2\n",
      "1\n"
     ]
    }
   ],
   "source": [
    "#下标访问列表\n",
    "l = [1,2,3,4,5,6]\n",
    "print(l[1])\n",
    "print(l[0])"
   ]
  },
  {
   "cell_type": "code",
   "execution_count": 42,
   "metadata": {},
   "outputs": [
    {
     "name": "stdout",
     "output_type": "stream",
     "text": [
      "[2, 3, 4]\n",
      "[1, 2, 3, 4]\n",
      "[1]\n",
      "[3, 4, 5, 6]\n",
      "[2, 3, 4, 5, 6]\n",
      "[2, 4, 6]\n",
      "[3, 4, 5, 6]\n",
      "6\n"
     ]
    }
   ],
   "source": [
    "#分片操作\n",
    "# 注意截取范围,包含左边的下表,不包括在右边的下标\n",
    "# 下标值可以为空，如果不写，坐标下标值默认为0，右边下标值为最大值加一，即表示截取到最后一个数字\n",
    "print(l[1:4])\n",
    "print(l[:4])\n",
    "print(l[:1])\n",
    "print(l[2:])\n",
    "# 分片可以控制增长幅度，默认增长幅度为1\n",
    "print(l[1:6:1])\n",
    "# 打印从下标1开始的数字，每次隔一个\n",
    "print(l[1:6:2])\n",
    "#下标可以超出范围，超出后不在考虑多余下表内容\n",
    "print(l[2:10])\n",
    "# 下标值，增长幅度可以为负数\n",
    "# 为负数，表明是从右往左\n",
    "# 规定: 数字最后哦一个数字下表是-1\n",
    "print(l[-1])"
   ]
  },
  {
   "cell_type": "code",
   "execution_count": 48,
   "metadata": {},
   "outputs": [
    {
     "name": "stdout",
     "output_type": "stream",
     "text": [
      "[1, 2, 3, 4, 5, 6]\n",
      "[]\n",
      "[3, 4]\n",
      "[5, 4]\n",
      "[1, 2, 3, 4, 5, 6]\n"
     ]
    }
   ],
   "source": [
    "# 分片之负数下标\n",
    "print(l)\n",
    "#下面显示的是为空，因为默认分片总是从左向右截取，\n",
    "#即正常情况，分号左边值要小于右边\n",
    "print(l[-2:-4])\n",
    "print(l[-4:-2])\n",
    "# 如果分片一定左边值比右边大，则步长参数需要使用负数\n",
    "#此案例为一个list直接正反颠倒提供了一种思路\n",
    "print(l[-2:-4:-1])\n",
    "print(l)"
   ]
  },
  {
   "cell_type": "markdown",
   "metadata": {},
   "source": [
    "## 分片操作是生成一个新的list\n",
    "- 内置函数id ,负责显示一个变量或者数据的唯一确定的编号\n"
   ]
  },
  {
   "cell_type": "code",
   "execution_count": 60,
   "metadata": {},
   "outputs": [
    {
     "name": "stdout",
     "output_type": "stream",
     "text": [
      "1623029920\n",
      "1623033120\n",
      "1623029920\n",
      "100\n",
      "100\n",
      "1623028320\n",
      "1623029920\n"
     ]
    }
   ],
   "source": [
    "#id函数距离\n",
    "a = 100\n",
    "b = 200\n",
    "print(id(a))\n",
    "print(id(b))\n",
    "c = a\n",
    "print(id(c))\n",
    "print(a)\n",
    "print(c)\n",
    "a=50\n",
    "print(id(a))\n",
    "print(id(c))"
   ]
  },
  {
   "cell_type": "code",
   "execution_count": 63,
   "metadata": {},
   "outputs": [
    {
     "name": "stdout",
     "output_type": "stream",
     "text": [
      "2332470287688\n",
      "2332470285704\n",
      "2332470285704\n",
      "[3, 100, 56, 76, 32, 21, 43, 5]\n",
      "[3, 4, 56, 76, 32, 21, 43, 5]\n",
      "[3, 100, 56, 76, 32, 21, 43, 5]\n",
      "[3, 100, 56, 76, 32, 21, 43, 5]\n",
      "2332470285704\n",
      "2332470285704\n"
     ]
    }
   ],
   "source": [
    "#通过id可以直接判断除分片是重新生成一份数据还是使用的同一份数据\n",
    "l = [3,4,56,76,32,21,43,5]\n",
    "ll = l[:]\n",
    "lll = ll\n",
    "# 如果两个的id值一样，则表明分片产生的列表是使用的同一地址同一份数据\n",
    "#否则，则表明分片是从新生成了一份数据，及一个新的列表，然后把输几局拷贝到新的列表\n",
    "print(id(l))\n",
    "print(id(ll))\n",
    "print(id(lll))\n",
    "# 通过id 知道，ll 和lll 是同一份数，验证代码如下\n",
    "l[1]=100\n",
    "print(l)\n",
    "print(ll)\n",
    "ll[1]=100\n",
    "print(ll)\n",
    "print(lll)\n",
    "print(id(ll))\n",
    "print(id(lll))"
   ]
  }
 ],
 "metadata": {
  "kernelspec": {
   "display_name": "Python 3",
   "language": "python",
   "name": "python3"
  },
  "language_info": {
   "codemirror_mode": {
    "name": "ipython",
    "version": 3
   },
   "file_extension": ".py",
   "mimetype": "text/x-python",
   "name": "python",
   "nbconvert_exporter": "python",
   "pygments_lexer": "ipython3",
   "version": "3.6.5"
  }
 },
 "nbformat": 4,
 "nbformat_minor": 2
}
