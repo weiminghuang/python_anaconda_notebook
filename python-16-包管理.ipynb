{
 "cells": [
  {
   "cell_type": "markdown",
   "metadata": {},
   "source": [
    "# 1.模块\n",
    "- 如何使用模块\n",
    "    - 模块直接导入\n",
    "        - 假如加入模块名称直接以数字开头,借助importlib的包可以实现以数字开头的模块名称\n",
    "    - 语法\n",
    "        import module_name\n",
    "        module_name.function_name\n",
    "        module_name.class_name \n",
    "    - import 模块 as 别名\n",
    "    - from module_naem import func_name,class_name\n",
    "        - 按上述的方法有选择性的导入\n",
    "        - 使用的时候可以直接使用导入的内容，不需要前缀\n",
    "        - 案例p04\n",
    "    - from module_name import *  \n",
    "        - 导入模块的所有内容\n",
    "        - 案例p05\n",
    "- if `__name__ == \"__main__\"`的使用\n",
    "    - 可以有效避免模块代码被导入的时候是否被动执行的问题\n",
    "    - 建议所有程序的入口都以此代码为入口\n",
    "    "
   ]
  },
  {
   "cell_type": "code",
   "execution_count": null,
   "metadata": {},
   "outputs": [],
   "source": [
    "#借助importlib的包可以实现以数字开头的模块名称\n",
    "import imporlib\n",
    "tuling = importlib.import_module(\"01\")"
   ]
  },
  {
   "cell_type": "code",
   "execution_count": null,
   "metadata": {},
   "outputs": [],
   "source": [
    "import p01 as p\n",
    "stu = p.Student(\"yueyue\")"
   ]
  },
  {
   "cell_type": "code",
   "execution_count": null,
   "metadata": {},
   "outputs": [],
   "source": [
    "# 包含一个学生类，一个sayHello函数\n",
    "# 一个打印语句\n",
    "class Student():\n",
    "    def __init__(self,name=\"noName\",age=18):\n",
    "        self.name = name\n",
    "        self.age = age\n",
    "    def say(self):\n",
    "        print(\"My Name is {0}\".format(self.name))\n",
    "def sayHello():\n",
    "    print(\"Hi,欢迎来到图灵学院！\")\n",
    "# 当直接作为主模块的时候打印'我是p01呀，你特么叫我干什么'\n",
    "# 此判断语句建议一直作为程序的入口\n",
    "if __name__ == '__main__':\n",
    "    print(\"我是模块p01呀，你特么叫我干毛\")"
   ]
  },
  {
   "cell_type": "markdown",
   "metadata": {},
   "source": [
    "# 2. 模块的搜索路径和存储\n",
    "- 什么是模块的搜索路径\n",
    "    - 加载模块的时候，系统会在哪些地方寻找此模块\n",
    "- 系统默认的模块搜索路径\n",
    "     import sys\n",
    "    sys.path 属性可以获取路径列表\n",
    "    # 案例 p06.py\n",
    "- 添加搜索路径\n",
    "    sys.path.append(dir)\n",
    "- 模块加载顺序\n",
    "    1.搜索内存中已经加载好的模块\n",
    "    2.搜索python的内置模块\n",
    "    3.搜索sys.path路径\n"
   ]
  },
  {
   "cell_type": "markdown",
   "metadata": {},
   "source": [
    "# 包\n",
    "- 包是一种组织管理代码的方式，包里面存放的是模块\n",
    "- 用于将模块包含在一起的文件夹就是包\n",
    "- 自定义包的结构  \n",
    "     /- - - 包\n",
    "    /- - - / - - - __init__.py 包的标准文件\n",
    "    /- - -/ - - - 模块01\n",
    "    /- - - / - - - 模块02\n",
    "    / - - -/ - - - 模块03\n",
    "    / - - - / - - - 子包(子文件夹)\n",
    "    / - - - / - - -/- - -  __init__.py 包的标志文件\n",
    "    / - - - / - - - / - - - 子包模块1\n",
    "    / - - - / - - -/ - - - 子包模块2\n",
    "    "
   ]
  },
  {
   "cell_type": "markdown",
   "metadata": {},
   "source": [
    "- 包的导入操作\n",
    "    -  import  package_name\n",
    "        - 直接导入一个包，可以使用__init__.py中的内容\n",
    "        - 使用方式是:\n",
    "            package_name.func_name\n",
    "            package_name.class_name.func_name()\n",
    "        - 此种方式的访问内容是\n",
    "        - 案例 pkg01,p07.py   \n",
    "    - import package_name as p\n",
    "        - 具体用法跟作用，更模块的导入是一致\n",
    "        - 注意:此种方法默认是对__init__.py内容的导入\n",
    "    - import package.module\n",
    "        - 导入保证某个具体的模块导入\n",
    "        - 导入包中某个具体的模块\n",
    "        - 使用方法\n",
    "            package.module.func_name\n",
    "            package.module.class.fun()\n",
    "            package.module.class.var\n",
    "        - 案例 p08.py\n",
    "     - import package.module as pm\n",
    "     \n",
    "- from ... import 导入\n",
    "    - from package import module1,module2,module3,...\n",
    "    - 此种导入方法不执行 __init__的内容\n",
    "            from pkg01 import p01\n",
    "            p01.sayHello()\n",
    "    - from package import * \n",
    "        - 导入当前包 `__init__.py`文件中所有的函数和类\n",
    "        - 使用方法\n",
    "            func_name()   \n",
    "            class_name.func_name()\n",
    "            class_name.var\n",
    "        - 案例09.py 注意此种导入的具体内容\n",
    "- from package.module import *\n",
    "    - 导入包中指定的模块的所有内容\n",
    "    - 使用方法\n",
    "        func_name()\n",
    "        class_name.func_name()\n",
    "- 在开发环境中经常会用其他模块，可以直接在当前包中直接导入其他模块的内容\n",
    "    - import 完整的包或者模块的路径\n",
    "- `__all__`的用法\n",
    "    - 在使用 from package import * 的时候， * 可以导入的内容\n",
    "        - `__init__.py`中如果文件为空，或者没有`__all__`，那么值可以只`__init__`中的内容导入\n",
    "        - `__init__`如果设置了`__all__`的值，则 按照`__all__`指定的子包或者模块进行导入\n",
    "        如此则不会载入`__init__`中的内容\n",
    "        - `__all__=['module1','modue2','package1'......]`\n",
    "# 命名空间\n",
    "- 用于区分不同位置不同功能但相同名称的函数或者变量的一个特定前缀\n",
    "- 作用是防止命名冲突\n",
    "    setName()\n",
    "    Student.setName()\n",
    "  "
   ]
  }
 ],
 "metadata": {
  "kernelspec": {
   "display_name": "Python 3",
   "language": "python",
   "name": "python3"
  },
  "language_info": {
   "codemirror_mode": {
    "name": "ipython",
    "version": 3
   },
   "file_extension": ".py",
   "mimetype": "text/x-python",
   "name": "python",
   "nbconvert_exporter": "python",
   "pygments_lexer": "ipython3",
   "version": "3.6.5"
  }
 },
 "nbformat": 4,
 "nbformat_minor": 2
}
