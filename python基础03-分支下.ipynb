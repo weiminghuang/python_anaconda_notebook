{
 "cells": [
  {
   "cell_type": "markdown",
   "metadata": {},
   "source": [
    "## 多路分支\n",
    "- 很多分支的情况，简称多路分支\n",
    "    if 条件表达式:\n",
    "        语句1\n",
    "        ...\n",
    "    elif 条件表达式:\n",
    "        语句1\n",
    "        ...\n",
    "    elif 条件表达式:\n",
    "        语句1\n",
    "        ...\n",
    "    ....\n",
    "    else:\n",
    "        语句1\n",
    "        ...\n",
    " - elif 可以有很多个\n",
    " - else可选\n",
    " - 多路分支只执行一个\n"
   ]
  },
  {
   "cell_type": "code",
   "execution_count": null,
   "metadata": {},
   "outputs": [],
   "source": [
    "score= input(\"请输入学生成绩:\")\n",
    "if score >= 90:\n",
    "    print(\"A\")\n",
    "elif score >=80:\n",
    "    print(\"B\")\n",
    "elif score >=70:\n",
    "    print(\"C\")\n",
    "else:\n",
    "    print(\"起开，我没你这个学生\")"
   ]
  },
  {
   "cell_type": "code",
   "execution_count": null,
   "metadata": {},
   "outputs": [],
   "source": [
    "##if语句其他：\n",
    "- if语句可以嵌套使用，但不推荐\n",
    "- python没有switch-case语句"
   ]
  }
 ],
 "metadata": {
  "kernelspec": {
   "display_name": "Python 3",
   "language": "python",
   "name": "python3"
  },
  "language_info": {
   "codemirror_mode": {
    "name": "ipython",
    "version": 3
   },
   "file_extension": ".py",
   "mimetype": "text/x-python",
   "name": "python",
   "nbconvert_exporter": "python",
   "pygments_lexer": "ipython3",
   "version": "3.6.5"
  }
 },
 "nbformat": 4,
 "nbformat_minor": 2
}
