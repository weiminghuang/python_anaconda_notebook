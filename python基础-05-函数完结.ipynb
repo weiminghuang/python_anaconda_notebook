{
 "cells": [
  {
   "cell_type": "markdown",
   "metadata": {},
   "source": [
    "# 四类参数\n",
    "- 普通参数\n",
    "- 默认参数\n",
    "- 关键字参数\n",
    "    明确的指出参数的值给谁\n",
    "- 收集参数\n",
    "## 关键字参数开始\n",
    "- 语法\n",
    "\n",
    "        def func(p1=v1,p2=v2......):\n",
    "           func_body\n",
    "        调用函数：\n",
    "        func(p1=value1,p2=value2......)\n",
    "    - 比较麻烦，但也有好处\n",
    "        - 不容易混淆，一般实参和形参只是按照位置--对应即可，容易出错\n",
    "        - 使用关键字参数，可以不考虑参数位置"
   ]
  },
  {
   "cell_type": "code",
   "execution_count": 2,
   "metadata": {},
   "outputs": [
    {
     "name": "stdout",
     "output_type": "stream",
     "text": [
      "I am a stuent\n",
      "我叫jingjing，我今年18岁，我住我家\n",
      "I am a stuent\n",
      "我叫huangweiming，我今年30岁，我住他家\n"
     ]
    }
   ],
   "source": [
    "# 关键字参数案例\n",
    "def stu(name, age, addr):\n",
    "    print(\"I am a stuent\")\n",
    "    print(\"我叫{0}，我今年{1}岁，我住{2}\".format(name,age,addr))\n",
    "    \n",
    "n = \"jingjing\"\n",
    "a = 18\n",
    "addr = \"我家\"\n",
    "stu(n,a,addr)\n",
    "#使用关键字参数调用\n",
    "stu(name=\"huangweiming\",addr=\"他家\",age=30)"
   ]
  },
  {
   "cell_type": "markdown",
   "metadata": {},
   "source": [
    "## 收集参数\n",
    "- 把没有位置，不能和定义时的参数位置相对应的参数，放入一个特定的数据结构中\n",
    "- 语法\n",
    "     \n",
    "         def func(*args):\n",
    "             func_body\n",
    "             按照list使用方式访问args得到传入的参数\n",
    "         调用：\n",
    "             func(p1,p2,p3,......)\n",
    "             \n",
    "             -  参数名 不是必须这么写，但是我，我们推荐直接用args,约定俗成\n",
    "             - 参数名args前需要有星号\n",
    "             - 收集参数可以和其他参数共存"
   ]
  },
  {
   "cell_type": "code",
   "execution_count": 7,
   "metadata": {},
   "outputs": [
    {
     "name": "stdout",
     "output_type": "stream",
     "text": [
      "hello 大家好，我自我介绍一下，简单说两句\n",
      "<class 'tuple'>\n",
      "liuying\n",
      "18\n",
      "北京大学通州区\n",
      "王晓静\n",
      "single\n",
      "hello 大家好，我自我介绍一下，简单说两句\n",
      "<class 'tuple'>\n",
      "周大神\n",
      "hello 大家好，我自我介绍一下，简单说两句\n",
      "<class 'tuple'>\n"
     ]
    }
   ],
   "source": [
    "#收集参数代码\n",
    "# 函数模拟一个学生进行自我介绍，但具体内容不清楚\n",
    "# args把他看做一个列表\n",
    "def stu(*args):\n",
    "    print(\"hello 大家好，我自我介绍一下，简单说两句\")\n",
    "    # type函数作用时监测变量的类型\n",
    "    print(type(args))\n",
    "    for item in args:\n",
    "        print(item)\n",
    "    pass\n",
    "stu(\"liuying\",18,\"北京大学通州区\",\"王晓静\",\"single\")\n",
    "stu(\"周大神\")\n",
    "#收集参数案例\n",
    "#说明收集参数可以不带任何实参掉哟ing，此时收集参数为空tuple\n",
    "stu()"
   ]
  },
  {
   "cell_type": "code",
   "execution_count": null,
   "metadata": {},
   "outputs": [],
   "source": [
    "#如果使用关键字参数格式调用，会出现问题"
   ]
  },
  {
   "cell_type": "markdown",
   "metadata": {},
   "source": [
    "### 收集参数之关键字收集参数\n",
    "- 把关键字参数按照字典格式存入收集参数\n",
    "- 语法：\n",
    "\n",
    "        def func(**kwargs):\n",
    "            func_body\n",
    "        #调用：\n",
    "        func(p1=v1, p2=v2, p3=v3......)\n",
    "   - kwargs一般约定俗成\n",
    "   - 调用的时候，把多余关键字参数放入kwargs\n",
    "   - 访问kwargs需要按照字典格式访问\n",
    "   "
   ]
  },
  {
   "cell_type": "code",
   "execution_count": 20,
   "metadata": {},
   "outputs": [
    {
     "name": "stdout",
     "output_type": "stream",
     "text": [
      "hello 大家号，我先自我介绍一下\n",
      "<class 'dict'>\n",
      "name --- liuying\n",
      "age --- 10\n",
      "addr --- 北京市通州区\n",
      "lover --- 王晓静\n",
      "work --- Teacher\n",
      "*******\n",
      "hello 大家号，我先自我介绍一下\n",
      "<class 'dict'>\n",
      "name --- 周大神\n",
      "hhhhhhhhhhhhhhhhhhhhhhhhhhhhhhhhhhhhhhhhhhhhhhhhhh\n",
      "aaaaaaaaaaaaaaaaaaaaaaaaaaaaaaaaaaaaaaaaaaaaaaaaaaaaaaaaaaaaaaaaaaaaaa\n"
     ]
    }
   ],
   "source": [
    "# 收集参数案例\n",
    "# 自我介绍\n",
    "# 调用的时候需要使用关键字参数调用\n",
    "def stu(**kwargs):\n",
    "    #在函数体内对于kwargs的使用不用戴星号\n",
    "    print(\"hello 大家号，我先自我介绍一下\")\n",
    "    print(type(kwargs))\n",
    "    #对于字典的访问，python2和pythone有区别\n",
    "    for k,v in kwargs.items():\n",
    "        print(k,\"---\",v)\n",
    "stu(name=\"liuying\",age=10,addr=\"北京市通州区\",lover=\"王晓静\",work=\"Teacher\")\n",
    "print(\"*******\")\n",
    "stu(name=\"周大神\")\n",
    "print(\"h\"*50)\n",
    "print(\"a\"*70)"
   ]
  },
  {
   "cell_type": "code",
   "execution_count": 19,
   "metadata": {},
   "outputs": [
    {
     "name": "stdout",
     "output_type": "stream",
     "text": [
      "hello 大家号，我先自我介绍一下\n",
      "<class 'dict'>\n"
     ]
    }
   ],
   "source": [
    "#收集参数可以为空案例\n",
    "stu()"
   ]
  },
  {
   "cell_type": "markdown",
   "metadata": {},
   "source": [
    "### 收集参数混合调用的顺序问题\n",
    "- 收集参数，关键字参数，普通参数可以混合使用\n",
    "- 使用规则就是，普通参数和关键字参数优先\n",
    "- 定义的时候一般找普通参数，关键字参数，收集参数tuple,收集参数dict"
   ]
  },
  {
   "cell_type": "code",
   "execution_count": 33,
   "metadata": {},
   "outputs": [
    {
     "name": "stdout",
     "output_type": "stream",
     "text": [
      "hello 大家好\n",
      "我叫liuying,我今年19大了\n",
      "我没有爱好，很以后\n",
      "********************\n",
      "##############################\n",
      "hello 大家好\n",
      "我叫liuying,我今年19大了\n",
      "我的爱好是游泳\n",
      "********************\n",
      "##############################\n",
      "hello 大家好\n",
      "我叫liuying,我今年19大了\n",
      "我的爱好是游泳\n",
      "********************\n",
      "王晓静\n",
      "到时候\n",
      "##############################\n",
      "hobby2 --- 烹饪\n",
      "hobby3 --- 和不同的女生聊天\n"
     ]
    }
   ],
   "source": [
    "# 收集参数混合调用案例\n",
    "# stu模拟一个学生的自我介绍\n",
    "def stu(name,age,*args,hobby=\"没有\",**kwargs):\n",
    "    print(\"hello 大家好\")\n",
    "    print(\"我叫{0},我今年{1}大了\".format(name,age))\n",
    "    if hobby == \"没有\":\n",
    "        print(\"我没有爱好，很以后\")\n",
    "    else:\n",
    "        print(\"我的爱好是{0}\".format(hobby))\n",
    "    print(\"*\"*20)\n",
    "    for i in args:\n",
    "        print(i)\n",
    "    print(\"#\"*30)\n",
    "    for k,v in kwargs.items():\n",
    "        print(k,\"---\",v)\n",
    "#开始调用\n",
    "name = \"liuying\"\n",
    "age = 19\n",
    "stu(name,age)\n",
    "stu(name,age,hobby=\"游泳\")\n",
    "stu(name,age,\"王晓静\",\"到时候\",hobby=\"游泳\",hobby2=\"烹饪\",hobby3=\"和不同的女生聊天\")"
   ]
  },
  {
   "cell_type": "markdown",
   "metadata": {},
   "source": [
    "### 收集参数的解包问题\n",
    "- 把参数放入list或字典中，直接把list/dict 中的值放入收集参数中\n",
    "- 语法:参看案例"
   ]
  },
  {
   "cell_type": "code",
   "execution_count": 38,
   "metadata": {},
   "outputs": [
    {
     "name": "stdout",
     "output_type": "stream",
     "text": [
      "哈哈哈哈哈\n",
      "<class 'str'>\n",
      "0\n",
      "liuying\n",
      "<class 'str'>\n",
      "1\n",
      "liuxiaojing\n",
      "<class 'int'>\n",
      "2\n",
      "19\n",
      "<class 'int'>\n",
      "3\n",
      "200\n",
      "哈哈哈哈哈\n",
      "<class 'list'>\n",
      "0\n",
      "['liuying', 20, 230]\n"
     ]
    }
   ],
   "source": [
    "#收集参数的解包问题\n",
    "def stu(*args):\n",
    "    print(\"哈哈哈哈哈\")\n",
    "    n = 0\n",
    "    for i in args:\n",
    "        print(type(i))\n",
    "        print(n)\n",
    "        n += 1\n",
    "        print(i)\n",
    "stu(\"liuying\",\"liuxiaojing\",19,200) \n",
    "l=list();\n",
    "l.append(\"liuying\");\n",
    "l.append(20)\n",
    "l.append(230)\n",
    "stu(l)\n",
    "#此时，args的表示形式是字典里内一个list类型的元素，即 arg=([\"liuying\",19,23,\"wangxiaojing\"])\n",
    "#很显然跟我们最初的想法违背"
   ]
  },
  {
   "cell_type": "markdown",
   "metadata": {},
   "source": [
    "同理,dict类型收集参数一样可以解包,但是\n",
    "    对dict类型进行解包\n",
    "    需要用两个星号进行解包\n",
    "返回值:\n",
    "   - 函数和过程的区别\n",
    "       - 有无返回值\n",
    "   - 需要用return显示返回内容\n",
    "   - 如果没有返回,则默认返回None\n",
    "   - 推荐写法,无论有无返回值,最后都要以return 结束"
   ]
  },
  {
   "cell_type": "code",
   "execution_count": 40,
   "metadata": {},
   "outputs": [
    {
     "name": "stdout",
     "output_type": "stream",
     "text": [
      "有返回值\n",
      "1\n",
      "没有返回值\n",
      "None\n"
     ]
    }
   ],
   "source": [
    "def func_1():\n",
    "    print(\"有返回值\")\n",
    "    return 1\n",
    "def func_2():\n",
    "    print(\"没有返回值\")\n",
    "f1 = func_1()\n",
    "print(f1)\n",
    "f2 = func_2()\n",
    "print(f2)"
   ]
  },
  {
   "cell_type": "markdown",
   "metadata": {},
   "source": [
    "# 函数文档\n",
    "- 函数的文档的作用是对单签函数提供给使用相关的参考信息\n",
    "- 文档的写法:\n",
    "     - 在函数内部开始的第一行使用三个字符串定义\n",
    "     - 一般具有特定格式\n",
    "     - 参考案例\n",
    "- 文档查看\n",
    "    -使用help函数,形如help(func)\n",
    "    -使用__doc__,参考案例"
   ]
  },
  {
   "cell_type": "code",
   "execution_count": 54,
   "metadata": {},
   "outputs": [],
   "source": [
    "# 文档案例\n",
    "# 函数stu是模拟一个学生的自我介绍的内容\n",
    "def stu(name,age,*args):\n",
    "    '''\n",
    "    这是第一行\n",
    "    ：param name:姓名\n",
    "    ：param age:表示学生的年龄\n",
    "    ：return\n",
    "\n",
    "    '''\n",
    "    print(\"this is hanshu stu\")"
   ]
  },
  {
   "cell_type": "code",
   "execution_count": 55,
   "metadata": {},
   "outputs": [
    {
     "name": "stdout",
     "output_type": "stream",
     "text": [
      "Help on function stu in module __main__:\n",
      "\n",
      "stu(name, age, *args)\n",
      "    这是第一行\n",
      "    ：param name:姓名\n",
      "    ：param age:表示学生的年龄\n",
      "    ：return\n",
      "\n"
     ]
    }
   ],
   "source": [
    "#查看函数文档\n",
    "help(stu)"
   ]
  },
  {
   "cell_type": "code",
   "execution_count": 52,
   "metadata": {},
   "outputs": [
    {
     "data": {
      "text/plain": [
       "'\\n    这是第一行\\n    这是第二行\\n    这是第三行\\n    \\n    '"
      ]
     },
     "execution_count": 52,
     "metadata": {},
     "output_type": "execute_result"
    }
   ],
   "source": [
    "#查看函数文档\n",
    "stu.__doc__"
   ]
  }
 ],
 "metadata": {
  "kernelspec": {
   "display_name": "Python 3",
   "language": "python",
   "name": "python3"
  },
  "language_info": {
   "codemirror_mode": {
    "name": "ipython",
    "version": 3
   },
   "file_extension": ".py",
   "mimetype": "text/x-python",
   "name": "python",
   "nbconvert_exporter": "python",
   "pygments_lexer": "ipython3",
   "version": "3.6.5"
  }
 },
 "nbformat": 4,
 "nbformat_minor": 2
}
