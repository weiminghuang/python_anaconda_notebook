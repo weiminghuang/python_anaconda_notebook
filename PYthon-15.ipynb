{
 "cells": [
  {
   "cell_type": "code",
   "execution_count": null,
   "metadata": {},
   "outputs": [],
   "source": []
  },
  {
   "cell_type": "code",
   "execution_count": 6,
   "metadata": {},
   "outputs": [
    {
     "name": "stdout",
     "output_type": "stream",
     "text": [
      "haha\n",
      "liudana\n"
     ]
    },
    {
     "ename": "AttributeError",
     "evalue": "'A' object has no attribute 'name'",
     "output_type": "error",
     "traceback": [
      "\u001b[1;31m---------------------------------------------------------------------------\u001b[0m",
      "\u001b[1;31mAttributeError\u001b[0m                            Traceback (most recent call last)",
      "\u001b[1;32m<ipython-input-6-2a02a8c18cd8>\u001b[0m in \u001b[0;36m<module>\u001b[1;34m()\u001b[0m\n\u001b[0;32m     13\u001b[0m \u001b[0mprint\u001b[0m\u001b[1;33m(\u001b[0m\u001b[0ma\u001b[0m\u001b[1;33m.\u001b[0m\u001b[0mname\u001b[0m\u001b[1;33m)\u001b[0m\u001b[1;33m\u001b[0m\u001b[0m\n\u001b[0;32m     14\u001b[0m \u001b[1;32mdel\u001b[0m \u001b[0ma\u001b[0m\u001b[1;33m.\u001b[0m\u001b[0mname\u001b[0m\u001b[1;33m\u001b[0m\u001b[0m\n\u001b[1;32m---> 15\u001b[1;33m \u001b[0mprint\u001b[0m\u001b[1;33m(\u001b[0m\u001b[0ma\u001b[0m\u001b[1;33m.\u001b[0m\u001b[0mname\u001b[0m\u001b[1;33m)\u001b[0m\u001b[1;33m\u001b[0m\u001b[0m\n\u001b[0m",
      "\u001b[1;31mAttributeError\u001b[0m: 'A' object has no attribute 'name'"
     ]
    }
   ],
   "source": [
    "# 变量的三种用法\n",
    "class A():\n",
    "    def __init__(self):\n",
    "        self.name = \"haha\"\n",
    "        self.age = 18\n",
    "a = A()\n",
    "# 属性的三种用法\n",
    "# 1，赋值\n",
    "# 2,读取\n",
    "# 3，删除\n",
    "print(a.name)\n",
    "a.name = \"liudana\"\n",
    "print(a.name)\n",
    "del a.name\n",
    "#print(a.name)"
   ]
  },
  {
   "cell_type": "code",
   "execution_count": 11,
   "metadata": {},
   "outputs": [
    {
     "name": "stdout",
     "output_type": "stream",
     "text": [
      "haha\n",
      "我读取的时候\n",
      "haha\n"
     ]
    }
   ],
   "source": [
    "# 类属性 property\n",
    "# 应用场景：\n",
    "# 对变量除了普通的三种操作，还向增加一些附加的操作，那么还可以通过property完成\n",
    "class A():\n",
    "    def __init__(self):\n",
    "        self.name = \"haha\"\n",
    "        self.age = 18\n",
    "    # 此功能，是对类变量进行读取操作的时候应该执行的函数功能\n",
    "    def fget(self):\n",
    "        print(\"我读取的时候\")\n",
    "        return self.name\n",
    "    # 模拟的是对变量进行写操作的时候执行的功能\n",
    "    def fset(self,name):\n",
    "        print(\"我被写入了，但是还可以做好多事情\")\n",
    "        self.name = \"图灵学院：\" + name\n",
    "    # fdel 模拟了删除变量的时候进行了的操作\n",
    "    def fdel(self):\n",
    "        pass\n",
    "    \n",
    "    # property的四个参数顺序是固定的\n",
    "    # 第一个参数代表读取的时候选哟调用的函数\n",
    "    # 第二个参数岱庙写入的时候需要调用的函数\n",
    "    # 第三个是删除\n",
    "    name2 = property(fget,fset,fdel,\"这是说明文档\")\n",
    "a = A()\n",
    "print(a.name)\n",
    "print(a.name2)"
   ]
  },
  {
   "cell_type": "code",
   "execution_count": 12,
   "metadata": {},
   "outputs": [
    {
     "name": "stdout",
     "output_type": "stream",
     "text": [
      "闻一下对方\n",
      "kiss me\n"
     ]
    }
   ],
   "source": [
    "# 抽象 \n",
    "class Animel():\n",
    "    def sayHello(self):\n",
    "        pass\n",
    "class Dog(Animel):\n",
    "    def sayHello(self):\n",
    "        print(\"闻一下对方\")\n",
    "    \n",
    "class Person(Animel):\n",
    "    def sayHello(self):\n",
    "        print(\"kiss me\")\n",
    "d = Dog()\n",
    "d.sayHello()\n",
    "p = Person()\n",
    "p.sayHello()\n",
    "    "
   ]
  },
  {
   "cell_type": "code",
   "execution_count": 17,
   "metadata": {},
   "outputs": [
    {
     "name": "stdout",
     "output_type": "stream",
     "text": [
      "smoking\n"
     ]
    }
   ],
   "source": [
    "# 抽象类的实现\n",
    "import abc\n",
    "#申明一个类并且指定当前类的元类\n",
    "class Human (metaclass=abc.ABCMeta):\n",
    "    #定义一个抽象方法\n",
    "    @abc.abstractmethod\n",
    "    def smoking(self):\n",
    "        pass\n",
    "    # 定义类抽象方法\n",
    "    @abc.abstractclassmethod\n",
    "    def  drink(cls):\n",
    "        pass\n",
    "    # 定义静态抽象方法\n",
    "    @abc.abstractstaticmethod\n",
    "    def play():\n",
    "        pass\n",
    "    def sleep(self):\n",
    "        pass\n",
    "class Student(Human):\n",
    "    def smoking(self):\n",
    "        print(\"smoking\")\n",
    "    def drink(cls):\n",
    "        print(\"class method\")\n",
    "    def play():\n",
    "        print(\"playing....\")\n",
    "student = Student()\n",
    "student.smoking()"
   ]
  },
  {
   "cell_type": "code",
   "execution_count": 19,
   "metadata": {},
   "outputs": [
    {
     "name": "stdout",
     "output_type": "stream",
     "text": [
      "月月你好，来一发吗\n",
      "yueyue你好，来一发吗\n"
     ]
    }
   ],
   "source": [
    "# 函数名可以当变量使用\n",
    "def sayHello(name):\n",
    "    print(\"{0}你好，来一发吗\".format(name))\n",
    "sayHello(\"月月\")\n",
    "liumang = sayHello\n",
    "liumang(\"yueyue\")"
   ]
  },
  {
   "cell_type": "markdown",
   "metadata": {},
   "source": [
    "# 10 自定义类\n",
    "- 类其实是一个类定义和各种方法的自由组装\n",
    "- 可以定义类和函数，然后自己通过类直接赋值\n",
    "- 可以借助于MethodType实现\n",
    "- 借助type实现\n",
    "- 利于元类实现 - MetaClass\n",
    "    - 元类是类\n",
    "    - 被用来创造别的类"
   ]
  },
  {
   "cell_type": "code",
   "execution_count": 20,
   "metadata": {},
   "outputs": [
    {
     "name": "stdout",
     "output_type": "stream",
     "text": [
      "saying......\n"
     ]
    },
    {
     "data": {
      "text/plain": [
       "mappingproxy({'__module__': '__main__',\n",
       "              '__dict__': <attribute '__dict__' of 'A' objects>,\n",
       "              '__weakref__': <attribute '__weakref__' of 'A' objects>,\n",
       "              '__doc__': None,\n",
       "              'say': <function __main__.say(self)>})"
      ]
     },
     "execution_count": 20,
     "metadata": {},
     "output_type": "execute_result"
    }
   ],
   "source": [
    "# 自己组装一个类\n",
    "class A():\n",
    "    pass\n",
    "def say(self):\n",
    "    print(\"saying......\")\n",
    "say(9)\n",
    "A.say = say\n",
    "A.__dict__"
   ]
  },
  {
   "cell_type": "code",
   "execution_count": 44,
   "metadata": {},
   "outputs": [
    {
     "name": "stdout",
     "output_type": "stream",
     "text": [
      "Saying ......\n",
      "Saying...\n"
     ]
    }
   ],
   "source": [
    "# 组装类例子 2\n",
    "# 自己组装一个类\n",
    "from types import MethodType\n",
    "class A():\n",
    "    pass\n",
    "def say(self):\n",
    "    print(\"Saying ......\")\n",
    "def says():\n",
    "    print(\"Saying...\")\n",
    "a = A()\n",
    "a.say = MethodType(say,A) # 把say绑定到A上,不借助该MethodType,则类实例化后的对象不会传入到方法的self参数，会报错\n",
    "a.say()\n",
    "a.say1 = says\n",
    "a.say1()"
   ]
  },
  {
   "cell_type": "code",
   "execution_count": 24,
   "metadata": {},
   "outputs": [
    {
     "name": "stdout",
     "output_type": "stream",
     "text": [
      "Help on class method in module builtins:\n",
      "\n",
      "class method(object)\n",
      " |  method(function, instance)\n",
      " |  \n",
      " |  Create a bound instance method object.\n",
      " |  \n",
      " |  Methods defined here:\n",
      " |  \n",
      " |  __call__(self, /, *args, **kwargs)\n",
      " |      Call self as a function.\n",
      " |  \n",
      " |  __delattr__(self, name, /)\n",
      " |      Implement delattr(self, name).\n",
      " |  \n",
      " |  __eq__(self, value, /)\n",
      " |      Return self==value.\n",
      " |  \n",
      " |  __ge__(self, value, /)\n",
      " |      Return self>=value.\n",
      " |  \n",
      " |  __get__(self, instance, owner, /)\n",
      " |      Return an attribute of instance, which is of type owner.\n",
      " |  \n",
      " |  __getattribute__(self, name, /)\n",
      " |      Return getattr(self, name).\n",
      " |  \n",
      " |  __gt__(self, value, /)\n",
      " |      Return self>value.\n",
      " |  \n",
      " |  __hash__(self, /)\n",
      " |      Return hash(self).\n",
      " |  \n",
      " |  __le__(self, value, /)\n",
      " |      Return self<=value.\n",
      " |  \n",
      " |  __lt__(self, value, /)\n",
      " |      Return self<value.\n",
      " |  \n",
      " |  __ne__(self, value, /)\n",
      " |      Return self!=value.\n",
      " |  \n",
      " |  __new__(*args, **kwargs) from builtins.type\n",
      " |      Create and return a new object.  See help(type) for accurate signature.\n",
      " |  \n",
      " |  __reduce__(...)\n",
      " |      helper for pickle\n",
      " |  \n",
      " |  __repr__(self, /)\n",
      " |      Return repr(self).\n",
      " |  \n",
      " |  __setattr__(self, name, value, /)\n",
      " |      Implement setattr(self, name, value).\n",
      " |  \n",
      " |  ----------------------------------------------------------------------\n",
      " |  Data descriptors defined here:\n",
      " |  \n",
      " |  __func__\n",
      " |      the function (or other callable) implementing a method\n",
      " |  \n",
      " |  __self__\n",
      " |      the instance to which a method is bound\n",
      "\n"
     ]
    }
   ],
   "source": [
    "help(MethodType)"
   ]
  },
  {
   "cell_type": "code",
   "execution_count": 25,
   "metadata": {},
   "outputs": [
    {
     "name": "stdout",
     "output_type": "stream",
     "text": [
      "Help on class type in module builtins:\n",
      "\n",
      "class type(object)\n",
      " |  type(object_or_name, bases, dict)\n",
      " |  type(object) -> the object's type\n",
      " |  type(name, bases, dict) -> a new type\n",
      " |  \n",
      " |  Methods defined here:\n",
      " |  \n",
      " |  __call__(self, /, *args, **kwargs)\n",
      " |      Call self as a function.\n",
      " |  \n",
      " |  __delattr__(self, name, /)\n",
      " |      Implement delattr(self, name).\n",
      " |  \n",
      " |  __dir__(...)\n",
      " |      __dir__() -> list\n",
      " |      specialized __dir__ implementation for types\n",
      " |  \n",
      " |  __getattribute__(self, name, /)\n",
      " |      Return getattr(self, name).\n",
      " |  \n",
      " |  __init__(self, /, *args, **kwargs)\n",
      " |      Initialize self.  See help(type(self)) for accurate signature.\n",
      " |  \n",
      " |  __instancecheck__(...)\n",
      " |      __instancecheck__() -> bool\n",
      " |      check if an object is an instance\n",
      " |  \n",
      " |  __new__(*args, **kwargs)\n",
      " |      Create and return a new object.  See help(type) for accurate signature.\n",
      " |  \n",
      " |  __prepare__(...)\n",
      " |      __prepare__() -> dict\n",
      " |      used to create the namespace for the class statement\n",
      " |  \n",
      " |  __repr__(self, /)\n",
      " |      Return repr(self).\n",
      " |  \n",
      " |  __setattr__(self, name, value, /)\n",
      " |      Implement setattr(self, name, value).\n",
      " |  \n",
      " |  __sizeof__(...)\n",
      " |      __sizeof__() -> int\n",
      " |      return memory consumption of the type object\n",
      " |  \n",
      " |  __subclasscheck__(...)\n",
      " |      __subclasscheck__() -> bool\n",
      " |      check if a class is a subclass\n",
      " |  \n",
      " |  __subclasses__(...)\n",
      " |      __subclasses__() -> list of immediate subclasses\n",
      " |  \n",
      " |  mro(...)\n",
      " |      mro() -> list\n",
      " |      return a type's method resolution order\n",
      " |  \n",
      " |  ----------------------------------------------------------------------\n",
      " |  Data descriptors defined here:\n",
      " |  \n",
      " |  __abstractmethods__\n",
      " |  \n",
      " |  __dict__\n",
      " |  \n",
      " |  __text_signature__\n",
      " |  \n",
      " |  ----------------------------------------------------------------------\n",
      " |  Data and other attributes defined here:\n",
      " |  \n",
      " |  __base__ = <class 'object'>\n",
      " |      The most base type\n",
      " |  \n",
      " |  __bases__ = (<class 'object'>,)\n",
      " |  \n",
      " |  __basicsize__ = 864\n",
      " |  \n",
      " |  __dictoffset__ = 264\n",
      " |  \n",
      " |  __flags__ = -2146675712\n",
      " |  \n",
      " |  __itemsize__ = 40\n",
      " |  \n",
      " |  __mro__ = (<class 'type'>, <class 'object'>)\n",
      " |  \n",
      " |  __weakrefoffset__ = 368\n",
      "\n"
     ]
    }
   ],
   "source": [
    "\n",
    "help(type)"
   ]
  },
  {
   "cell_type": "code",
   "execution_count": 26,
   "metadata": {},
   "outputs": [
    {
     "data": {
      "text/plain": [
       "int"
      ]
     },
     "execution_count": 26,
     "metadata": {},
     "output_type": "execute_result"
    }
   ],
   "source": [
    "type(9)"
   ]
  },
  {
   "cell_type": "code",
   "execution_count": 29,
   "metadata": {},
   "outputs": [
    {
     "name": "stdout",
     "output_type": "stream",
     "text": [
      "Saying......\n"
     ]
    }
   ],
   "source": [
    "# 利用type造一个类\n",
    "# 先定义类应该具有的成员函数\n",
    "def say(self):\n",
    "    print(\"Saying......\")\n",
    "def talk(self):\n",
    "    print(\"Talking......\")\n",
    "#用type来创建一个类\n",
    "A = type(\"AName\",(object,),{\"class_say\":say,\"class_talk\":talk})\n",
    "\n",
    "#然后可以像正常访问一样使用类\n",
    "a = A()\n",
    "#dir(a)\n",
    "a.class_say()"
   ]
  },
  {
   "cell_type": "code",
   "execution_count": 38,
   "metadata": {},
   "outputs": [
    {
     "name": "stdout",
     "output_type": "stream",
     "text": [
      "哈哈，我是元类呀\n",
      "000000\n",
      "北京海淀区公主坟西翠路12号\n"
     ]
    }
   ],
   "source": [
    "# 元类演示\n",
    "\n",
    "# 元类写法是固定的，塔必须继承子type,元类以MetaClass结尾，但这不是硬性规定\n",
    "# 元类 一般命名以MetaClass结尾\n",
    "class TulingMetaClass(type):\n",
    "    #注意一下写法\n",
    "    def __new__(cls, name, bases, attrs):\n",
    "        # 自定的业务处理\n",
    "        print(\"哈哈，我是元类呀\")\n",
    "        attrs['id'] = '000000'  # 所有基于该元类创建的类都具有该属性\n",
    "        attrs['addr'] = \"北京海淀区公主坟西翠路12号\"  # 所有基于该元类创建的类都具有该属性\n",
    "        return type.__new__(cls,name,bases,attrs)\n",
    "# 元类定义完就可以使用，使用注意写法\n",
    "class Teacher(object,metaclass=TulingMetaClass):\n",
    "    pass\n",
    "t = Teacher()\n",
    "t.__dict__\n",
    "print(t.id)\n",
    "print(t.addr)"
   ]
  }
 ],
 "metadata": {
  "kernelspec": {
   "display_name": "Python 3",
   "language": "python",
   "name": "python3"
  },
  "language_info": {
   "codemirror_mode": {
    "name": "ipython",
    "version": 3
   },
   "file_extension": ".py",
   "mimetype": "text/x-python",
   "name": "python",
   "nbconvert_exporter": "python",
   "pygments_lexer": "ipython3",
   "version": "3.6.5"
  }
 },
 "nbformat": 4,
 "nbformat_minor": 2
}
