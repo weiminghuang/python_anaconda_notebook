{
 "cells": [
  {
   "cell_type": "markdown",
   "metadata": {},
   "source": [
    "# 常用模块\n",
    "- calendar\n",
    "- time\n",
    "- datetime\n",
    "- timeit\n",
    "- os\n",
    "- shuti\n",
    "- zip\n",
    "- math\n",
    "- string\n",
    "- 上述所有模块使用理论上都应先导入，string是特例\n",
    "- calendar,time,datetime的区别参数中文意思"
   ]
  },
  {
   "cell_type": "markdown",
   "metadata": {},
   "source": [
    "# calendar\n",
    "- 跟日历相关的模块"
   ]
  },
  {
   "cell_type": "code",
   "execution_count": 3,
   "metadata": {},
   "outputs": [],
   "source": [
    "# 使用徐要先导入\n",
    "import calendar"
   ]
  },
  {
   "cell_type": "code",
   "execution_count": 4,
   "metadata": {},
   "outputs": [
    {
     "name": "stdout",
     "output_type": "stream",
     "text": [
      "                                  2017\n",
      "\n",
      "      January                   February                   March\n",
      "Mo Tu We Th Fr Sa Su      Mo Tu We Th Fr Sa Su      Mo Tu We Th Fr Sa Su\n",
      "                   1             1  2  3  4  5             1  2  3  4  5\n",
      " 2  3  4  5  6  7  8       6  7  8  9 10 11 12       6  7  8  9 10 11 12\n",
      " 9 10 11 12 13 14 15      13 14 15 16 17 18 19      13 14 15 16 17 18 19\n",
      "16 17 18 19 20 21 22      20 21 22 23 24 25 26      20 21 22 23 24 25 26\n",
      "23 24 25 26 27 28 29      27 28                     27 28 29 30 31\n",
      "30 31\n",
      "\n",
      "       April                      May                       June\n",
      "Mo Tu We Th Fr Sa Su      Mo Tu We Th Fr Sa Su      Mo Tu We Th Fr Sa Su\n",
      "                1  2       1  2  3  4  5  6  7                1  2  3  4\n",
      " 3  4  5  6  7  8  9       8  9 10 11 12 13 14       5  6  7  8  9 10 11\n",
      "10 11 12 13 14 15 16      15 16 17 18 19 20 21      12 13 14 15 16 17 18\n",
      "17 18 19 20 21 22 23      22 23 24 25 26 27 28      19 20 21 22 23 24 25\n",
      "24 25 26 27 28 29 30      29 30 31                  26 27 28 29 30\n",
      "\n",
      "        July                     August                  September\n",
      "Mo Tu We Th Fr Sa Su      Mo Tu We Th Fr Sa Su      Mo Tu We Th Fr Sa Su\n",
      "                1  2          1  2  3  4  5  6                   1  2  3\n",
      " 3  4  5  6  7  8  9       7  8  9 10 11 12 13       4  5  6  7  8  9 10\n",
      "10 11 12 13 14 15 16      14 15 16 17 18 19 20      11 12 13 14 15 16 17\n",
      "17 18 19 20 21 22 23      21 22 23 24 25 26 27      18 19 20 21 22 23 24\n",
      "24 25 26 27 28 29 30      28 29 30 31               25 26 27 28 29 30\n",
      "31\n",
      "\n",
      "      October                   November                  December\n",
      "Mo Tu We Th Fr Sa Su      Mo Tu We Th Fr Sa Su      Mo Tu We Th Fr Sa Su\n",
      "                   1             1  2  3  4  5                   1  2  3\n",
      " 2  3  4  5  6  7  8       6  7  8  9 10 11 12       4  5  6  7  8  9 10\n",
      " 9 10 11 12 13 14 15      13 14 15 16 17 18 19      11 12 13 14 15 16 17\n",
      "16 17 18 19 20 21 22      20 21 22 23 24 25 26      18 19 20 21 22 23 24\n",
      "23 24 25 26 27 28 29      27 28 29 30               25 26 27 28 29 30 31\n",
      "30 31\n",
      "\n"
     ]
    }
   ],
   "source": [
    "# calendar: 获取一年日历字符串\n",
    "# 参数\n",
    "# w = 每个日历之间的间隔字符数\n",
    "# l = 每周所占用的函数\n",
    "# c = 每个月之间的间隔字符数\n",
    "cal = calendar.calendar(2017)\n",
    "print(cal)"
   ]
  },
  {
   "cell_type": "code",
   "execution_count": 7,
   "metadata": {},
   "outputs": [
    {
     "data": {
      "text/plain": [
       "True"
      ]
     },
     "execution_count": 7,
     "metadata": {},
     "output_type": "execute_result"
    }
   ],
   "source": [
    "# isleap:判断某一年是否闰年\n",
    "calendar.isleap(2000)"
   ]
  },
  {
   "cell_type": "code",
   "execution_count": 8,
   "metadata": {},
   "outputs": [
    {
     "data": {
      "text/plain": [
       "26"
      ]
     },
     "execution_count": 8,
     "metadata": {},
     "output_type": "execute_result"
    }
   ],
   "source": [
    "#leapdays:获取指定年份之间闰年的个数\n",
    "calendar.leapdays(1900,2008)"
   ]
  },
  {
   "cell_type": "code",
   "execution_count": 9,
   "metadata": {},
   "outputs": [
    {
     "name": "stdout",
     "output_type": "stream",
     "text": [
      "Help on function leapdays in module calendar:\n",
      "\n",
      "leapdays(y1, y2)\n",
      "    Return number of leap years in range [y1, y2).\n",
      "    Assume y1 <= y2.\n",
      "\n"
     ]
    }
   ],
   "source": [
    "help(calendar.leapdays)"
   ]
  },
  {
   "cell_type": "code",
   "execution_count": 12,
   "metadata": {},
   "outputs": [
    {
     "name": "stdout",
     "output_type": "stream",
     "text": [
      "     March 2018\n",
      "Mo Tu We Th Fr Sa Su\n",
      "          1  2  3  4\n",
      " 5  6  7  8  9 10 11\n",
      "12 13 14 15 16 17 18\n",
      "19 20 21 22 23 24 25\n",
      "26 27 28 29 30 31\n",
      "\n"
     ]
    }
   ],
   "source": [
    "#month() 获取某个月的日历字符串\n",
    "# 格式：calendar.month(年，月)\n",
    "#回值：月日历字符串\n",
    "m3 = calendar.month(2018,3)\n",
    "print(m3)"
   ]
  },
  {
   "cell_type": "code",
   "execution_count": 13,
   "metadata": {},
   "outputs": [
    {
     "name": "stdout",
     "output_type": "stream",
     "text": [
      "2\n",
      "31\n"
     ]
    }
   ],
   "source": [
    "# monthrange() 获取一个月的周几开始即和天数\n",
    "# 格式：calendar.monthrange(年，月)\n",
    "# 回值：元组（周几开始，总天数）\n",
    "# 注意：周默认0-6 表示周一到周天\n",
    "w,t= calendar.monthrange(2017,3)\n",
    "print(w)\n",
    "print(t)"
   ]
  },
  {
   "cell_type": "code",
   "execution_count": 14,
   "metadata": {},
   "outputs": [
    {
     "name": "stdout",
     "output_type": "stream",
     "text": [
      "<class 'list'>\n",
      "[[0, 0, 0, 1, 2, 3, 4], [5, 6, 7, 8, 9, 10, 11], [12, 13, 14, 15, 16, 17, 18], [19, 20, 21, 22, 23, 24, 25], [26, 27, 28, 29, 30, 31, 0]]\n"
     ]
    }
   ],
   "source": [
    "# monthcalendar（）返回一个月每天的矩阵列表\n",
    "# 格式：calendar.monthcalendar(年，月)\n",
    "#回值:二级列表\n",
    "#注意：矩阵中没有天数用0表示\n",
    "m = calendar.monthcalendar(2018,3)\n",
    "print(type(m))\n",
    "print(m)"
   ]
  },
  {
   "cell_type": "code",
   "execution_count": 16,
   "metadata": {},
   "outputs": [
    {
     "name": "stdout",
     "output_type": "stream",
     "text": [
      "                                  2018\n",
      "\n",
      "      January                   February                   March\n",
      "Mo Tu We Th Fr Sa Su      Mo Tu We Th Fr Sa Su      Mo Tu We Th Fr Sa Su\n",
      " 1  2  3  4  5  6  7                1  2  3  4                1  2  3  4\n",
      " 8  9 10 11 12 13 14       5  6  7  8  9 10 11       5  6  7  8  9 10 11\n",
      "15 16 17 18 19 20 21      12 13 14 15 16 17 18      12 13 14 15 16 17 18\n",
      "22 23 24 25 26 27 28      19 20 21 22 23 24 25      19 20 21 22 23 24 25\n",
      "29 30 31                  26 27 28                  26 27 28 29 30 31\n",
      "\n",
      "       April                      May                       June\n",
      "Mo Tu We Th Fr Sa Su      Mo Tu We Th Fr Sa Su      Mo Tu We Th Fr Sa Su\n",
      "                   1          1  2  3  4  5  6                   1  2  3\n",
      " 2  3  4  5  6  7  8       7  8  9 10 11 12 13       4  5  6  7  8  9 10\n",
      " 9 10 11 12 13 14 15      14 15 16 17 18 19 20      11 12 13 14 15 16 17\n",
      "16 17 18 19 20 21 22      21 22 23 24 25 26 27      18 19 20 21 22 23 24\n",
      "23 24 25 26 27 28 29      28 29 30 31               25 26 27 28 29 30\n",
      "30\n",
      "\n",
      "        July                     August                  September\n",
      "Mo Tu We Th Fr Sa Su      Mo Tu We Th Fr Sa Su      Mo Tu We Th Fr Sa Su\n",
      "                   1             1  2  3  4  5                      1  2\n",
      " 2  3  4  5  6  7  8       6  7  8  9 10 11 12       3  4  5  6  7  8  9\n",
      " 9 10 11 12 13 14 15      13 14 15 16 17 18 19      10 11 12 13 14 15 16\n",
      "16 17 18 19 20 21 22      20 21 22 23 24 25 26      17 18 19 20 21 22 23\n",
      "23 24 25 26 27 28 29      27 28 29 30 31            24 25 26 27 28 29 30\n",
      "30 31\n",
      "\n",
      "      October                   November                  December\n",
      "Mo Tu We Th Fr Sa Su      Mo Tu We Th Fr Sa Su      Mo Tu We Th Fr Sa Su\n",
      " 1  2  3  4  5  6  7                1  2  3  4                      1  2\n",
      " 8  9 10 11 12 13 14       5  6  7  8  9 10 11       3  4  5  6  7  8  9\n",
      "15 16 17 18 19 20 21      12 13 14 15 16 17 18      10 11 12 13 14 15 16\n",
      "22 23 24 25 26 27 28      19 20 21 22 23 24 25      17 18 19 20 21 22 23\n",
      "29 30 31                  26 27 28 29 30            24 25 26 27 28 29 30\n",
      "                                                    31\n",
      "\n",
      "Help on method pryear in module calendar:\n",
      "\n",
      "pryear(theyear, w=0, l=0, c=6, m=3) method of calendar.TextCalendar instance\n",
      "    Print a year's calendar.\n",
      "\n"
     ]
    }
   ],
   "source": [
    "#prcal:print calendar 直接打印日历\n",
    "calendar.prcal(2018)\n",
    "help(calendar.prcal)"
   ]
  },
  {
   "cell_type": "code",
   "execution_count": 17,
   "metadata": {},
   "outputs": [
    {
     "name": "stdout",
     "output_type": "stream",
     "text": [
      "     March 2018\n",
      "Mo Tu We Th Fr Sa Su\n",
      "          1  2  3  4\n",
      " 5  6  7  8  9 10 11\n",
      "12 13 14 15 16 17 18\n",
      "19 20 21 22 23 24 25\n",
      "26 27 28 29 30 31\n"
     ]
    }
   ],
   "source": [
    "#prmonth() 直接打印整个月日历\n",
    "#格式:calendar.prmonth(年，月)\n",
    "#返回值: 无\n",
    "calendar.prmonth(2018,3)"
   ]
  },
  {
   "cell_type": "code",
   "execution_count": 19,
   "metadata": {},
   "outputs": [
    {
     "data": {
      "text/plain": [
       "6"
      ]
     },
     "execution_count": 19,
     "metadata": {},
     "output_type": "execute_result"
    }
   ],
   "source": [
    "#weekday() 获取周几\n",
    "#格式：calendar.weekday(年，月，日)\n",
    "#返回值：周几对应的数字\n",
    "calendar.weekday(2018,7,22)"
   ]
  },
  {
   "cell_type": "markdown",
   "metadata": {},
   "source": [
    "# time 模块\n",
    "### 时间戳\n",
    "    - 一个时间表示，根据不同语言，可以是整数或者浮点数\n",
    "    - 是从1970年1月1日0时0分0秒到现在经历的秒数\n",
    "    - 如果表示的时间是1970年以前或者太遥远的未来，可能出现异常\n",
    "    - 32位操作系统能够支持到2038年\n",
    "\n",
    "### UTC时间\n",
    "    -UTC又称世界协调时间，以英国的格林尼治天文他所在的地区的时间作为参考的时间，也叫做世界标准时间\n",
    "    - 中国时间是 UTC+8东八区\n",
    "### 夏令时\n",
    "    - 夏令时就是在夏天的时候将时间调快一小时，本意是督促大家早睡早起节省蜡烛！，煤炭变成25个小时，本质没变还是24小时\n",
    "### 时间元组\n",
    "    - 一个包含时间的内容的普通元组 \n",
    "    \n",
    "          索引           内容         属性        值\n",
    "          0              年           tm_year     2015\n",
    "          1              月           tm_mon      1-12\n",
    "          2              日           tm_mday     1-31\n",
    "          3              时           tm_hour     0-23\n",
    "          4              分            tm_min     0-59\n",
    "          5              秒           tm_sec      0-61 （60表示闰秒 61表保留值）\n",
    "          6              周几         tm_wday     0-6\n",
    "          7              第几天       tm_yday     1-366\n",
    "          8              夏令时       tm_isdst    0,1,-1(表示夏令时)"
   ]
  },
  {
   "cell_type": "code",
   "execution_count": 2,
   "metadata": {},
   "outputs": [],
   "source": [
    "# 需要单独导入\n",
    "import time\n"
   ]
  },
  {
   "cell_type": "code",
   "execution_count": 24,
   "metadata": {},
   "outputs": [
    {
     "name": "stdout",
     "output_type": "stream",
     "text": [
      "-28800\n",
      "-32400\n",
      "0\n"
     ]
    }
   ],
   "source": [
    "# 时间模块的属性\n",
    "#timezone:当前时区和UTC相差的描述，在没有夏令时的情况下的间隔,东八区的是-28800\n",
    "# altzone  获取当前是时区与UTC时间相差的秒数，在有夏令时的情况下，\n",
    "# daylight 测当前是否是夏令时时间状态，0表示 是\n",
    "print(time.timezone)\n",
    "print(time.altzone)\n",
    "print(time.daylight)"
   ]
  },
  {
   "cell_type": "code",
   "execution_count": 25,
   "metadata": {},
   "outputs": [
    {
     "data": {
      "text/plain": [
       "1532252467.3978171"
      ]
     },
     "execution_count": 25,
     "metadata": {},
     "output_type": "execute_result"
    }
   ],
   "source": [
    "# 得到时间戳\n",
    "time.time()"
   ]
  },
  {
   "cell_type": "code",
   "execution_count": 28,
   "metadata": {},
   "outputs": [
    {
     "name": "stdout",
     "output_type": "stream",
     "text": [
      "time.struct_time(tm_year=2018, tm_mon=7, tm_mday=22, tm_hour=17, tm_min=43, tm_sec=23, tm_wday=6, tm_yday=203, tm_isdst=0)\n",
      "17\n"
     ]
    }
   ],
   "source": [
    "# localtime ,得到当前时间的时间结构\n",
    "# 可以通过点号操作符得到相应的属性元素的内容\n",
    "t=time.localtime()\n",
    "print(t)\n",
    "print(t.tm_hour)\n"
   ]
  },
  {
   "cell_type": "code",
   "execution_count": 29,
   "metadata": {},
   "outputs": [
    {
     "name": "stdout",
     "output_type": "stream",
     "text": [
      "<class 'str'>\n",
      "Sun Jul 22 17:46:14 2018\n"
     ]
    }
   ],
   "source": [
    "# asctime() 返回元组的正常字符串化后的时间格式\n",
    "# 格式：time.asctime(时间元组)\n",
    "t = time.localtime()\n",
    "tt = time.asctime(t)\n",
    "print(type(tt))\n",
    "print(tt)"
   ]
  },
  {
   "cell_type": "code",
   "execution_count": 31,
   "metadata": {},
   "outputs": [
    {
     "name": "stdout",
     "output_type": "stream",
     "text": [
      "<class 'str'>\n",
      "Sun Jul 22 17:47:21 2018\n"
     ]
    }
   ],
   "source": [
    "# ctime：获取字符串化的当前时间\n",
    "t = time.ctime()\n",
    "print(type(t))\n",
    "print(t)"
   ]
  },
  {
   "cell_type": "code",
   "execution_count": 33,
   "metadata": {},
   "outputs": [
    {
     "name": "stdout",
     "output_type": "stream",
     "text": [
      "<class 'float'>\n",
      "1532252981.0\n"
     ]
    }
   ],
   "source": [
    "#mktime() 使用时间元组获取对应的时间戳\n",
    "# 格式：time,mktime(时间元组)\n",
    "# 返回值：浮点数时间戳\n",
    "lt = time.localtime()\n",
    "ts = time.mktime(lt)\n",
    "print(type(ts))\n",
    "print(ts)"
   ]
  },
  {
   "cell_type": "code",
   "execution_count": null,
   "metadata": {},
   "outputs": [],
   "source": [
    "# clock:获取cpu时间，3.0-3.3版本直接使用 3.6调用有问题"
   ]
  },
  {
   "cell_type": "code",
   "execution_count": 37,
   "metadata": {},
   "outputs": [
    {
     "name": "stdout",
     "output_type": "stream",
     "text": [
      "---\n",
      "1\n",
      "2\n",
      "3\n",
      "4\n",
      "5\n",
      "6\n",
      "7\n",
      "8\n",
      "9\n"
     ]
    }
   ],
   "source": [
    "#sleep:时程序进入睡眠，n秒后继续\n",
    "time.sleep(5)\n",
    "print(\"---\")\n",
    "for i in range(1,10):\n",
    "    print(i)\n",
    "    time.sleep(1)"
   ]
  },
  {
   "cell_type": "code",
   "execution_count": 41,
   "metadata": {},
   "outputs": [
    {
     "name": "stdout",
     "output_type": "stream",
     "text": [
      "10.000298500061035\n"
     ]
    }
   ],
   "source": [
    "def p():\n",
    "    time.sleep(10)\n",
    "t0 = time.time()\n",
    "p()\n",
    "t1 = time.time()\n",
    "print(t1-t0)"
   ]
  },
  {
   "cell_type": "code",
   "execution_count": 3,
   "metadata": {},
   "outputs": [
    {
     "name": "stdout",
     "output_type": "stream",
     "text": [
      "9.999998008887756\n"
     ]
    }
   ],
   "source": [
    "def p():\n",
    "    time.sleep(10)\n",
    "t0 = time.clock()\n",
    "p()\n",
    "t1 = time.clock()\n",
    "print(t1-t0)"
   ]
  },
  {
   "cell_type": "code",
   "execution_count": 26,
   "metadata": {},
   "outputs": [
    {
     "name": "stdout",
     "output_type": "stream",
     "text": [
      "2018.07.22 21:38\n"
     ]
    }
   ],
   "source": [
    "\n",
    "# strftime:将时间元组转化为自定义的字符串格式\n",
    "'''格式     含义   备注\n",
    "%a      本地(locale)简化星期名称\n",
    "%A      本地完整星期名称\n",
    "%b      本地简化月份名称\n",
    "%B      本地完整月份名称\n",
    "%c      本地相应的日期和时间表示\n",
    "%d      一个月中的第几天(01 - 31)\n",
    "%H      一天中的第几个小时(24 小时制，00 - 23)\n",
    "%I      一天的第几个小时(12 小时制，01 - 12)\n",
    "%j      一年中的第几天（001 - 366）\n",
    "%m      月份（01 -12）\n",
    "%M      分钟数（00-59）\n",
    "%P      本地am 或者pm的相应符   注1\n",
    "%S      秒（01 - 61） 注2\n",
    "%U      一年中的星期数（00 - 53 星期天是一个星期的开始）\n",
    "%w      一个星期中的第几天（0 - 6，0 星期天） 注3\n",
    "%W      和%U基本相同，不同的是%W以星期一作为一个星期的开始\n",
    "%x      本地相应日期\n",
    "%X      本地相应时间\n",
    "%y      去掉世纪的年份（00 - 99）\n",
    "%Y      完整的年份\n",
    "%Z      当前时区的名称，用+HHMM 或 -HHMM表示距离格林威治的时区偏移（H代表十进制的小时数，M代表十进制的分钟数）\n",
    "%%      %号本身\n",
    "'''\n",
    "# 把时间表示成，2018.3.26. 21:05\n",
    "t = time.localtime()\n",
    "ft = time.strftime(\"%Y{0}%m{0}%d %H:%M\".format(\".\"),t)\n",
    "print(ft)"
   ]
  },
  {
   "cell_type": "markdown",
   "metadata": {},
   "source": [
    "# datetime 模块\n",
    "- datetime 提供日期和时间的运算和表示"
   ]
  },
  {
   "cell_type": "code",
   "execution_count": 28,
   "metadata": {},
   "outputs": [],
   "source": [
    "import datetime"
   ]
  },
  {
   "cell_type": "code",
   "execution_count": 32,
   "metadata": {},
   "outputs": [
    {
     "name": "stdout",
     "output_type": "stream",
     "text": [
      "2018-03-26\n",
      "26\n",
      "2018\n",
      "3\n"
     ]
    }
   ],
   "source": [
    "# datetime 常见属性\n",
    "# datetime.date：一个理想的日期 提供year,month,day属性\n",
    "dt=datetime.date(2018,3,26)\n",
    "print(dt)\n",
    "print(dt.day)\n",
    "print(dt.year)\n",
    "print(dt.month)\n",
    "# datetime.time :提供一个理想的时间，居于hour,minute,sec,microsec等内置\n",
    "# datetime.datetime:提供日期跟时间的组合\n",
    "# datetime.timedelta:提供一个时间差，时间长度"
   ]
  },
  {
   "cell_type": "code",
   "execution_count": 35,
   "metadata": {},
   "outputs": [
    {
     "name": "stdout",
     "output_type": "stream",
     "text": [
      "2018-07-22 21:46:47.925052\n",
      "2018-07-22 21:46:47.925052\n",
      "2018-07-22 21:46:47.925052\n"
     ]
    }
   ],
   "source": [
    "# datetime.datetime\n",
    "from datetime import datetime\n",
    "# 常用类方法\n",
    "#today:\n",
    "# now:\n",
    "# utcnow\n",
    "# fromtimestamp:从时间戳中返回本地时间\n",
    "dt = datetime(2018,3,26)\n",
    "print(dt.today())\n",
    "print(dt.now())\n",
    "print(dt.fromtimestamp(time.time()))"
   ]
  },
  {
   "cell_type": "code",
   "execution_count": 43,
   "metadata": {},
   "outputs": [
    {
     "name": "stdout",
     "output_type": "stream",
     "text": [
      "2018-07-22 21:52:13.318320\n",
      "29-07-22 21:52:13\n",
      "1:00:00\n",
      "2018-07-22 22:52:13\n"
     ]
    }
   ],
   "source": [
    "# datetime.timedelta\n",
    "# 表示一个时间间隔\n",
    "from datetime import datetime,timedelta\n",
    "t1 = datetime.now()\n",
    "print(t1)\n",
    "print(t1.strftime(\"%U-%m-%d %H:%M:%S\"))\n",
    "td = timedelta(hours = 1) # 1个小时的时间间隔\n",
    "print(td)\n",
    "# 一个小时之后的时间\n",
    "print((t1+td).strftime(\"%Y-%m-%d %H:%M:%S\"))\n"
   ]
  },
  {
   "cell_type": "code",
   "execution_count": 47,
   "metadata": {},
   "outputs": [
    {
     "name": "stdout",
     "output_type": "stream",
     "text": [
      "3.6008219718933105\n"
     ]
    }
   ],
   "source": [
    "# timeit - 时间测量工具\n",
    "# 测量程序运行时间时间间隔实验\n",
    "def p():\n",
    "    time.sleep(3.6)\n",
    "t1 = time.time()\n",
    "p()\n",
    "print(time.time()-t1)"
   ]
  },
  {
   "cell_type": "code",
   "execution_count": 52,
   "metadata": {},
   "outputs": [
    {
     "name": "stdout",
     "output_type": "stream",
     "text": [
      "2.513075776327696\n",
      "6.25061873812956\n"
     ]
    }
   ],
   "source": [
    "import timeit\n",
    "# 生成列表两种方法的比较\n",
    "# 如果单纯比较生成一个列表的时间，可能很难实现\n",
    "c = '''\n",
    "sum = []\n",
    "for i in range(1000):\n",
    "    sum.append(i)\n",
    "'''\n",
    "# 利用timeit调用代码，执行100000此=次，查看运行时间\n",
    "t = timeit.timeit(stmt=\"[i for i in range(1000)]\",number= 100000)\n",
    "# 测量代码c 执行100000次运算结果\n",
    "t2 = timeit.timeit(stmt=c,number=100000)\n",
    "print(t)\n",
    "print(t2)\n"
   ]
  },
  {
   "cell_type": "code",
   "execution_count": 55,
   "metadata": {},
   "outputs": [
    {
     "name": "stdout",
     "output_type": "stream",
     "text": [
      "Repeat for 0\n",
      "Repeat for 1\n",
      "Repeat for 2\n",
      "Repeat for 0\n",
      "Repeat for 1\n",
      "Repeat for 2\n",
      "Repeat for 0\n",
      "Repeat for 1\n",
      "Repeat for 2\n",
      "Repeat for 0\n",
      "Repeat for 1\n",
      "Repeat for 2\n",
      "Repeat for 0\n",
      "Repeat for 1\n",
      "Repeat for 2\n",
      "Repeat for 0\n",
      "Repeat for 1\n",
      "Repeat for 2\n",
      "Repeat for 0\n",
      "Repeat for 1\n",
      "Repeat for 2\n",
      "Repeat for 0\n",
      "Repeat for 1\n",
      "Repeat for 2\n",
      "Repeat for 0\n",
      "Repeat for 1\n",
      "Repeat for 2\n",
      "Repeat for 0\n",
      "Repeat for 1\n",
      "Repeat for 2\n",
      "0.0005156980714673409\n",
      "Help on function timeit in module timeit:\n",
      "\n",
      "timeit(stmt='pass', setup='pass', timer=<built-in function perf_counter>, number=1000000, globals=None)\n",
      "    Convenience function to create Timer object and call timeit method.\n",
      "\n"
     ]
    }
   ],
   "source": [
    "# timeit 可以执行一个行数，来测量一个函数的执行时间\n",
    "def doIt():\n",
    "    num = 3\n",
    "    for i in range(num):\n",
    "        print(\"Repeat for {0}\".format(i))\n",
    "# 执行函数，重复10次\n",
    "t = timeit.timeit(stmt=doIt,number=10)\n",
    "print(t)\n",
    "help(timeit.timeit)"
   ]
  },
  {
   "cell_type": "code",
   "execution_count": 58,
   "metadata": {},
   "outputs": [
    {
     "name": "stdout",
     "output_type": "stream",
     "text": [
      "Repeat for 0\n",
      "Repeat for 1\n",
      "Repeat for 2\n",
      "Repeat for 0\n",
      "Repeat for 1\n",
      "Repeat for 2\n",
      "Repeat for 0\n",
      "Repeat for 1\n",
      "Repeat for 2\n",
      "Repeat for 0\n",
      "Repeat for 1\n",
      "Repeat for 2\n",
      "Repeat for 0\n",
      "Repeat for 1\n",
      "Repeat for 2\n",
      "Repeat for 0\n",
      "Repeat for 1\n",
      "Repeat for 2\n",
      "Repeat for 0\n",
      "Repeat for 1\n",
      "Repeat for 2\n",
      "Repeat for 0\n",
      "Repeat for 1\n",
      "Repeat for 2\n",
      "Repeat for 0\n",
      "Repeat for 1\n",
      "Repeat for 2\n",
      "Repeat for 0\n",
      "Repeat for 1\n",
      "Repeat for 2\n",
      "0.0004866847211815184\n"
     ]
    }
   ],
   "source": [
    "s = '''\n",
    "def doIt(num):\n",
    "    for i in range(num):\n",
    "        print(\"Repeat for {0}\".format(i))\n",
    "'''\n",
    "# 执行doIt(num)\n",
    "#setup负责把环境变量准备好\n",
    "t = timeit.timeit(\"doIt(num)\",setup=s+\"num=3\",number=10)\n",
    "# 实际上相当于给timeit创造了一个小环境\n",
    "# 在创作的小环境中，代码执行顺序大致是\n",
    "'''\n",
    "def doIt(num):\n",
    "     for i in range(num):\n",
    "        print(\"Repeat for {0}\".format(i))\n",
    "num =3 \n",
    "doIt(num)\n",
    "'''\n",
    "\n",
    "print(t)"
   ]
  },
  {
   "cell_type": "markdown",
   "metadata": {},
   "source": [
    "# datetime.datetime 模块\n",
    "- 提供比较好用的时间而已\n",
    "- 类定义\n",
    "- 类方法\n",
    "   - datetime.today():返回档期本地datetime,随着tzinfo None\n",
    "   - datetime.fromtimestamp(time.time())\n",
    "   - datetime.now([tz]):返回当前本地日期和时间，如果可选参数tz为None或没有详细说明，这个方法会像today\n",
    "   - datetime.utcnow():返回档期的UTC日期和时间，如果tzinfo None,那么与now()类似\n",
    "   - datetime.fromtimestamp(timestamp[,tz]):根据时间戳返回本地的日期和时间，tz指定时区\n",
    "   - datetime.utcfromtimestamp(timestamp):根据时间戳返回UTC datetime\n",
    "   - datetime.fromordinal(ordinal):根据Gregorian ordinal 返回datetime\n",
    "   - datetime.combine(date,time):根据date和time返回一个新的datetime\n",
    "   -  datetime.strptime(date_string,format):根据date_string和format返回一个datetime\n",
    "- 实例方法\n",
    "   - datetime.date():返回相同年月日的date对象\n",
    "   - datetime.time()：返回相同时分秒的time对象\n",
    "   - datetime.replace(kw)：kw in[year,month,day,hour,minute,second,microsecond,tzinfo],与date类似\n",
    "- 实例属性（read-only）\n",
    "   - datetime.year： 1 至9999\n",
    "   - datetime.month: 1至12\n",
    "   - datetime.day:1至n\n",
    "   - datetime.hour:In range(24), 0至23\n",
    "   - datetime.minute:In range(60)\n",
    "   - datetime.second:In range(60)\n",
    "   - datetime.microsecond: In range(1000000)\n",
    "    "
   ]
  },
  {
   "cell_type": "code",
   "execution_count": 59,
   "metadata": {},
   "outputs": [
    {
     "name": "stdout",
     "output_type": "stream",
     "text": [
      "2018-07-22 22:35:50.959938\n"
     ]
    }
   ],
   "source": [
    "from datetime import datetime as dt\n",
    "print(dt.now())"
   ]
  },
  {
   "cell_type": "markdown",
   "metadata": {},
   "source": [
    "# os - 操作系统相关\n",
    "- 跟操作系统相关，主要是文件系统\n",
    "- 于系统相关的操作，主要包含在三大模块里\n",
    "    - os,操作系统目录相关\n",
    "    - os.path,系统路径相关操作\n",
    "    - shutil ,高级文件操作，目录树的操作，文件赋值，删除，移动\n",
    "- 路径：\n",
    "    - 绝对路径：总是从根目录上开始\n",
    "    - 相对路径：基本是以当前环境炜开始的一个相对的地方\n",
    "    "
   ]
  },
  {
   "cell_type": "markdown",
   "metadata": {},
   "source": [
    "# os 模块\n"
   ]
  },
  {
   "cell_type": "code",
   "execution_count": 1,
   "metadata": {},
   "outputs": [],
   "source": [
    "import os"
   ]
  },
  {
   "cell_type": "code",
   "execution_count": 2,
   "metadata": {},
   "outputs": [
    {
     "name": "stdout",
     "output_type": "stream",
     "text": [
      "C:\\Users\\Administrator\\tulingxueyuan\n"
     ]
    }
   ],
   "source": [
    "# getcwd() 获取当前的工作目录\n",
    "# 格式: so.getcwd()\n",
    "# 返回值：当前工作目录的字符串\n",
    "# 当前工作目录就是程序在进行文件相关操作，默认查找文件的目录\n",
    "mydir = os.getcwd()\n",
    "print(mydir)"
   ]
  },
  {
   "cell_type": "code",
   "execution_count": 69,
   "metadata": {},
   "outputs": [
    {
     "ename": "FileNotFoundError",
     "evalue": "[WinError 3] 系统找不到指定的路径。: '/home/tlxy'",
     "output_type": "error",
     "traceback": [
      "\u001b[1;31m---------------------------------------------------------------------------\u001b[0m",
      "\u001b[1;31mFileNotFoundError\u001b[0m                         Traceback (most recent call last)",
      "\u001b[1;32m<ipython-input-69-d02c29cebb65>\u001b[0m in \u001b[0;36m<module>\u001b[1;34m()\u001b[0m\n\u001b[0;32m      3\u001b[0m \u001b[1;31m# 格式:os.chdir(路径)\u001b[0m\u001b[1;33m\u001b[0m\u001b[1;33m\u001b[0m\u001b[0m\n\u001b[0;32m      4\u001b[0m \u001b[1;31m# 返回值：无\u001b[0m\u001b[1;33m\u001b[0m\u001b[1;33m\u001b[0m\u001b[0m\n\u001b[1;32m----> 5\u001b[1;33m \u001b[0mos\u001b[0m\u001b[1;33m.\u001b[0m\u001b[0mchdir\u001b[0m\u001b[1;33m(\u001b[0m\u001b[1;34m\"/home/tlxy\"\u001b[0m\u001b[1;33m)\u001b[0m\u001b[1;33m\u001b[0m\u001b[0m\n\u001b[0m\u001b[0;32m      6\u001b[0m \u001b[0mmydir\u001b[0m \u001b[1;33m=\u001b[0m \u001b[0mos\u001b[0m\u001b[1;33m.\u001b[0m\u001b[0mgetcwd\u001b[0m\u001b[1;33m(\u001b[0m\u001b[1;33m)\u001b[0m\u001b[1;33m\u001b[0m\u001b[0m\n\u001b[0;32m      7\u001b[0m \u001b[0mprint\u001b[0m\u001b[1;33m(\u001b[0m\u001b[0mmydir\u001b[0m\u001b[1;33m)\u001b[0m\u001b[1;33m\u001b[0m\u001b[0m\n",
      "\u001b[1;31mFileNotFoundError\u001b[0m: [WinError 3] 系统找不到指定的路径。: '/home/tlxy'"
     ]
    }
   ],
   "source": [
    "# chdir() 改变当前的工作目录\n",
    "# change directory\n",
    "# 格式:os.chdir(路径)\n",
    "# 返回值：无\n",
    "os.chdir(\"/home/tlxy\")\n",
    "mydir = os.getcwd()\n",
    "print(mydir)"
   ]
  },
  {
   "cell_type": "code",
   "execution_count": 70,
   "metadata": {},
   "outputs": [
    {
     "name": "stdout",
     "output_type": "stream",
     "text": [
      "['.ipynb_checkpoints', 'paython02.ipynb', 'python-11-opp.ipynb', 'Python-13-OOP.ipynb', 'Python-14-oop.ipynb', 'PYthon-15.ipynb', 'python-16-包管理.ipynb', 'python-16-异常使用.ipynb', 'python-17-常用包介绍.ipynb', 'python02-1.ipynb', 'python基础-05-函数完结.ipynb', 'python基础-06-变量作用域和列表.ipynb', 'python基础-07-内建结构.ipynb', 'python基础-08-内建结构.ipynb', 'python基础-while_函数.ipynb', 'python基础03-分之.ipynb', 'python基础03-分支_for循环.ipynb', 'python基础03-分支下.ipynb', 'python基础04-while_函数.ipynb']\n"
     ]
    }
   ],
   "source": [
    "# listdir()获取一个目录中所有子目录和文件的名称列表\n",
    "# 格式：os.listdir(路径)\n",
    "# 返回值:所有子目录和文件名称列表\n",
    "ld = os.listdir()\n",
    "print(ld)"
   ]
  },
  {
   "cell_type": "code",
   "execution_count": 73,
   "metadata": {},
   "outputs": [
    {
     "name": "stdout",
     "output_type": "stream",
     "text": [
      "None\n"
     ]
    }
   ],
   "source": [
    "#makedirs() 递归创建文件夹\n",
    "# 格式：os.makedirs(递归路径)\n",
    "# 返回值：无\n",
    "# 递归路径 ：多个文件夹层层包含的路径就是递归路径，例如a/b/c...\n",
    "rst =os.makedirs(\"D:/os/dir\")\n",
    "print(rst)"
   ]
  },
  {
   "cell_type": "code",
   "execution_count": 76,
   "metadata": {},
   "outputs": [
    {
     "name": "stdout",
     "output_type": "stream",
     "text": [
      "0\n"
     ]
    }
   ],
   "source": [
    "#system() 运行系统shell命令\n",
    "# 格式:os.system(系统命令)\n",
    "# 返回值：打开一个shell或者终端界面\n",
    "# 一般推荐使用subprocess代替\n",
    "rst = os.system(\"dir\")\n",
    "print(rst)\n",
    "# 在当前目录下创建一个一个dana.haha的文件\n",
    "rst = os.system(\"touch dana.haha\")\n",
    "print(rst)"
   ]
  },
  {
   "cell_type": "code",
   "execution_count": 77,
   "metadata": {},
   "outputs": [
    {
     "name": "stdout",
     "output_type": "stream",
     "text": [
      "D:\\ProgramData\\Anaconda3;D:\\ProgramData\\Anaconda3\\Library\\mingw-w64\\bin;D:\\ProgramData\\Anaconda3\\Library\\usr\\bin;D:\\ProgramData\\Anaconda3\\Library\\bin;D:\\ProgramData\\Anaconda3\\Scripts;D:\\ProgramData\\Anaconda3\\bin;D:\\ProgramData\\Anaconda3;D:\\ProgramData\\Anaconda3\\Library\\mingw-w64\\bin;D:\\ProgramData\\Anaconda3\\Library\\usr\\bin;D:\\ProgramData\\Anaconda3\\Library\\bin;D:\\ProgramData\\Anaconda3\\Scripts;D:\\ProgramData\\Anaconda3;D:\\ProgramData\\Anaconda3\\Library\\mingw-w64\\bin;D:\\ProgramData\\Anaconda3\\Library\\usr\\bin;D:\\ProgramData\\Anaconda3\\Library\\bin;D:\\ProgramData\\Anaconda3\\Scripts;D:\\Program Files\\Python\\Python37\\Scripts\\;D:\\Program Files\\Python\\Python37\\;C:\\ProgramData\\Oracle\\Java\\javapath;C:\\WINDOWS\\system32;C:\\WINDOWS;C:\\WINDOWS\\System32\\Wbem;C:\\WINDOWS\\System32\\WindowsPowerShell\\v1.0\\;D:\\Program Files\\TortoiseSVN\\bin;D:\\Program Files\\PuTTY\\;C:\\Program Files\\Java\\jdk1.8.0_144\\bin;C:\\Program Files\\Java\\jdk1.8.0_144\\jre\\bin;C:\\Program Files (x86)\\Common Files\\Thunder Network\\KanKan\\Codecs;D:\\Program Files (x86)\\Lua\\5.1;D:\\Program Files (x86)\\Lua\\5.1\\clibs;D:\\dev\\nvm;D:\\Program Files\\nodejs;D:\\phpStudy2018\\PHPTutorial\\php\\php-5.6.27-nts;C:\\ProgramData\\ComposerSetup\\bin;C:\\Program Files (x86)\\NVIDIA Corporation\\PhysX\\Common;C:\\usr\\bin;C:\\WINDOWS\\system32;C:\\WINDOWS;C:\\WINDOWS\\System32\\Wbem;C:\\WINDOWS\\System32\\WindowsPowerShell\\v1.0\\;C:\\WINDOWS\\System32\\OpenSSH\\;D:\\Program Files\\Git\\cmd;C:\\Users\\admin\\AppData\\Local\\Microsoft\\WindowsApps;C:\\Users\\admin\\AppData\\Roaming\\npm;C:\\Users\\admin\\AppData\\Local\\GitHubDesktop\\bin;D:\\dev\\nvm;D:\\Program Files\\nodejs;C:\\Users\\admin\\AppData\\Local\\Microsoft\\WindowsApps;C:\\Users\\admin\\AppData\\Roaming\\Composer\\vendor\\bin;\n"
     ]
    }
   ],
   "source": [
    "# getenv() 获取指定的系统环境变量值\n",
    "# 相应的还有putenv\n",
    "# 格式：os.getenv('环境变量名')\n",
    "rst = os.getenv(\"PATH\")\n",
    "print(rst)"
   ]
  },
  {
   "cell_type": "code",
   "execution_count": null,
   "metadata": {},
   "outputs": [],
   "source": [
    "# exit() 推出当前程序\n",
    "# 格式:exit()\n",
    "# 返回值：无"
   ]
  },
  {
   "cell_type": "markdown",
   "metadata": {},
   "source": [
    "# 值部分\n",
    "- os.curdir:current dir 当前目录\n",
    "- os.pardir:parent dir 父亲目录\n",
    "- os.sep:当前系统的路径分隔符 (在拼写路径的时候一定不要手动写路径分割符，影响代码移植)\n",
    "    - windows: \"\\\"\n",
    "    - linux: \"/\"\n",
    "- os.linesep:当前系统的换行符\n",
    "    - windows: \"\\r\\n\"\n",
    "    - unix linux macos: \"\\n\"\n",
    "- os.name:当前系统名称\n",
    "    - windows: nt\n",
    "    - mac,unix,linux：posix"
   ]
  },
  {
   "cell_type": "code",
   "execution_count": 85,
   "metadata": {},
   "outputs": [
    {
     "name": "stdout",
     "output_type": "stream",
     "text": [
      "..\n",
      ".\n",
      "\\\n"
     ]
    }
   ],
   "source": [
    "print(os.pardir)\n",
    "print(os.curdir)\n",
    "print(os.sep)"
   ]
  },
  {
   "cell_type": "code",
   "execution_count": 86,
   "metadata": {},
   "outputs": [
    {
     "name": "stdout",
     "output_type": "stream",
     "text": [
      "/home/tlxy/dana\n"
     ]
    }
   ],
   "source": [
    "# 在路劲相关的操作中，不要手动改拼写地址，因为手动拼写的路径可能不具有移植性\n",
    "path = \"/home/tlxy\"+\"/\"+\"dana\"\n",
    "print(path)"
   ]
  },
  {
   "cell_type": "code",
   "execution_count": 88,
   "metadata": {},
   "outputs": [
    {
     "name": "stdout",
     "output_type": "stream",
     "text": [
      "nt\n"
     ]
    }
   ],
   "source": [
    "#linux操作系统的名称是posix \n",
    "#window操作系统是nt\n",
    "print(os.name)"
   ]
  },
  {
   "cell_type": "markdown",
   "metadata": {},
   "source": [
    "# os.path 模块，根路径相关的模块"
   ]
  },
  {
   "cell_type": "code",
   "execution_count": 90,
   "metadata": {},
   "outputs": [],
   "source": [
    "import os.path as op"
   ]
  },
  {
   "cell_type": "code",
   "execution_count": 91,
   "metadata": {},
   "outputs": [
    {
     "name": "stdout",
     "output_type": "stream",
     "text": [
      "C:\\Users\\admin\\tulingxueyuanbook\n"
     ]
    }
   ],
   "source": [
    "# abspath() 将路径转化为绝对路径\n",
    "# absolute 绝对\n",
    "# 格式：os.path.abspath('路径')\n",
    "# 返回值:路径的绝对路径形式\n",
    "# linux 中\n",
    "# .点号，代表当前目录\n",
    "# .. 双点，代表父目录\n",
    "absp = op.abspath(\".\")\n",
    "print(absp)"
   ]
  },
  {
   "cell_type": "code",
   "execution_count": 92,
   "metadata": {},
   "outputs": [
    {
     "name": "stdout",
     "output_type": "stream",
     "text": [
      "tlxy\n",
      "dana.haha\n"
     ]
    }
   ],
   "source": [
    "#basename() 获取路径中的文件名部分\n",
    "# 格式：os.path.basename(路径)\n",
    "# 返回值：文件名字符串\n",
    "bn =op.basename(\"/home/tlxy\")\n",
    "print(bn)\n",
    "bn = op.basename(\"/home/tlxy/dana.haha\")\n",
    "print(bn)"
   ]
  },
  {
   "cell_type": "code",
   "execution_count": 93,
   "metadata": {},
   "outputs": [
    {
     "name": "stdout",
     "output_type": "stream",
     "text": [
      "Help on function join in module ntpath:\n",
      "\n",
      "join(path, *paths)\n",
      "    # Join two (or more) paths.\n",
      "\n"
     ]
    }
   ],
   "source": [
    "#join() 将多个路径拼合成一个路劲\n",
    "# 格式：os.path.join(路径1，路径2，路径3)\n",
    "# 返回值：组合之后的新路径字符串\n",
    "help(op.join)"
   ]
  },
  {
   "cell_type": "code",
   "execution_count": 95,
   "metadata": {},
   "outputs": [
    {
     "name": "stdout",
     "output_type": "stream",
     "text": [
      "D:dana.haha\n"
     ]
    }
   ],
   "source": [
    "db =\"D:\"\n",
    "fn = \"dana.haha\"\n",
    "p = op.join(db,fn)\n",
    "print(p)"
   ]
  },
  {
   "cell_type": "code",
   "execution_count": 96,
   "metadata": {},
   "outputs": [
    {
     "name": "stdout",
     "output_type": "stream",
     "text": [
      "('/home/tlxy', 'dana.haha')\n",
      "/home/tlxy dana.haha\n"
     ]
    }
   ],
   "source": [
    "# split() 将路径切割为文件夹部分和当前文件部分\n",
    "# 格式：os.path.split(路径)\n",
    "#返回值: 路径和文件组成的元组\n",
    "t = op.split(\"/home/tlxy/dana.haha\")\n",
    "print(t)\n",
    "d,p = op.split(\"/home/tlxy/dana.haha\")\n",
    "print(d,p)"
   ]
  },
  {
   "cell_type": "code",
   "execution_count": 97,
   "metadata": {},
   "outputs": [
    {
     "data": {
      "text/plain": [
       "False"
      ]
     },
     "execution_count": 97,
     "metadata": {},
     "output_type": "execute_result"
    }
   ],
   "source": [
    "#isdir() 检测是否是目录\n",
    "# 格式：os.path.isdir(路径)\n",
    "#返回值:布尔值\n",
    "rst = op.isdir(\"/home/tlxy/dana.hahha\")\n",
    "rst"
   ]
  },
  {
   "cell_type": "code",
   "execution_count": 98,
   "metadata": {},
   "outputs": [
    {
     "name": "stdout",
     "output_type": "stream",
     "text": [
      "False\n"
     ]
    }
   ],
   "source": [
    "#exists() 检测文件或者目录是否存在\n",
    "# 格式:os.path.exists(路径)\n",
    "# 返回值:布尔值\n",
    "e = op.exists(\"/home/tlxy/haha\")\n",
    "print(e)"
   ]
  },
  {
   "cell_type": "markdown",
   "metadata": {},
   "source": [
    "# shutil 模块"
   ]
  },
  {
   "cell_type": "code",
   "execution_count": 106,
   "metadata": {},
   "outputs": [],
   "source": [
    "import shutil"
   ]
  },
  {
   "cell_type": "code",
   "execution_count": null,
   "metadata": {},
   "outputs": [],
   "source": [
    "# copy() 复制\n",
    "# 格式:shutil.copy(来源路劲，目标路劲)\n",
    "# 返回值:返回目标路径\n",
    "# 拷贝的同时，可以给文件重命名\n",
    "rst = shutil.copy(\"/home/tlxydana.haha\",\"/home/tlxy/haha.haha\")\n",
    "print(rst)"
   ]
  },
  {
   "cell_type": "code",
   "execution_count": null,
   "metadata": {},
   "outputs": [],
   "source": [
    "#copy2 复制文件，保留元数据（文件信息）\n",
    "# 格式：shutil.copy2(来源路劲，目标路径)\n",
    "#返回值:返回目标路径\n",
    "#注意:copy和copy2的唯一区别在于copy2复制文件尽量保留元数据"
   ]
  },
  {
   "cell_type": "code",
   "execution_count": 103,
   "metadata": {},
   "outputs": [
    {
     "name": "stdout",
     "output_type": "stream",
     "text": [
      "Help on function copyfile in module shutil:\n",
      "\n",
      "copyfile(src, dst, *, follow_symlinks=True)\n",
      "    Copy data from src to dst.\n",
      "    \n",
      "    If follow_symlinks is not set and src is a symbolic link, a new\n",
      "    symlink will be created instead of copying the file it points to.\n",
      "\n"
     ]
    },
    {
     "data": {
      "text/plain": [
       "'python-17-常用包介绍bak.ipynb'"
      ]
     },
     "execution_count": 103,
     "metadata": {},
     "output_type": "execute_result"
    }
   ],
   "source": [
    "#copyfile()将一个文件中的内容复制到另外一个文件中\n",
    "# 格式:shutil.copyfile(\"源路径\",\"目标路径\")\n",
    "#返回值：无\n",
    "help(shutil.copyfile)\n",
    "shutil.copyfile(\"python-17-常用包介绍.ipynb\",\"python-17-常用包介绍bak.ipynb\")"
   ]
  },
  {
   "cell_type": "code",
   "execution_count": 104,
   "metadata": {},
   "outputs": [
    {
     "name": "stdout",
     "output_type": "stream",
     "text": [
      "D:/python-17-常用包介绍bak.ipynb\n"
     ]
    }
   ],
   "source": [
    "# move() 移动文件/文件夹\n",
    "# 格式：shutil.move(源路径，目标路径)\n",
    "#返回值:目标路径\n",
    "rst = shutil.move(\"python-17-常用包介绍bak.ipynb\",\"D:/\")\n",
    "print(rst)"
   ]
  },
  {
   "cell_type": "markdown",
   "metadata": {},
   "source": [
    "# 归档和压缩\n",
    "- 归档：把多个文件或者文件夹合并到一个文件中\n",
    "- 压缩: 用算法把多个文件或者文件夹无损 或者 有损合并到一个文件当中"
   ]
  },
  {
   "cell_type": "code",
   "execution_count": 107,
   "metadata": {},
   "outputs": [
    {
     "name": "stdout",
     "output_type": "stream",
     "text": [
      "Help on function make_archive in module shutil:\n",
      "\n",
      "make_archive(base_name, format, root_dir=None, base_dir=None, verbose=0, dry_run=0, owner=None, group=None, logger=None)\n",
      "    Create an archive file (eg. zip or tar).\n",
      "    \n",
      "    'base_name' is the name of the file to create, minus any format-specific\n",
      "    extension; 'format' is the archive format: one of \"zip\", \"tar\", \"gztar\",\n",
      "    \"bztar\", or \"xztar\".  Or any other registered format.\n",
      "    \n",
      "    'root_dir' is a directory that will be the root directory of the\n",
      "    archive; ie. we typically chdir into 'root_dir' before creating the\n",
      "    archive.  'base_dir' is the directory where we start archiving from;\n",
      "    ie. 'base_dir' will be the common prefix of all files and\n",
      "    directories in the archive.  'root_dir' and 'base_dir' both default\n",
      "    to the current directory.  Returns the name of the archive file.\n",
      "    \n",
      "    'owner' and 'group' are used when creating a tar archive. By default,\n",
      "    uses the current owner and group.\n",
      "\n"
     ]
    }
   ],
   "source": [
    "#make_archive() 归档操作\n",
    "# 格式：shutil.make_archive(\"归档之后的目录和文件名\",\"后缀\",\"需要归档的文件夹\")\n",
    "# 返回值:归档之后的地址\n",
    "help(shutil.make_archive)\n",
    "#ts = shutil.make_archive(\"/home/tlxy/tuling\",\"me\",\"/home/tlxy/dana\")"
   ]
  },
  {
   "cell_type": "code",
   "execution_count": 108,
   "metadata": {},
   "outputs": [],
   "source": [
    "# 是想的到 pythonNote.zip的归档文件\n",
    "rst= shutil.make_archive(\"D:/pythonNote\",\"zip\",os.getcwd())"
   ]
  },
  {
   "cell_type": "code",
   "execution_count": 111,
   "metadata": {},
   "outputs": [],
   "source": [
    "# unpack_archive() 解包操作\n",
    "# 格式 ：shutil.unpack_archive(\"归档文件地址\",'解包之后的地址')\n",
    "shutil.unpack_archive(rst,\"D:/pythonNote\")"
   ]
  },
  {
   "cell_type": "markdown",
   "metadata": {},
   "source": [
    "# zip- 压缩包\n",
    "- 模块名称交租zipfile"
   ]
  },
  {
   "cell_type": "code",
   "execution_count": 113,
   "metadata": {},
   "outputs": [],
   "source": [
    "import zipfile"
   ]
  },
  {
   "cell_type": "code",
   "execution_count": 115,
   "metadata": {},
   "outputs": [],
   "source": [
    "# zipfile.ZipFile(file[,model[,compression[,allowZip64]]])\n",
    "# 创建一个ZipFile对象，表示一个zip文件，参数file表示问的路径或类文件对象\n",
    "zf = zipfile.ZipFile(\"D:/pythonNote.zip\")"
   ]
  },
  {
   "cell_type": "code",
   "execution_count": 118,
   "metadata": {},
   "outputs": [
    {
     "name": "stdout",
     "output_type": "stream",
     "text": [
      "<ZipInfo filename='python-17-常用包介绍.ipynb' compress_type=deflate filemode='-rw-rw-rw-' file_size=44198 compress_size=9562>\n"
     ]
    }
   ],
   "source": [
    "#ZipFile.getinfo(name):\n",
    "# 获取zip文件内只当文件的信息。返回一个zipfile。ZipInfo对象，它包括文件的详细信息。\n",
    "rst = zf.getinfo(\"python-17-常用包介绍.ipynb\")\n",
    "print(rst)"
   ]
  },
  {
   "cell_type": "code",
   "execution_count": 119,
   "metadata": {},
   "outputs": [
    {
     "name": "stdout",
     "output_type": "stream",
     "text": [
      "['.ipynb_checkpoints/', 'paython02.ipynb', 'python-11-opp.ipynb', 'Python-13-OOP.ipynb', 'Python-14-oop.ipynb', 'PYthon-15.ipynb', 'python-16-包管理.ipynb', 'python-16-异常使用.ipynb', 'python-17-常用包介绍.ipynb', 'python02-1.ipynb', 'python基础-05-函数完结.ipynb', 'python基础-06-变量作用域和列表.ipynb', 'python基础-07-内建结构.ipynb', 'python基础-08-内建结构.ipynb', 'python基础-while_函数.ipynb', 'python基础03-分之.ipynb', 'python基础03-分支_for循环.ipynb', 'python基础03-分支下.ipynb', 'python基础04-while_函数.ipynb', '.ipynb_checkpoints/paython02-checkpoint.ipynb', '.ipynb_checkpoints/python-11-opp-checkpoint.ipynb', '.ipynb_checkpoints/Python-13-OOP-checkpoint.ipynb', '.ipynb_checkpoints/Python-14-oop-checkpoint.ipynb', '.ipynb_checkpoints/PYthon-15-checkpoint.ipynb', '.ipynb_checkpoints/python-16-包管理-checkpoint.ipynb', '.ipynb_checkpoints/python-16-异常使用-checkpoint.ipynb', '.ipynb_checkpoints/python-17-常用包介绍-checkpoint.ipynb', '.ipynb_checkpoints/python02-1-checkpoint.ipynb', '.ipynb_checkpoints/python基础-05-函数完结-checkpoint.ipynb', '.ipynb_checkpoints/python基础-06-变量作用域和列表-checkpoint.ipynb', '.ipynb_checkpoints/python基础-07-内建结构-checkpoint.ipynb', '.ipynb_checkpoints/python基础-08-内建结构-checkpoint.ipynb', '.ipynb_checkpoints/python基础-while_函数-checkpoint.ipynb', '.ipynb_checkpoints/python基础03-分之-checkpoint.ipynb', '.ipynb_checkpoints/python基础03-分支_for循环-checkpoint.ipynb', '.ipynb_checkpoints/python基础03-分支下-checkpoint.ipynb', '.ipynb_checkpoints/python基础04-while_函数-checkpoint.ipynb']\n"
     ]
    }
   ],
   "source": [
    "# ZipFile.namelist()\n",
    "# 获取zip文件内所有文件的名称列表\n",
    "nl = zf.namelist()\n",
    "print(nl)"
   ]
  },
  {
   "cell_type": "code",
   "execution_count": 120,
   "metadata": {},
   "outputs": [],
   "source": [
    "# ZipFile.extractail([path[,members[,pwd]]])\n",
    "# 压缩zip文档中的所有文件到当前。参数members的默认值为zip\n",
    "#文档内的所有文件名称列表\n",
    "rst = zf.extractall(\"D:/pythonNote2\")"
   ]
  },
  {
   "cell_type": "markdown",
   "metadata": {},
   "source": [
    "# random \n",
    "- 随机数\n",
    "- 所有的随机模块都是伪随机"
   ]
  },
  {
   "cell_type": "code",
   "execution_count": 121,
   "metadata": {},
   "outputs": [],
   "source": [
    "import random"
   ]
  },
  {
   "cell_type": "code",
   "execution_count": 122,
   "metadata": {},
   "outputs": [
    {
     "name": "stdout",
     "output_type": "stream",
     "text": [
      "0.2443030526538843\n"
     ]
    }
   ],
   "source": [
    "# random 获取0-1之间的随机小数\n",
    "# 格式：random.random()\n",
    "# 返回值:随机0-1之间的小数\n",
    "print(random.random())\n",
    "#作业：利用random函数，注意是函数，生成0-100之间的整数"
   ]
  },
  {
   "cell_type": "code",
   "execution_count": 125,
   "metadata": {},
   "outputs": [
    {
     "name": "stdout",
     "output_type": "stream",
     "text": [
      "['0haha', '1haha', '2haha', '3haha', '4haha', '5haha', '6haha', '7haha', '8haha', '9haha']\n",
      "9haha\n"
     ]
    }
   ],
   "source": [
    "# choice() 随机返回序列中的某个值\n",
    "# 格式：random.choice(序列)\n",
    "# 返回值：序列中的某个值\n",
    "l =[str(i)+\"haha\" for i in range(10)]\n",
    "print(l)\n",
    "rst = random.choice(l)\n",
    "print(rst)"
   ]
  },
  {
   "cell_type": "code",
   "execution_count": 133,
   "metadata": {},
   "outputs": [
    {
     "name": "stdout",
     "output_type": "stream",
     "text": [
      "[0, 1, 2, 3, 4, 5, 6, 7, 8, 9]\n",
      "[8, 1, 5, 7, 2, 9, 0, 3, 4, 6]\n"
     ]
    }
   ],
   "source": [
    "#shuffle() 随机打乱列表\n",
    "# 格式:random.shuffle(列表)\n",
    "# 返回值：打乱顺序之后的列表\n",
    "l1 = [i for i in range(10)]\n",
    "print(l1)\n",
    "random .shuffle(l1)\n",
    "print(l1)"
   ]
  },
  {
   "cell_type": "code",
   "execution_count": 135,
   "metadata": {},
   "outputs": [
    {
     "name": "stdout",
     "output_type": "stream",
     "text": [
      "58\n",
      "Help on method randint in module random:\n",
      "\n",
      "randint(a, b) method of random.Random instance\n",
      "    Return random integer in range [a, b], including both end points.\n",
      "\n"
     ]
    }
   ],
   "source": [
    "print(random.randint(0,100))\n",
    "help(random.randint)"
   ]
  }
 ],
 "metadata": {
  "kernelspec": {
   "display_name": "Python 3",
   "language": "python",
   "name": "python3"
  },
  "language_info": {
   "codemirror_mode": {
    "name": "ipython",
    "version": 3
   },
   "file_extension": ".py",
   "mimetype": "text/x-python",
   "name": "python",
   "nbconvert_exporter": "python",
   "pygments_lexer": "ipython3",
   "version": "3.6.5"
  }
 },
 "nbformat": 4,
 "nbformat_minor": 2
}
